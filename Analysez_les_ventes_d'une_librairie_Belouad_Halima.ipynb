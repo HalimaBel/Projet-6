{
 "cells": [
  {
   "cell_type": "markdown",
   "id": "4c8d517b",
   "metadata": {},
   "source": [
    "# Projet 6: Analysez les ventes d'une librairie "
   ]
  },
  {
   "cell_type": "markdown",
   "id": "52857251",
   "metadata": {},
   "source": [
    "## 1. Imporatation des packages"
   ]
  },
  {
   "cell_type": "code",
   "execution_count": 1,
   "id": "64f64959",
   "metadata": {},
   "outputs": [],
   "source": [
    "import pandas as pd\n",
    "import numpy as np\n",
    "import matplotlib.pyplot as plt\n",
    "import seaborn as sns\n",
    "from datetime import datetime \n",
    "import scipy.stats as st\n",
    "import warnings\n",
    "warnings.filterwarnings(\"ignore\")"
   ]
  },
  {
   "cell_type": "markdown",
   "id": "e86431fd",
   "metadata": {},
   "source": [
    "## 2. Importation des fichiers csv"
   ]
  },
  {
   "cell_type": "code",
   "execution_count": 2,
   "id": "5531441b",
   "metadata": {},
   "outputs": [],
   "source": [
    "customers = pd.read_csv('customers.csv')\n",
    "products = pd.read_csv('products.csv')\n",
    "transactions = pd.read_csv('transactions.csv')"
   ]
  },
  {
   "cell_type": "markdown",
   "id": "97542cde",
   "metadata": {},
   "source": [
    "## 3. Exploration et nettoyage des DataFrames\n",
    "### 3.1 Exploration et nettoyage du DataFrame customers"
   ]
  },
  {
   "cell_type": "code",
   "execution_count": 3,
   "id": "c717c0d4",
   "metadata": {},
   "outputs": [
    {
     "data": {
      "text/html": [
       "<div>\n",
       "<style scoped>\n",
       "    .dataframe tbody tr th:only-of-type {\n",
       "        vertical-align: middle;\n",
       "    }\n",
       "\n",
       "    .dataframe tbody tr th {\n",
       "        vertical-align: top;\n",
       "    }\n",
       "\n",
       "    .dataframe thead th {\n",
       "        text-align: right;\n",
       "    }\n",
       "</style>\n",
       "<table border=\"1\" class=\"dataframe\">\n",
       "  <thead>\n",
       "    <tr style=\"text-align: right;\">\n",
       "      <th></th>\n",
       "      <th>client_id</th>\n",
       "      <th>sex</th>\n",
       "      <th>birth</th>\n",
       "    </tr>\n",
       "  </thead>\n",
       "  <tbody>\n",
       "    <tr>\n",
       "      <th>0</th>\n",
       "      <td>c_4410</td>\n",
       "      <td>f</td>\n",
       "      <td>1967</td>\n",
       "    </tr>\n",
       "    <tr>\n",
       "      <th>1</th>\n",
       "      <td>c_7839</td>\n",
       "      <td>f</td>\n",
       "      <td>1975</td>\n",
       "    </tr>\n",
       "    <tr>\n",
       "      <th>2</th>\n",
       "      <td>c_1699</td>\n",
       "      <td>f</td>\n",
       "      <td>1984</td>\n",
       "    </tr>\n",
       "    <tr>\n",
       "      <th>3</th>\n",
       "      <td>c_5961</td>\n",
       "      <td>f</td>\n",
       "      <td>1962</td>\n",
       "    </tr>\n",
       "    <tr>\n",
       "      <th>4</th>\n",
       "      <td>c_5320</td>\n",
       "      <td>m</td>\n",
       "      <td>1943</td>\n",
       "    </tr>\n",
       "  </tbody>\n",
       "</table>\n",
       "</div>"
      ],
      "text/plain": [
       "  client_id sex  birth\n",
       "0    c_4410   f   1967\n",
       "1    c_7839   f   1975\n",
       "2    c_1699   f   1984\n",
       "3    c_5961   f   1962\n",
       "4    c_5320   m   1943"
      ]
     },
     "execution_count": 3,
     "metadata": {},
     "output_type": "execute_result"
    }
   ],
   "source": [
    "customers.head()"
   ]
  },
  {
   "cell_type": "code",
   "execution_count": 4,
   "id": "e61238c1",
   "metadata": {},
   "outputs": [
    {
     "data": {
      "text/plain": [
       "(8623, 3)"
      ]
     },
     "execution_count": 4,
     "metadata": {},
     "output_type": "execute_result"
    }
   ],
   "source": [
    "customers.shape"
   ]
  },
  {
   "cell_type": "code",
   "execution_count": 5,
   "id": "2298938a",
   "metadata": {},
   "outputs": [
    {
     "data": {
      "text/plain": [
       "client_id    0\n",
       "sex          0\n",
       "birth        0\n",
       "dtype: int64"
      ]
     },
     "execution_count": 5,
     "metadata": {},
     "output_type": "execute_result"
    }
   ],
   "source": [
    "# J'affiche le nombre de valeurs manquantes par serie\n",
    "customers.isnull().sum()"
   ]
  },
  {
   "cell_type": "code",
   "execution_count": 6,
   "id": "375f6145",
   "metadata": {},
   "outputs": [
    {
     "data": {
      "text/plain": [
       "0"
      ]
     },
     "execution_count": 6,
     "metadata": {},
     "output_type": "execute_result"
    }
   ],
   "source": [
    "# Je vérifie s'il existe des doublons dans la serie 'client_id' autrement dit je vérifie l'unicité de la clé primaire\n",
    "customers['client_id'].duplicated().sum()"
   ]
  },
  {
   "cell_type": "code",
   "execution_count": 7,
   "id": "6edd781a",
   "metadata": {},
   "outputs": [
    {
     "data": {
      "text/plain": [
       "array(['f', 'm'], dtype=object)"
      ]
     },
     "execution_count": 7,
     "metadata": {},
     "output_type": "execute_result"
    }
   ],
   "source": [
    "customers['sex'].unique()"
   ]
  },
  {
   "cell_type": "code",
   "execution_count": 8,
   "id": "8d6cd877",
   "metadata": {},
   "outputs": [
    {
     "name": "stdout",
     "output_type": "stream",
     "text": [
      "<class 'pandas.core.frame.DataFrame'>\n",
      "RangeIndex: 8623 entries, 0 to 8622\n",
      "Data columns (total 3 columns):\n",
      " #   Column     Non-Null Count  Dtype \n",
      "---  ------     --------------  ----- \n",
      " 0   client_id  8623 non-null   object\n",
      " 1   sex        8623 non-null   object\n",
      " 2   birth      8623 non-null   int64 \n",
      "dtypes: int64(1), object(2)\n",
      "memory usage: 202.2+ KB\n"
     ]
    }
   ],
   "source": [
    "customers.info()"
   ]
  },
  {
   "cell_type": "code",
   "execution_count": 9,
   "id": "b5c45d19",
   "metadata": {},
   "outputs": [
    {
     "data": {
      "text/html": [
       "<div>\n",
       "<style scoped>\n",
       "    .dataframe tbody tr th:only-of-type {\n",
       "        vertical-align: middle;\n",
       "    }\n",
       "\n",
       "    .dataframe tbody tr th {\n",
       "        vertical-align: top;\n",
       "    }\n",
       "\n",
       "    .dataframe thead th {\n",
       "        text-align: right;\n",
       "    }\n",
       "</style>\n",
       "<table border=\"1\" class=\"dataframe\">\n",
       "  <thead>\n",
       "    <tr style=\"text-align: right;\">\n",
       "      <th></th>\n",
       "      <th>birth</th>\n",
       "    </tr>\n",
       "  </thead>\n",
       "  <tbody>\n",
       "    <tr>\n",
       "      <th>count</th>\n",
       "      <td>8623.000000</td>\n",
       "    </tr>\n",
       "    <tr>\n",
       "      <th>mean</th>\n",
       "      <td>1978.280877</td>\n",
       "    </tr>\n",
       "    <tr>\n",
       "      <th>std</th>\n",
       "      <td>16.919535</td>\n",
       "    </tr>\n",
       "    <tr>\n",
       "      <th>min</th>\n",
       "      <td>1929.000000</td>\n",
       "    </tr>\n",
       "    <tr>\n",
       "      <th>25%</th>\n",
       "      <td>1966.000000</td>\n",
       "    </tr>\n",
       "    <tr>\n",
       "      <th>50%</th>\n",
       "      <td>1979.000000</td>\n",
       "    </tr>\n",
       "    <tr>\n",
       "      <th>75%</th>\n",
       "      <td>1992.000000</td>\n",
       "    </tr>\n",
       "    <tr>\n",
       "      <th>max</th>\n",
       "      <td>2004.000000</td>\n",
       "    </tr>\n",
       "  </tbody>\n",
       "</table>\n",
       "</div>"
      ],
      "text/plain": [
       "             birth\n",
       "count  8623.000000\n",
       "mean   1978.280877\n",
       "std      16.919535\n",
       "min    1929.000000\n",
       "25%    1966.000000\n",
       "50%    1979.000000\n",
       "75%    1992.000000\n",
       "max    2004.000000"
      ]
     },
     "execution_count": 9,
     "metadata": {},
     "output_type": "execute_result"
    }
   ],
   "source": [
    "# Je vérifie s'il n'y à pas de valeurs aberrantes dans la serie 'birth'\n",
    "customers.describe()"
   ]
  },
  {
   "cell_type": "markdown",
   "id": "30492bea",
   "metadata": {},
   "source": [
    "#### Le DataFrame costumers comporte 3 series et 8623 individus, il n'y a pas de valeurs NAN ni et de doublons. la serie 'client_id' sera utiliser comme clé de jointure. Il n'y a pas de valeurs aberrantes dans la série 'birth'."
   ]
  },
  {
   "cell_type": "markdown",
   "id": "bfea7641",
   "metadata": {},
   "source": [
    "### 3.2 Exploration et nettoyage du DataFrame products"
   ]
  },
  {
   "cell_type": "code",
   "execution_count": 10,
   "id": "00791027",
   "metadata": {},
   "outputs": [
    {
     "data": {
      "text/html": [
       "<div>\n",
       "<style scoped>\n",
       "    .dataframe tbody tr th:only-of-type {\n",
       "        vertical-align: middle;\n",
       "    }\n",
       "\n",
       "    .dataframe tbody tr th {\n",
       "        vertical-align: top;\n",
       "    }\n",
       "\n",
       "    .dataframe thead th {\n",
       "        text-align: right;\n",
       "    }\n",
       "</style>\n",
       "<table border=\"1\" class=\"dataframe\">\n",
       "  <thead>\n",
       "    <tr style=\"text-align: right;\">\n",
       "      <th></th>\n",
       "      <th>id_prod</th>\n",
       "      <th>price</th>\n",
       "      <th>categ</th>\n",
       "    </tr>\n",
       "  </thead>\n",
       "  <tbody>\n",
       "    <tr>\n",
       "      <th>0</th>\n",
       "      <td>0_1421</td>\n",
       "      <td>19.99</td>\n",
       "      <td>0</td>\n",
       "    </tr>\n",
       "    <tr>\n",
       "      <th>1</th>\n",
       "      <td>0_1368</td>\n",
       "      <td>5.13</td>\n",
       "      <td>0</td>\n",
       "    </tr>\n",
       "    <tr>\n",
       "      <th>2</th>\n",
       "      <td>0_731</td>\n",
       "      <td>17.99</td>\n",
       "      <td>0</td>\n",
       "    </tr>\n",
       "    <tr>\n",
       "      <th>3</th>\n",
       "      <td>1_587</td>\n",
       "      <td>4.99</td>\n",
       "      <td>1</td>\n",
       "    </tr>\n",
       "    <tr>\n",
       "      <th>4</th>\n",
       "      <td>0_1507</td>\n",
       "      <td>3.99</td>\n",
       "      <td>0</td>\n",
       "    </tr>\n",
       "  </tbody>\n",
       "</table>\n",
       "</div>"
      ],
      "text/plain": [
       "  id_prod  price  categ\n",
       "0  0_1421  19.99      0\n",
       "1  0_1368   5.13      0\n",
       "2   0_731  17.99      0\n",
       "3   1_587   4.99      1\n",
       "4  0_1507   3.99      0"
      ]
     },
     "execution_count": 10,
     "metadata": {},
     "output_type": "execute_result"
    }
   ],
   "source": [
    "products.head()"
   ]
  },
  {
   "cell_type": "code",
   "execution_count": 11,
   "id": "91305635",
   "metadata": {},
   "outputs": [
    {
     "data": {
      "text/plain": [
       "(3287, 3)"
      ]
     },
     "execution_count": 11,
     "metadata": {},
     "output_type": "execute_result"
    }
   ],
   "source": [
    "products.shape"
   ]
  },
  {
   "cell_type": "code",
   "execution_count": 12,
   "id": "4caef9d0",
   "metadata": {},
   "outputs": [
    {
     "data": {
      "text/plain": [
       "id_prod    0\n",
       "price      0\n",
       "categ      0\n",
       "dtype: int64"
      ]
     },
     "execution_count": 12,
     "metadata": {},
     "output_type": "execute_result"
    }
   ],
   "source": [
    "# J'affiche le nombre de valeurs manquantes par serie\n",
    "products.isnull().sum()"
   ]
  },
  {
   "cell_type": "code",
   "execution_count": 13,
   "id": "8249afaa",
   "metadata": {},
   "outputs": [
    {
     "data": {
      "text/plain": [
       "0"
      ]
     },
     "execution_count": 13,
     "metadata": {},
     "output_type": "execute_result"
    }
   ],
   "source": [
    "# Je vérifie s'il existe des doublons dans la serie 'id_prod' autrement dit je vérifie l'unicité de la clé primaire\n",
    "products['id_prod'].duplicated().sum()"
   ]
  },
  {
   "cell_type": "code",
   "execution_count": 14,
   "id": "d76fee62",
   "metadata": {},
   "outputs": [
    {
     "data": {
      "text/plain": [
       "3"
      ]
     },
     "execution_count": 14,
     "metadata": {},
     "output_type": "execute_result"
    }
   ],
   "source": [
    "# J'affiche le nombre des differentes catégories\n",
    "products['categ'].nunique()"
   ]
  },
  {
   "cell_type": "code",
   "execution_count": 15,
   "id": "db2232ad",
   "metadata": {},
   "outputs": [
    {
     "data": {
      "text/plain": [
       "array([0, 1, 2], dtype=int64)"
      ]
     },
     "execution_count": 15,
     "metadata": {},
     "output_type": "execute_result"
    }
   ],
   "source": [
    "# J'affiche les differentes catégories \n",
    "products['categ'].unique()"
   ]
  },
  {
   "cell_type": "code",
   "execution_count": 16,
   "id": "09fd4a8f",
   "metadata": {},
   "outputs": [
    {
     "name": "stdout",
     "output_type": "stream",
     "text": [
      "<class 'pandas.core.frame.DataFrame'>\n",
      "RangeIndex: 3287 entries, 0 to 3286\n",
      "Data columns (total 3 columns):\n",
      " #   Column   Non-Null Count  Dtype  \n",
      "---  ------   --------------  -----  \n",
      " 0   id_prod  3287 non-null   object \n",
      " 1   price    3287 non-null   float64\n",
      " 2   categ    3287 non-null   int64  \n",
      "dtypes: float64(1), int64(1), object(1)\n",
      "memory usage: 77.2+ KB\n"
     ]
    }
   ],
   "source": [
    "products.info()"
   ]
  },
  {
   "cell_type": "code",
   "execution_count": 17,
   "id": "1f02f0cb",
   "metadata": {},
   "outputs": [
    {
     "name": "stdout",
     "output_type": "stream",
     "text": [
      "Le prix le plus bas est de -1.0 €.\n",
      "Le prix moyen est de 21.86 €.\n",
      "Le prix le plus élevé est de 300.0 €.\n"
     ]
    }
   ],
   "source": [
    "# J'affiche à present le prix minimum, moyen et maximum.\n",
    "print('Le prix le plus bas est de', round(products['price'].min(),2), '€.')\n",
    "print('Le prix moyen est de', round(products['price'].mean(),2), '€.')\n",
    "print('Le prix le plus élevé est de', round(products['price'].max(),2), '€.')"
   ]
  },
  {
   "cell_type": "code",
   "execution_count": 18,
   "id": "a1706ab3",
   "metadata": {},
   "outputs": [
    {
     "data": {
      "text/html": [
       "<div>\n",
       "<style scoped>\n",
       "    .dataframe tbody tr th:only-of-type {\n",
       "        vertical-align: middle;\n",
       "    }\n",
       "\n",
       "    .dataframe tbody tr th {\n",
       "        vertical-align: top;\n",
       "    }\n",
       "\n",
       "    .dataframe thead th {\n",
       "        text-align: right;\n",
       "    }\n",
       "</style>\n",
       "<table border=\"1\" class=\"dataframe\">\n",
       "  <thead>\n",
       "    <tr style=\"text-align: right;\">\n",
       "      <th></th>\n",
       "      <th>id_prod</th>\n",
       "      <th>price</th>\n",
       "      <th>categ</th>\n",
       "    </tr>\n",
       "  </thead>\n",
       "  <tbody>\n",
       "    <tr>\n",
       "      <th>731</th>\n",
       "      <td>T_0</td>\n",
       "      <td>-1.0</td>\n",
       "      <td>0</td>\n",
       "    </tr>\n",
       "  </tbody>\n",
       "</table>\n",
       "</div>"
      ],
      "text/plain": [
       "    id_prod  price  categ\n",
       "731     T_0   -1.0      0"
      ]
     },
     "execution_count": 18,
     "metadata": {},
     "output_type": "execute_result"
    }
   ],
   "source": [
    "# J'affiche les prix inferieur à 0.01\n",
    "products[products['price'] < 0.01 ]"
   ]
  },
  {
   "cell_type": "markdown",
   "id": "5e35bedb",
   "metadata": {},
   "source": [
    "#### Il y'a une une seule valeur négative, à creuser par la suite. "
   ]
  },
  {
   "cell_type": "code",
   "execution_count": 19,
   "id": "80073cbd",
   "metadata": {},
   "outputs": [
    {
     "name": "stdout",
     "output_type": "stream",
     "text": [
      "Le premier quartile est égale à 6.99\n",
      "Le deuxième quartile est égale à 13.06\n",
      "Le troisième quartile est égale à 22.99\n"
     ]
    }
   ],
   "source": [
    "# Je calcule les 3 quartiles : Q1, Q2 et Q3\n",
    "Q1 = round(products['price'].quantile(0.25),2)\n",
    "Q2 = round(products['price'].quantile(0.50),2) \n",
    "Q3 = round(products['price'].quantile(0.75),2)\n",
    "\n",
    "print('Le premier quartile est égale à', Q1)\n",
    "print('Le deuxième quartile est égale à', Q2)\n",
    "print('Le troisième quartile est égale à', Q3)"
   ]
  },
  {
   "cell_type": "code",
   "execution_count": 20,
   "id": "9fdebf48",
   "metadata": {},
   "outputs": [
    {
     "data": {
      "text/plain": [
       "count    3287.000000\n",
       "mean       21.856641\n",
       "std        29.847908\n",
       "min        -1.000000\n",
       "25%         6.990000\n",
       "50%        13.060000\n",
       "75%        22.990000\n",
       "max       300.000000\n",
       "Name: price, dtype: float64"
      ]
     },
     "execution_count": 20,
     "metadata": {},
     "output_type": "execute_result"
    }
   ],
   "source": [
    "products['price'].describe()"
   ]
  },
  {
   "cell_type": "markdown",
   "id": "1e6fd963",
   "metadata": {},
   "source": [
    "#### 1/4 des prix sont infèrieurs à 6.99 € ;\n",
    "\n",
    "#### 2/4 des prix sont infèrieures à 13.06 € et 2/4 sont supérieurs ( il s'agit ici de la médiane);\n",
    "\n",
    "#### 3/4 des prix sont infèrieures à 22.99 €."
   ]
  },
  {
   "cell_type": "code",
   "execution_count": 21,
   "id": "3b72ff3c",
   "metadata": {},
   "outputs": [
    {
     "name": "stdout",
     "output_type": "stream",
     "text": [
      "L'écart interquartile est égale à 16.0\n"
     ]
    }
   ],
   "source": [
    "# Je calcule l'écart interquartile\n",
    "IQ = round(Q3 - Q1,2)\n",
    "print('L\\'écart interquartile est égale à', IQ)"
   ]
  },
  {
   "cell_type": "code",
   "execution_count": 22,
   "id": "913457ee",
   "metadata": {},
   "outputs": [
    {
     "name": "stdout",
     "output_type": "stream",
     "text": [
      "La limite inférieure des outliers est de -17.01\n",
      "La limite supérieure des outliers est de 46.99\n"
     ]
    }
   ],
   "source": [
    "# Calcule des outliers\n",
    "outliers_inf =  round(Q1 - 1.5* IQ,2) \n",
    "outliers_sup =  round(Q3 + 1.5* IQ,2)\n",
    "print('La limite inférieure des outliers est de', outliers_inf)\n",
    "print('La limite supérieure des outliers est de', outliers_sup)"
   ]
  },
  {
   "cell_type": "code",
   "execution_count": 23,
   "id": "7a18f57f",
   "metadata": {},
   "outputs": [
    {
     "data": {
      "text/plain": [
       "id_prod    300\n",
       "price      300\n",
       "categ      300\n",
       "dtype: int64"
      ]
     },
     "execution_count": 23,
     "metadata": {},
     "output_type": "execute_result"
    }
   ],
   "source": [
    "# J'affiche la liste des valeures aberrantes (outliers)\n",
    "valeures_aberrantes = products.loc[products['price'] > 46.99, [ 'id_prod','price', 'categ']]\n",
    "valeures_aberrantes.count()"
   ]
  },
  {
   "cell_type": "code",
   "execution_count": 24,
   "id": "de795c0b",
   "metadata": {},
   "outputs": [
    {
     "data": {
      "text/html": [
       "<div>\n",
       "<style scoped>\n",
       "    .dataframe tbody tr th:only-of-type {\n",
       "        vertical-align: middle;\n",
       "    }\n",
       "\n",
       "    .dataframe tbody tr th {\n",
       "        vertical-align: top;\n",
       "    }\n",
       "\n",
       "    .dataframe thead th {\n",
       "        text-align: right;\n",
       "    }\n",
       "</style>\n",
       "<table border=\"1\" class=\"dataframe\">\n",
       "  <thead>\n",
       "    <tr style=\"text-align: right;\">\n",
       "      <th></th>\n",
       "      <th>id_prod</th>\n",
       "      <th>price</th>\n",
       "      <th>categ</th>\n",
       "    </tr>\n",
       "  </thead>\n",
       "  <tbody>\n",
       "    <tr>\n",
       "      <th>947</th>\n",
       "      <td>2_2</td>\n",
       "      <td>300.00</td>\n",
       "      <td>2</td>\n",
       "    </tr>\n",
       "    <tr>\n",
       "      <th>724</th>\n",
       "      <td>2_76</td>\n",
       "      <td>254.44</td>\n",
       "      <td>2</td>\n",
       "    </tr>\n",
       "    <tr>\n",
       "      <th>394</th>\n",
       "      <td>2_158</td>\n",
       "      <td>247.22</td>\n",
       "      <td>2</td>\n",
       "    </tr>\n",
       "    <tr>\n",
       "      <th>1436</th>\n",
       "      <td>2_167</td>\n",
       "      <td>236.99</td>\n",
       "      <td>2</td>\n",
       "    </tr>\n",
       "    <tr>\n",
       "      <th>2779</th>\n",
       "      <td>2_30</td>\n",
       "      <td>233.54</td>\n",
       "      <td>2</td>\n",
       "    </tr>\n",
       "  </tbody>\n",
       "</table>\n",
       "</div>"
      ],
      "text/plain": [
       "     id_prod   price  categ\n",
       "947      2_2  300.00      2\n",
       "724     2_76  254.44      2\n",
       "394    2_158  247.22      2\n",
       "1436   2_167  236.99      2\n",
       "2779    2_30  233.54      2"
      ]
     },
     "execution_count": 24,
     "metadata": {},
     "output_type": "execute_result"
    }
   ],
   "source": [
    "# J'affiche les 10 plus grandes valeurs aberrantes \n",
    "valeures_aberrantes.sort_values(by=['price'], ascending=False).head()"
   ]
  },
  {
   "cell_type": "markdown",
   "id": "598e1e03",
   "metadata": {},
   "source": [
    "#### Les valeurs vraisemblalment aberrantes les plus élevées sont toutes de catégorie 2."
   ]
  },
  {
   "cell_type": "code",
   "execution_count": 25,
   "id": "c8407a56",
   "metadata": {},
   "outputs": [
    {
     "data": {
      "image/png": "[encoded data removed]",
      "text/plain": [
       "<Figure size 1600x300 with 1 Axes>"
      ]
     },
     "metadata": {},
     "output_type": "display_data"
    }
   ],
   "source": [
    "# J'affiche les valeurs aberrantes dans une boîte à moustache\n",
    "figure = plt.figure(figsize = (16,3))\n",
    "products.boxplot(column='price', vert=False)\n",
    "plt.show()"
   ]
  },
  {
   "cell_type": "markdown",
   "id": "be2c98d2",
   "metadata": {},
   "source": [
    "#### Toutes les valeurs aberrantes sont représentées par les ronds noirs, elles ne sont pas incluent dans la boîte à moustache. Elles représentent toutes les valeurs supèrieures à 46.99 euros, qui est la limite supérieure des outliers. On remarque ici que la médiane est plus proche au Q1, donc elle est asymètrique étalée vers les grandes valeurs. "
   ]
  },
  {
   "cell_type": "markdown",
   "id": "04aa5c43",
   "metadata": {},
   "source": [
    "#### Le DataFrame products comporte 3 series et 3287 individus, il n'y a pas de valeurs NAN ni et de doublons. la serie 'id_prod' sera utiliser comme clé de jointure. Il y à des valeurs vraisembleblement aberrantes dans la série 'price', elle concernent la catégorie 2. "
   ]
  },
  {
   "cell_type": "markdown",
   "id": "1d11c031",
   "metadata": {},
   "source": [
    "### 3.3 Exploration et nettoyage du DataFrame transactions"
   ]
  },
  {
   "cell_type": "code",
   "execution_count": 26,
   "id": "fdb65c11",
   "metadata": {},
   "outputs": [
    {
     "data": {
      "text/html": [
       "<div>\n",
       "<style scoped>\n",
       "    .dataframe tbody tr th:only-of-type {\n",
       "        vertical-align: middle;\n",
       "    }\n",
       "\n",
       "    .dataframe tbody tr th {\n",
       "        vertical-align: top;\n",
       "    }\n",
       "\n",
       "    .dataframe thead th {\n",
       "        text-align: right;\n",
       "    }\n",
       "</style>\n",
       "<table border=\"1\" class=\"dataframe\">\n",
       "  <thead>\n",
       "    <tr style=\"text-align: right;\">\n",
       "      <th></th>\n",
       "      <th>id_prod</th>\n",
       "      <th>date</th>\n",
       "      <th>session_id</th>\n",
       "      <th>client_id</th>\n",
       "    </tr>\n",
       "  </thead>\n",
       "  <tbody>\n",
       "    <tr>\n",
       "      <th>0</th>\n",
       "      <td>0_1518</td>\n",
       "      <td>2022-05-20 13:21:29.043970</td>\n",
       "      <td>s_211425</td>\n",
       "      <td>c_103</td>\n",
       "    </tr>\n",
       "    <tr>\n",
       "      <th>1</th>\n",
       "      <td>1_251</td>\n",
       "      <td>2022-02-02 07:55:19.149409</td>\n",
       "      <td>s_158752</td>\n",
       "      <td>c_8534</td>\n",
       "    </tr>\n",
       "    <tr>\n",
       "      <th>2</th>\n",
       "      <td>0_1277</td>\n",
       "      <td>2022-06-18 15:44:33.155329</td>\n",
       "      <td>s_225667</td>\n",
       "      <td>c_6714</td>\n",
       "    </tr>\n",
       "    <tr>\n",
       "      <th>3</th>\n",
       "      <td>2_209</td>\n",
       "      <td>2021-06-24 04:19:29.835891</td>\n",
       "      <td>s_52962</td>\n",
       "      <td>c_6941</td>\n",
       "    </tr>\n",
       "    <tr>\n",
       "      <th>4</th>\n",
       "      <td>0_1509</td>\n",
       "      <td>2023-01-11 08:22:08.194479</td>\n",
       "      <td>s_325227</td>\n",
       "      <td>c_4232</td>\n",
       "    </tr>\n",
       "  </tbody>\n",
       "</table>\n",
       "</div>"
      ],
      "text/plain": [
       "  id_prod                        date session_id client_id\n",
       "0  0_1518  2022-05-20 13:21:29.043970   s_211425     c_103\n",
       "1   1_251  2022-02-02 07:55:19.149409   s_158752    c_8534\n",
       "2  0_1277  2022-06-18 15:44:33.155329   s_225667    c_6714\n",
       "3   2_209  2021-06-24 04:19:29.835891    s_52962    c_6941\n",
       "4  0_1509  2023-01-11 08:22:08.194479   s_325227    c_4232"
      ]
     },
     "execution_count": 26,
     "metadata": {},
     "output_type": "execute_result"
    }
   ],
   "source": [
    "transactions.head()"
   ]
  },
  {
   "cell_type": "code",
   "execution_count": 27,
   "id": "c39742dd",
   "metadata": {},
   "outputs": [
    {
     "data": {
      "text/plain": [
       "(679532, 4)"
      ]
     },
     "execution_count": 27,
     "metadata": {},
     "output_type": "execute_result"
    }
   ],
   "source": [
    "transactions.shape"
   ]
  },
  {
   "cell_type": "code",
   "execution_count": 28,
   "id": "d0d8f49b",
   "metadata": {},
   "outputs": [
    {
     "data": {
      "text/plain": [
       "id_prod       0\n",
       "date          0\n",
       "session_id    0\n",
       "client_id     0\n",
       "dtype: int64"
      ]
     },
     "execution_count": 28,
     "metadata": {},
     "output_type": "execute_result"
    }
   ],
   "source": [
    "# J'affiche le nombre de valeurs manquantes par serie\n",
    "transactions.isnull().sum()"
   ]
  },
  {
   "cell_type": "code",
   "execution_count": 29,
   "id": "ae3423ce",
   "metadata": {},
   "outputs": [
    {
     "data": {
      "text/plain": [
       "(679532, 4)"
      ]
     },
     "execution_count": 29,
     "metadata": {},
     "output_type": "execute_result"
    }
   ],
   "source": [
    "transactions.shape"
   ]
  },
  {
   "cell_type": "code",
   "execution_count": 30,
   "id": "9bddbebe",
   "metadata": {},
   "outputs": [
    {
     "data": {
      "text/html": [
       "<div>\n",
       "<style scoped>\n",
       "    .dataframe tbody tr th:only-of-type {\n",
       "        vertical-align: middle;\n",
       "    }\n",
       "\n",
       "    .dataframe tbody tr th {\n",
       "        vertical-align: top;\n",
       "    }\n",
       "\n",
       "    .dataframe thead th {\n",
       "        text-align: right;\n",
       "    }\n",
       "</style>\n",
       "<table border=\"1\" class=\"dataframe\">\n",
       "  <thead>\n",
       "    <tr style=\"text-align: right;\">\n",
       "      <th></th>\n",
       "      <th>id_prod</th>\n",
       "      <th>date</th>\n",
       "      <th>session_id</th>\n",
       "      <th>client_id</th>\n",
       "    </tr>\n",
       "  </thead>\n",
       "  <tbody>\n",
       "    <tr>\n",
       "      <th>275679</th>\n",
       "      <td>0_0</td>\n",
       "      <td>2023-01-05 14:27:50.296439</td>\n",
       "      <td>s_322405</td>\n",
       "      <td>c_1052</td>\n",
       "    </tr>\n",
       "    <tr>\n",
       "      <th>511318</th>\n",
       "      <td>0_0</td>\n",
       "      <td>2021-11-05 14:27:50.296439</td>\n",
       "      <td>s_115148</td>\n",
       "      <td>c_1052</td>\n",
       "    </tr>\n",
       "  </tbody>\n",
       "</table>\n",
       "</div>"
      ],
      "text/plain": [
       "       id_prod                        date session_id client_id\n",
       "275679     0_0  2023-01-05 14:27:50.296439   s_322405    c_1052\n",
       "511318     0_0  2021-11-05 14:27:50.296439   s_115148    c_1052"
      ]
     },
     "execution_count": 30,
     "metadata": {},
     "output_type": "execute_result"
    }
   ],
   "source": [
    "# # Je vérifie s'il existe des doublons dans le df en prenant les deux séries 'id_prod' et 'client_id\n",
    "# exemple 1\n",
    "transactions[(transactions['client_id'] == 'c_1052') & (transactions['id_prod'] == '0_0')]"
   ]
  },
  {
   "cell_type": "code",
   "execution_count": 31,
   "id": "f28a7005",
   "metadata": {},
   "outputs": [
    {
     "data": {
      "text/html": [
       "<div>\n",
       "<style scoped>\n",
       "    .dataframe tbody tr th:only-of-type {\n",
       "        vertical-align: middle;\n",
       "    }\n",
       "\n",
       "    .dataframe tbody tr th {\n",
       "        vertical-align: top;\n",
       "    }\n",
       "\n",
       "    .dataframe thead th {\n",
       "        text-align: right;\n",
       "    }\n",
       "</style>\n",
       "<table border=\"1\" class=\"dataframe\">\n",
       "  <thead>\n",
       "    <tr style=\"text-align: right;\">\n",
       "      <th></th>\n",
       "      <th>id_prod</th>\n",
       "      <th>date</th>\n",
       "      <th>session_id</th>\n",
       "      <th>client_id</th>\n",
       "    </tr>\n",
       "  </thead>\n",
       "  <tbody>\n",
       "    <tr>\n",
       "      <th>119953</th>\n",
       "      <td>2_99</td>\n",
       "      <td>2022-05-21 01:53:46.967570</td>\n",
       "      <td>s_211661</td>\n",
       "      <td>c_5828</td>\n",
       "    </tr>\n",
       "    <tr>\n",
       "      <th>174584</th>\n",
       "      <td>2_99</td>\n",
       "      <td>2021-11-21 01:53:46.967570</td>\n",
       "      <td>s_122697</td>\n",
       "      <td>c_5828</td>\n",
       "    </tr>\n",
       "    <tr>\n",
       "      <th>438075</th>\n",
       "      <td>2_99</td>\n",
       "      <td>2022-07-21 01:53:46.967570</td>\n",
       "      <td>s_241374</td>\n",
       "      <td>c_5828</td>\n",
       "    </tr>\n",
       "    <tr>\n",
       "      <th>678154</th>\n",
       "      <td>2_99</td>\n",
       "      <td>2023-01-21 01:53:46.967570</td>\n",
       "      <td>s_329932</td>\n",
       "      <td>c_5828</td>\n",
       "    </tr>\n",
       "  </tbody>\n",
       "</table>\n",
       "</div>"
      ],
      "text/plain": [
       "       id_prod                        date session_id client_id\n",
       "119953    2_99  2022-05-21 01:53:46.967570   s_211661    c_5828\n",
       "174584    2_99  2021-11-21 01:53:46.967570   s_122697    c_5828\n",
       "438075    2_99  2022-07-21 01:53:46.967570   s_241374    c_5828\n",
       "678154    2_99  2023-01-21 01:53:46.967570   s_329932    c_5828"
      ]
     },
     "execution_count": 31,
     "metadata": {},
     "output_type": "execute_result"
    }
   ],
   "source": [
    "# exemple 2\n",
    "transactions[(transactions['client_id'] == 'c_5828') & (transactions['id_prod'] == '2_99')]"
   ]
  },
  {
   "cell_type": "markdown",
   "id": "5885c07b",
   "metadata": {},
   "source": [
    "#### Les doublons dans la table transactions sont dus au fait qu'un client peu acheter plusieurs fois le même produit. Je ne supprime pas les doublons car la 'session_id' est différente."
   ]
  },
  {
   "cell_type": "code",
   "execution_count": 32,
   "id": "1a1fe4cd",
   "metadata": {},
   "outputs": [
    {
     "name": "stdout",
     "output_type": "stream",
     "text": [
      "<class 'pandas.core.frame.DataFrame'>\n",
      "RangeIndex: 679532 entries, 0 to 679531\n",
      "Data columns (total 4 columns):\n",
      " #   Column      Non-Null Count   Dtype \n",
      "---  ------      --------------   ----- \n",
      " 0   id_prod     679532 non-null  object\n",
      " 1   date        679532 non-null  object\n",
      " 2   session_id  679532 non-null  object\n",
      " 3   client_id   679532 non-null  object\n",
      "dtypes: object(4)\n",
      "memory usage: 20.7+ MB\n"
     ]
    }
   ],
   "source": [
    "transactions.info()"
   ]
  },
  {
   "cell_type": "markdown",
   "id": "7d0f9dc4",
   "metadata": {},
   "source": [
    "#### La date est de type objet, elle est à changer."
   ]
  },
  {
   "cell_type": "code",
   "execution_count": 33,
   "id": "f70b6e95",
   "metadata": {},
   "outputs": [
    {
     "data": {
      "text/html": [
       "<div>\n",
       "<style scoped>\n",
       "    .dataframe tbody tr th:only-of-type {\n",
       "        vertical-align: middle;\n",
       "    }\n",
       "\n",
       "    .dataframe tbody tr th {\n",
       "        vertical-align: top;\n",
       "    }\n",
       "\n",
       "    .dataframe thead th {\n",
       "        text-align: right;\n",
       "    }\n",
       "</style>\n",
       "<table border=\"1\" class=\"dataframe\">\n",
       "  <thead>\n",
       "    <tr style=\"text-align: right;\">\n",
       "      <th></th>\n",
       "      <th>id_prod</th>\n",
       "      <th>date</th>\n",
       "      <th>session_id</th>\n",
       "      <th>client_id</th>\n",
       "    </tr>\n",
       "  </thead>\n",
       "  <tbody>\n",
       "    <tr>\n",
       "      <th>count</th>\n",
       "      <td>679532</td>\n",
       "      <td>679532</td>\n",
       "      <td>679532</td>\n",
       "      <td>679532</td>\n",
       "    </tr>\n",
       "    <tr>\n",
       "      <th>unique</th>\n",
       "      <td>3267</td>\n",
       "      <td>679371</td>\n",
       "      <td>342316</td>\n",
       "      <td>8602</td>\n",
       "    </tr>\n",
       "    <tr>\n",
       "      <th>top</th>\n",
       "      <td>1_369</td>\n",
       "      <td>test_2021-03-01 02:30:02.237413</td>\n",
       "      <td>s_0</td>\n",
       "      <td>c_1609</td>\n",
       "    </tr>\n",
       "    <tr>\n",
       "      <th>freq</th>\n",
       "      <td>2252</td>\n",
       "      <td>13</td>\n",
       "      <td>200</td>\n",
       "      <td>25488</td>\n",
       "    </tr>\n",
       "  </tbody>\n",
       "</table>\n",
       "</div>"
      ],
      "text/plain": [
       "       id_prod                             date session_id client_id\n",
       "count   679532                           679532     679532    679532\n",
       "unique    3267                           679371     342316      8602\n",
       "top      1_369  test_2021-03-01 02:30:02.237413        s_0    c_1609\n",
       "freq      2252                               13        200     25488"
      ]
     },
     "execution_count": 33,
     "metadata": {},
     "output_type": "execute_result"
    }
   ],
   "source": [
    "transactions.describe()"
   ]
  },
  {
   "cell_type": "code",
   "execution_count": 34,
   "id": "9faf8808",
   "metadata": {},
   "outputs": [
    {
     "data": {
      "text/html": [
       "<div>\n",
       "<style scoped>\n",
       "    .dataframe tbody tr th:only-of-type {\n",
       "        vertical-align: middle;\n",
       "    }\n",
       "\n",
       "    .dataframe tbody tr th {\n",
       "        vertical-align: top;\n",
       "    }\n",
       "\n",
       "    .dataframe thead th {\n",
       "        text-align: right;\n",
       "    }\n",
       "</style>\n",
       "<table border=\"1\" class=\"dataframe\">\n",
       "  <thead>\n",
       "    <tr style=\"text-align: right;\">\n",
       "      <th></th>\n",
       "      <th>id_prod</th>\n",
       "      <th>date</th>\n",
       "      <th>session_id</th>\n",
       "      <th>client_id</th>\n",
       "    </tr>\n",
       "  </thead>\n",
       "  <tbody>\n",
       "    <tr>\n",
       "      <th>85486</th>\n",
       "      <td>T_0</td>\n",
       "      <td>test_2021-03-01 02:30:02.237413</td>\n",
       "      <td>s_0</td>\n",
       "      <td>ct_1</td>\n",
       "    </tr>\n",
       "    <tr>\n",
       "      <th>103119</th>\n",
       "      <td>T_0</td>\n",
       "      <td>test_2021-03-01 02:30:02.237413</td>\n",
       "      <td>s_0</td>\n",
       "      <td>ct_0</td>\n",
       "    </tr>\n",
       "    <tr>\n",
       "      <th>165314</th>\n",
       "      <td>T_0</td>\n",
       "      <td>test_2021-03-01 02:30:02.237413</td>\n",
       "      <td>s_0</td>\n",
       "      <td>ct_1</td>\n",
       "    </tr>\n",
       "    <tr>\n",
       "      <th>213273</th>\n",
       "      <td>T_0</td>\n",
       "      <td>test_2021-03-01 02:30:02.237413</td>\n",
       "      <td>s_0</td>\n",
       "      <td>ct_0</td>\n",
       "    </tr>\n",
       "    <tr>\n",
       "      <th>236225</th>\n",
       "      <td>T_0</td>\n",
       "      <td>test_2021-03-01 02:30:02.237413</td>\n",
       "      <td>s_0</td>\n",
       "      <td>ct_0</td>\n",
       "    </tr>\n",
       "    <tr>\n",
       "      <th>255856</th>\n",
       "      <td>T_0</td>\n",
       "      <td>test_2021-03-01 02:30:02.237413</td>\n",
       "      <td>s_0</td>\n",
       "      <td>ct_1</td>\n",
       "    </tr>\n",
       "    <tr>\n",
       "      <th>394969</th>\n",
       "      <td>T_0</td>\n",
       "      <td>test_2021-03-01 02:30:02.237413</td>\n",
       "      <td>s_0</td>\n",
       "      <td>ct_0</td>\n",
       "    </tr>\n",
       "    <tr>\n",
       "      <th>412584</th>\n",
       "      <td>T_0</td>\n",
       "      <td>test_2021-03-01 02:30:02.237413</td>\n",
       "      <td>s_0</td>\n",
       "      <td>ct_0</td>\n",
       "    </tr>\n",
       "    <tr>\n",
       "      <th>427604</th>\n",
       "      <td>T_0</td>\n",
       "      <td>test_2021-03-01 02:30:02.237413</td>\n",
       "      <td>s_0</td>\n",
       "      <td>ct_0</td>\n",
       "    </tr>\n",
       "    <tr>\n",
       "      <th>440821</th>\n",
       "      <td>T_0</td>\n",
       "      <td>test_2021-03-01 02:30:02.237413</td>\n",
       "      <td>s_0</td>\n",
       "      <td>ct_0</td>\n",
       "    </tr>\n",
       "    <tr>\n",
       "      <th>458295</th>\n",
       "      <td>T_0</td>\n",
       "      <td>test_2021-03-01 02:30:02.237413</td>\n",
       "      <td>s_0</td>\n",
       "      <td>ct_1</td>\n",
       "    </tr>\n",
       "    <tr>\n",
       "      <th>459137</th>\n",
       "      <td>T_0</td>\n",
       "      <td>test_2021-03-01 02:30:02.237413</td>\n",
       "      <td>s_0</td>\n",
       "      <td>ct_0</td>\n",
       "    </tr>\n",
       "    <tr>\n",
       "      <th>525579</th>\n",
       "      <td>T_0</td>\n",
       "      <td>test_2021-03-01 02:30:02.237413</td>\n",
       "      <td>s_0</td>\n",
       "      <td>ct_0</td>\n",
       "    </tr>\n",
       "  </tbody>\n",
       "</table>\n",
       "</div>"
      ],
      "text/plain": [
       "       id_prod                             date session_id client_id\n",
       "85486      T_0  test_2021-03-01 02:30:02.237413        s_0      ct_1\n",
       "103119     T_0  test_2021-03-01 02:30:02.237413        s_0      ct_0\n",
       "165314     T_0  test_2021-03-01 02:30:02.237413        s_0      ct_1\n",
       "213273     T_0  test_2021-03-01 02:30:02.237413        s_0      ct_0\n",
       "236225     T_0  test_2021-03-01 02:30:02.237413        s_0      ct_0\n",
       "255856     T_0  test_2021-03-01 02:30:02.237413        s_0      ct_1\n",
       "394969     T_0  test_2021-03-01 02:30:02.237413        s_0      ct_0\n",
       "412584     T_0  test_2021-03-01 02:30:02.237413        s_0      ct_0\n",
       "427604     T_0  test_2021-03-01 02:30:02.237413        s_0      ct_0\n",
       "440821     T_0  test_2021-03-01 02:30:02.237413        s_0      ct_0\n",
       "458295     T_0  test_2021-03-01 02:30:02.237413        s_0      ct_1\n",
       "459137     T_0  test_2021-03-01 02:30:02.237413        s_0      ct_0\n",
       "525579     T_0  test_2021-03-01 02:30:02.237413        s_0      ct_0"
      ]
     },
     "execution_count": 34,
     "metadata": {},
     "output_type": "execute_result"
    }
   ],
   "source": [
    "# J'affiche l'ensembe des informations de l'inddividu pour recupéré son 'id_prod'\n",
    "transactions[transactions['date'] == 'test_2021-03-01 02:30:02.237413']"
   ]
  },
  {
   "cell_type": "code",
   "execution_count": 35,
   "id": "a76d2b5c",
   "metadata": {},
   "outputs": [
    {
     "data": {
      "text/html": [
       "<div>\n",
       "<style scoped>\n",
       "    .dataframe tbody tr th:only-of-type {\n",
       "        vertical-align: middle;\n",
       "    }\n",
       "\n",
       "    .dataframe tbody tr th {\n",
       "        vertical-align: top;\n",
       "    }\n",
       "\n",
       "    .dataframe thead th {\n",
       "        text-align: right;\n",
       "    }\n",
       "</style>\n",
       "<table border=\"1\" class=\"dataframe\">\n",
       "  <thead>\n",
       "    <tr style=\"text-align: right;\">\n",
       "      <th></th>\n",
       "      <th>id_prod</th>\n",
       "      <th>date</th>\n",
       "      <th>session_id</th>\n",
       "      <th>client_id</th>\n",
       "    </tr>\n",
       "  </thead>\n",
       "  <tbody>\n",
       "    <tr>\n",
       "      <th>3019</th>\n",
       "      <td>T_0</td>\n",
       "      <td>test_2021-03-01 02:30:02.237419</td>\n",
       "      <td>s_0</td>\n",
       "      <td>ct_0</td>\n",
       "    </tr>\n",
       "    <tr>\n",
       "      <th>5138</th>\n",
       "      <td>T_0</td>\n",
       "      <td>test_2021-03-01 02:30:02.237425</td>\n",
       "      <td>s_0</td>\n",
       "      <td>ct_0</td>\n",
       "    </tr>\n",
       "    <tr>\n",
       "      <th>9668</th>\n",
       "      <td>T_0</td>\n",
       "      <td>test_2021-03-01 02:30:02.237437</td>\n",
       "      <td>s_0</td>\n",
       "      <td>ct_1</td>\n",
       "    </tr>\n",
       "    <tr>\n",
       "      <th>10728</th>\n",
       "      <td>T_0</td>\n",
       "      <td>test_2021-03-01 02:30:02.237436</td>\n",
       "      <td>s_0</td>\n",
       "      <td>ct_0</td>\n",
       "    </tr>\n",
       "    <tr>\n",
       "      <th>15292</th>\n",
       "      <td>T_0</td>\n",
       "      <td>test_2021-03-01 02:30:02.237430</td>\n",
       "      <td>s_0</td>\n",
       "      <td>ct_0</td>\n",
       "    </tr>\n",
       "    <tr>\n",
       "      <th>...</th>\n",
       "      <td>...</td>\n",
       "      <td>...</td>\n",
       "      <td>...</td>\n",
       "      <td>...</td>\n",
       "    </tr>\n",
       "    <tr>\n",
       "      <th>657830</th>\n",
       "      <td>T_0</td>\n",
       "      <td>test_2021-03-01 02:30:02.237417</td>\n",
       "      <td>s_0</td>\n",
       "      <td>ct_0</td>\n",
       "    </tr>\n",
       "    <tr>\n",
       "      <th>662081</th>\n",
       "      <td>T_0</td>\n",
       "      <td>test_2021-03-01 02:30:02.237427</td>\n",
       "      <td>s_0</td>\n",
       "      <td>ct_1</td>\n",
       "    </tr>\n",
       "    <tr>\n",
       "      <th>670680</th>\n",
       "      <td>T_0</td>\n",
       "      <td>test_2021-03-01 02:30:02.237449</td>\n",
       "      <td>s_0</td>\n",
       "      <td>ct_1</td>\n",
       "    </tr>\n",
       "    <tr>\n",
       "      <th>671647</th>\n",
       "      <td>T_0</td>\n",
       "      <td>test_2021-03-01 02:30:02.237424</td>\n",
       "      <td>s_0</td>\n",
       "      <td>ct_1</td>\n",
       "    </tr>\n",
       "    <tr>\n",
       "      <th>679180</th>\n",
       "      <td>T_0</td>\n",
       "      <td>test_2021-03-01 02:30:02.237425</td>\n",
       "      <td>s_0</td>\n",
       "      <td>ct_1</td>\n",
       "    </tr>\n",
       "  </tbody>\n",
       "</table>\n",
       "<p>200 rows × 4 columns</p>\n",
       "</div>"
      ],
      "text/plain": [
       "       id_prod                             date session_id client_id\n",
       "3019       T_0  test_2021-03-01 02:30:02.237419        s_0      ct_0\n",
       "5138       T_0  test_2021-03-01 02:30:02.237425        s_0      ct_0\n",
       "9668       T_0  test_2021-03-01 02:30:02.237437        s_0      ct_1\n",
       "10728      T_0  test_2021-03-01 02:30:02.237436        s_0      ct_0\n",
       "15292      T_0  test_2021-03-01 02:30:02.237430        s_0      ct_0\n",
       "...        ...                              ...        ...       ...\n",
       "657830     T_0  test_2021-03-01 02:30:02.237417        s_0      ct_0\n",
       "662081     T_0  test_2021-03-01 02:30:02.237427        s_0      ct_1\n",
       "670680     T_0  test_2021-03-01 02:30:02.237449        s_0      ct_1\n",
       "671647     T_0  test_2021-03-01 02:30:02.237424        s_0      ct_1\n",
       "679180     T_0  test_2021-03-01 02:30:02.237425        s_0      ct_1\n",
       "\n",
       "[200 rows x 4 columns]"
      ]
     },
     "execution_count": 35,
     "metadata": {},
     "output_type": "execute_result"
    }
   ],
   "source": [
    "# J'affiche l'ensemble des dates indiquand qu'il s'agit de tests en filtrant sur 'id_prod'\n",
    "transactions[transactions['id_prod'] == 'T_0' ]"
   ]
  },
  {
   "cell_type": "markdown",
   "id": "657e3db2",
   "metadata": {},
   "source": [
    "#### Dans la serie 'date' certains individus representent des tests, ils sont donc à supprimer. "
   ]
  },
  {
   "cell_type": "code",
   "execution_count": 36,
   "id": "130fc486",
   "metadata": {},
   "outputs": [],
   "source": [
    "# Je supprime ces  200 observations \n",
    "transactions.drop(transactions[transactions['id_prod'] == 'T_0'].index, inplace=True)"
   ]
  },
  {
   "cell_type": "code",
   "execution_count": 37,
   "id": "4b37037e",
   "metadata": {},
   "outputs": [],
   "source": [
    "transactions['date'] = pd.to_datetime(transactions['date']).dt.date"
   ]
  },
  {
   "cell_type": "code",
   "execution_count": 38,
   "id": "aeafd960",
   "metadata": {},
   "outputs": [
    {
     "data": {
      "text/html": [
       "<div>\n",
       "<style scoped>\n",
       "    .dataframe tbody tr th:only-of-type {\n",
       "        vertical-align: middle;\n",
       "    }\n",
       "\n",
       "    .dataframe tbody tr th {\n",
       "        vertical-align: top;\n",
       "    }\n",
       "\n",
       "    .dataframe thead th {\n",
       "        text-align: right;\n",
       "    }\n",
       "</style>\n",
       "<table border=\"1\" class=\"dataframe\">\n",
       "  <thead>\n",
       "    <tr style=\"text-align: right;\">\n",
       "      <th></th>\n",
       "      <th>id_prod</th>\n",
       "      <th>date</th>\n",
       "      <th>session_id</th>\n",
       "      <th>client_id</th>\n",
       "    </tr>\n",
       "  </thead>\n",
       "  <tbody>\n",
       "    <tr>\n",
       "      <th>0</th>\n",
       "      <td>0_1518</td>\n",
       "      <td>2022-05-20</td>\n",
       "      <td>s_211425</td>\n",
       "      <td>c_103</td>\n",
       "    </tr>\n",
       "    <tr>\n",
       "      <th>1</th>\n",
       "      <td>1_251</td>\n",
       "      <td>2022-02-02</td>\n",
       "      <td>s_158752</td>\n",
       "      <td>c_8534</td>\n",
       "    </tr>\n",
       "    <tr>\n",
       "      <th>2</th>\n",
       "      <td>0_1277</td>\n",
       "      <td>2022-06-18</td>\n",
       "      <td>s_225667</td>\n",
       "      <td>c_6714</td>\n",
       "    </tr>\n",
       "    <tr>\n",
       "      <th>3</th>\n",
       "      <td>2_209</td>\n",
       "      <td>2021-06-24</td>\n",
       "      <td>s_52962</td>\n",
       "      <td>c_6941</td>\n",
       "    </tr>\n",
       "    <tr>\n",
       "      <th>4</th>\n",
       "      <td>0_1509</td>\n",
       "      <td>2023-01-11</td>\n",
       "      <td>s_325227</td>\n",
       "      <td>c_4232</td>\n",
       "    </tr>\n",
       "  </tbody>\n",
       "</table>\n",
       "</div>"
      ],
      "text/plain": [
       "  id_prod       date session_id client_id\n",
       "0  0_1518 2022-05-20   s_211425     c_103\n",
       "1   1_251 2022-02-02   s_158752    c_8534\n",
       "2  0_1277 2022-06-18   s_225667    c_6714\n",
       "3   2_209 2021-06-24    s_52962    c_6941\n",
       "4  0_1509 2023-01-11   s_325227    c_4232"
      ]
     },
     "execution_count": 38,
     "metadata": {},
     "output_type": "execute_result"
    }
   ],
   "source": [
    "# Je convertis la serie 'date' en un objet datetime en gardant l'année le mois et le jour\n",
    "transactions['date'] = pd.to_datetime(transactions['date'], format ='%Y-%m-%d')\n",
    "transactions.head()"
   ]
  },
  {
   "cell_type": "code",
   "execution_count": 39,
   "id": "c3afa102",
   "metadata": {},
   "outputs": [
    {
     "data": {
      "text/plain": [
       "(679332, 4)"
      ]
     },
     "execution_count": 39,
     "metadata": {},
     "output_type": "execute_result"
    }
   ],
   "source": [
    "transactions.shape"
   ]
  },
  {
   "cell_type": "markdown",
   "id": "7ed09c63",
   "metadata": {},
   "source": [
    "#### Le DataFrame transactions comporte 4 series et 679332 individus, et ne contient pas de valeurs NAN. "
   ]
  },
  {
   "cell_type": "markdown",
   "id": "aec36366",
   "metadata": {},
   "source": [
    "## 4. Jointure des DataFrames\n",
    "\n",
    "### 4.1 Jointure du DataFrame customers au DateFrame transactions"
   ]
  },
  {
   "cell_type": "code",
   "execution_count": 40,
   "id": "42584cbc",
   "metadata": {},
   "outputs": [
    {
     "data": {
      "text/html": [
       "<div>\n",
       "<style scoped>\n",
       "    .dataframe tbody tr th:only-of-type {\n",
       "        vertical-align: middle;\n",
       "    }\n",
       "\n",
       "    .dataframe tbody tr th {\n",
       "        vertical-align: top;\n",
       "    }\n",
       "\n",
       "    .dataframe thead th {\n",
       "        text-align: right;\n",
       "    }\n",
       "</style>\n",
       "<table border=\"1\" class=\"dataframe\">\n",
       "  <thead>\n",
       "    <tr style=\"text-align: right;\">\n",
       "      <th></th>\n",
       "      <th>client_id</th>\n",
       "      <th>sex</th>\n",
       "      <th>birth</th>\n",
       "      <th>id_prod</th>\n",
       "      <th>date</th>\n",
       "      <th>session_id</th>\n",
       "      <th>_merge</th>\n",
       "    </tr>\n",
       "  </thead>\n",
       "  <tbody>\n",
       "    <tr>\n",
       "      <th>0</th>\n",
       "      <td>c_4410</td>\n",
       "      <td>f</td>\n",
       "      <td>1967</td>\n",
       "      <td>0_1316</td>\n",
       "      <td>2021-12-29</td>\n",
       "      <td>s_141762</td>\n",
       "      <td>both</td>\n",
       "    </tr>\n",
       "    <tr>\n",
       "      <th>1</th>\n",
       "      <td>c_4410</td>\n",
       "      <td>f</td>\n",
       "      <td>1967</td>\n",
       "      <td>1_385</td>\n",
       "      <td>2021-03-22</td>\n",
       "      <td>s_9707</td>\n",
       "      <td>both</td>\n",
       "    </tr>\n",
       "    <tr>\n",
       "      <th>2</th>\n",
       "      <td>c_4410</td>\n",
       "      <td>f</td>\n",
       "      <td>1967</td>\n",
       "      <td>1_190</td>\n",
       "      <td>2021-11-12</td>\n",
       "      <td>s_118628</td>\n",
       "      <td>both</td>\n",
       "    </tr>\n",
       "    <tr>\n",
       "      <th>3</th>\n",
       "      <td>c_4410</td>\n",
       "      <td>f</td>\n",
       "      <td>1967</td>\n",
       "      <td>0_1455</td>\n",
       "      <td>2021-03-22</td>\n",
       "      <td>s_9942</td>\n",
       "      <td>both</td>\n",
       "    </tr>\n",
       "    <tr>\n",
       "      <th>4</th>\n",
       "      <td>c_4410</td>\n",
       "      <td>f</td>\n",
       "      <td>1967</td>\n",
       "      <td>1_483</td>\n",
       "      <td>2022-03-13</td>\n",
       "      <td>s_178686</td>\n",
       "      <td>both</td>\n",
       "    </tr>\n",
       "  </tbody>\n",
       "</table>\n",
       "</div>"
      ],
      "text/plain": [
       "  client_id sex  birth id_prod       date session_id _merge\n",
       "0    c_4410   f   1967  0_1316 2021-12-29   s_141762   both\n",
       "1    c_4410   f   1967   1_385 2021-03-22     s_9707   both\n",
       "2    c_4410   f   1967   1_190 2021-11-12   s_118628   both\n",
       "3    c_4410   f   1967  0_1455 2021-03-22     s_9942   both\n",
       "4    c_4410   f   1967   1_483 2022-03-13   s_178686   both"
      ]
     },
     "execution_count": 40,
     "metadata": {},
     "output_type": "execute_result"
    }
   ],
   "source": [
    "# 1- Je joins le df customers au df transactions en utilsant comme clé de jointure 'client_id' et je l'affiche  \n",
    "data = pd.merge(customers, transactions, on='client_id', how='outer',  indicator= True)\n",
    "data.head() "
   ]
  },
  {
   "cell_type": "code",
   "execution_count": 41,
   "id": "c4849925",
   "metadata": {},
   "outputs": [
    {
     "data": {
      "text/html": [
       "<div>\n",
       "<style scoped>\n",
       "    .dataframe tbody tr th:only-of-type {\n",
       "        vertical-align: middle;\n",
       "    }\n",
       "\n",
       "    .dataframe tbody tr th {\n",
       "        vertical-align: top;\n",
       "    }\n",
       "\n",
       "    .dataframe thead th {\n",
       "        text-align: right;\n",
       "    }\n",
       "</style>\n",
       "<table border=\"1\" class=\"dataframe\">\n",
       "  <thead>\n",
       "    <tr style=\"text-align: right;\">\n",
       "      <th></th>\n",
       "      <th>client_id</th>\n",
       "      <th>sex</th>\n",
       "      <th>birth</th>\n",
       "      <th>id_prod</th>\n",
       "      <th>date</th>\n",
       "      <th>session_id</th>\n",
       "      <th>_merge</th>\n",
       "      <th>year</th>\n",
       "      <th>month</th>\n",
       "      <th>day</th>\n",
       "    </tr>\n",
       "  </thead>\n",
       "  <tbody>\n",
       "    <tr>\n",
       "      <th>0</th>\n",
       "      <td>c_4410</td>\n",
       "      <td>f</td>\n",
       "      <td>1967</td>\n",
       "      <td>0_1316</td>\n",
       "      <td>2021-12-29</td>\n",
       "      <td>s_141762</td>\n",
       "      <td>both</td>\n",
       "      <td>2021.0</td>\n",
       "      <td>12.0</td>\n",
       "      <td>29.0</td>\n",
       "    </tr>\n",
       "    <tr>\n",
       "      <th>1</th>\n",
       "      <td>c_4410</td>\n",
       "      <td>f</td>\n",
       "      <td>1967</td>\n",
       "      <td>1_385</td>\n",
       "      <td>2021-03-22</td>\n",
       "      <td>s_9707</td>\n",
       "      <td>both</td>\n",
       "      <td>2021.0</td>\n",
       "      <td>3.0</td>\n",
       "      <td>22.0</td>\n",
       "    </tr>\n",
       "    <tr>\n",
       "      <th>2</th>\n",
       "      <td>c_4410</td>\n",
       "      <td>f</td>\n",
       "      <td>1967</td>\n",
       "      <td>1_190</td>\n",
       "      <td>2021-11-12</td>\n",
       "      <td>s_118628</td>\n",
       "      <td>both</td>\n",
       "      <td>2021.0</td>\n",
       "      <td>11.0</td>\n",
       "      <td>12.0</td>\n",
       "    </tr>\n",
       "    <tr>\n",
       "      <th>3</th>\n",
       "      <td>c_4410</td>\n",
       "      <td>f</td>\n",
       "      <td>1967</td>\n",
       "      <td>0_1455</td>\n",
       "      <td>2021-03-22</td>\n",
       "      <td>s_9942</td>\n",
       "      <td>both</td>\n",
       "      <td>2021.0</td>\n",
       "      <td>3.0</td>\n",
       "      <td>22.0</td>\n",
       "    </tr>\n",
       "    <tr>\n",
       "      <th>4</th>\n",
       "      <td>c_4410</td>\n",
       "      <td>f</td>\n",
       "      <td>1967</td>\n",
       "      <td>1_483</td>\n",
       "      <td>2022-03-13</td>\n",
       "      <td>s_178686</td>\n",
       "      <td>both</td>\n",
       "      <td>2022.0</td>\n",
       "      <td>3.0</td>\n",
       "      <td>13.0</td>\n",
       "    </tr>\n",
       "  </tbody>\n",
       "</table>\n",
       "</div>"
      ],
      "text/plain": [
       "  client_id sex  birth id_prod       date session_id _merge    year  month  \\\n",
       "0    c_4410   f   1967  0_1316 2021-12-29   s_141762   both  2021.0   12.0   \n",
       "1    c_4410   f   1967   1_385 2021-03-22     s_9707   both  2021.0    3.0   \n",
       "2    c_4410   f   1967   1_190 2021-11-12   s_118628   both  2021.0   11.0   \n",
       "3    c_4410   f   1967  0_1455 2021-03-22     s_9942   both  2021.0    3.0   \n",
       "4    c_4410   f   1967   1_483 2022-03-13   s_178686   both  2022.0    3.0   \n",
       "\n",
       "    day  \n",
       "0  29.0  \n",
       "1  22.0  \n",
       "2  12.0  \n",
       "3  22.0  \n",
       "4  13.0  "
      ]
     },
     "execution_count": 41,
     "metadata": {},
     "output_type": "execute_result"
    }
   ],
   "source": [
    "# Je crée les serie 'year' 'month' and 'day'\n",
    "data['year'] = data['date'].dt.year\n",
    "data['month'] = data['date'].dt.month\n",
    "data['day'] = data['date'].dt.day\n",
    "data.head()"
   ]
  },
  {
   "cell_type": "code",
   "execution_count": 42,
   "id": "cdfd335f",
   "metadata": {},
   "outputs": [
    {
     "data": {
      "text/plain": [
       "both          679332\n",
       "left_only         23\n",
       "right_only         0\n",
       "Name: _merge, dtype: int64"
      ]
     },
     "execution_count": 42,
     "metadata": {},
     "output_type": "execute_result"
    }
   ],
   "source": [
    "# J'affiche combien d'individus on matché \n",
    "data['_merge'].value_counts()"
   ]
  },
  {
   "cell_type": "code",
   "execution_count": 43,
   "id": "07186738",
   "metadata": {},
   "outputs": [
    {
     "data": {
      "text/html": [
       "<div>\n",
       "<style scoped>\n",
       "    .dataframe tbody tr th:only-of-type {\n",
       "        vertical-align: middle;\n",
       "    }\n",
       "\n",
       "    .dataframe tbody tr th {\n",
       "        vertical-align: top;\n",
       "    }\n",
       "\n",
       "    .dataframe thead th {\n",
       "        text-align: right;\n",
       "    }\n",
       "</style>\n",
       "<table border=\"1\" class=\"dataframe\">\n",
       "  <thead>\n",
       "    <tr style=\"text-align: right;\">\n",
       "      <th></th>\n",
       "      <th>client_id</th>\n",
       "      <th>sex</th>\n",
       "      <th>birth</th>\n",
       "      <th>id_prod</th>\n",
       "      <th>date</th>\n",
       "      <th>session_id</th>\n",
       "      <th>_merge</th>\n",
       "      <th>year</th>\n",
       "      <th>month</th>\n",
       "      <th>day</th>\n",
       "    </tr>\n",
       "  </thead>\n",
       "  <tbody>\n",
       "    <tr>\n",
       "      <th>59493</th>\n",
       "      <td>c_8253</td>\n",
       "      <td>f</td>\n",
       "      <td>2001</td>\n",
       "      <td>NaN</td>\n",
       "      <td>NaT</td>\n",
       "      <td>NaN</td>\n",
       "      <td>left_only</td>\n",
       "      <td>NaN</td>\n",
       "      <td>NaN</td>\n",
       "      <td>NaN</td>\n",
       "    </tr>\n",
       "    <tr>\n",
       "      <th>200286</th>\n",
       "      <td>c_3789</td>\n",
       "      <td>f</td>\n",
       "      <td>1997</td>\n",
       "      <td>NaN</td>\n",
       "      <td>NaT</td>\n",
       "      <td>NaN</td>\n",
       "      <td>left_only</td>\n",
       "      <td>NaN</td>\n",
       "      <td>NaN</td>\n",
       "      <td>NaN</td>\n",
       "    </tr>\n",
       "    <tr>\n",
       "      <th>218173</th>\n",
       "      <td>c_4406</td>\n",
       "      <td>f</td>\n",
       "      <td>1998</td>\n",
       "      <td>NaN</td>\n",
       "      <td>NaT</td>\n",
       "      <td>NaN</td>\n",
       "      <td>left_only</td>\n",
       "      <td>NaN</td>\n",
       "      <td>NaN</td>\n",
       "      <td>NaN</td>\n",
       "    </tr>\n",
       "    <tr>\n",
       "      <th>218174</th>\n",
       "      <td>ct_0</td>\n",
       "      <td>f</td>\n",
       "      <td>2001</td>\n",
       "      <td>NaN</td>\n",
       "      <td>NaT</td>\n",
       "      <td>NaN</td>\n",
       "      <td>left_only</td>\n",
       "      <td>NaN</td>\n",
       "      <td>NaN</td>\n",
       "      <td>NaN</td>\n",
       "    </tr>\n",
       "    <tr>\n",
       "      <th>220389</th>\n",
       "      <td>c_2706</td>\n",
       "      <td>f</td>\n",
       "      <td>1967</td>\n",
       "      <td>NaN</td>\n",
       "      <td>NaT</td>\n",
       "      <td>NaN</td>\n",
       "      <td>left_only</td>\n",
       "      <td>NaN</td>\n",
       "      <td>NaN</td>\n",
       "      <td>NaN</td>\n",
       "    </tr>\n",
       "  </tbody>\n",
       "</table>\n",
       "</div>"
      ],
      "text/plain": [
       "       client_id sex  birth id_prod date session_id     _merge  year  month  \\\n",
       "59493     c_8253   f   2001     NaN  NaT        NaN  left_only   NaN    NaN   \n",
       "200286    c_3789   f   1997     NaN  NaT        NaN  left_only   NaN    NaN   \n",
       "218173    c_4406   f   1998     NaN  NaT        NaN  left_only   NaN    NaN   \n",
       "218174      ct_0   f   2001     NaN  NaT        NaN  left_only   NaN    NaN   \n",
       "220389    c_2706   f   1967     NaN  NaT        NaN  left_only   NaN    NaN   \n",
       "\n",
       "        day  \n",
       "59493   NaN  \n",
       "200286  NaN  \n",
       "218173  NaN  \n",
       "218174  NaN  \n",
       "220389  NaN  "
      ]
     },
     "execution_count": 43,
     "metadata": {},
     "output_type": "execute_result"
    }
   ],
   "source": [
    "# J'affiche les 23 qui n'ont pas mergé \n",
    "left_only = data[data['_merge'] == 'left_only']\n",
    "left_only.head() "
   ]
  },
  {
   "cell_type": "markdown",
   "id": "11e87d19",
   "metadata": {},
   "source": [
    "#### Les 23 observations n'ont pas mérgé car il y'a des NAN dans les 'id_prod', 'date' et 'session_id'. Cela peut être du à une erreur des saisies."
   ]
  },
  {
   "cell_type": "code",
   "execution_count": 44,
   "id": "ceb73ba7",
   "metadata": {},
   "outputs": [],
   "source": [
    "# Je crée le df sans les 23 individus qui n'ont pas mérgé\n",
    "data = data[data['_merge']== 'both']"
   ]
  },
  {
   "cell_type": "code",
   "execution_count": 45,
   "id": "45f6ebf8",
   "metadata": {},
   "outputs": [
    {
     "data": {
      "text/plain": [
       "both          679332\n",
       "left_only          0\n",
       "right_only         0\n",
       "Name: _merge, dtype: int64"
      ]
     },
     "execution_count": 45,
     "metadata": {},
     "output_type": "execute_result"
    }
   ],
   "source": [
    "# J'affiche à nouveau le résultat \n",
    "data['_merge'].value_counts()"
   ]
  },
  {
   "cell_type": "code",
   "execution_count": 46,
   "id": "189f04da",
   "metadata": {},
   "outputs": [
    {
     "data": {
      "text/html": [
       "<div>\n",
       "<style scoped>\n",
       "    .dataframe tbody tr th:only-of-type {\n",
       "        vertical-align: middle;\n",
       "    }\n",
       "\n",
       "    .dataframe tbody tr th {\n",
       "        vertical-align: top;\n",
       "    }\n",
       "\n",
       "    .dataframe thead th {\n",
       "        text-align: right;\n",
       "    }\n",
       "</style>\n",
       "<table border=\"1\" class=\"dataframe\">\n",
       "  <thead>\n",
       "    <tr style=\"text-align: right;\">\n",
       "      <th></th>\n",
       "      <th>client_id</th>\n",
       "      <th>sex</th>\n",
       "      <th>birth</th>\n",
       "      <th>id_prod</th>\n",
       "      <th>date</th>\n",
       "      <th>session_id</th>\n",
       "      <th>year</th>\n",
       "      <th>month</th>\n",
       "      <th>day</th>\n",
       "    </tr>\n",
       "  </thead>\n",
       "  <tbody>\n",
       "    <tr>\n",
       "      <th>0</th>\n",
       "      <td>c_4410</td>\n",
       "      <td>f</td>\n",
       "      <td>1967</td>\n",
       "      <td>0_1316</td>\n",
       "      <td>2021-12-29</td>\n",
       "      <td>s_141762</td>\n",
       "      <td>2021.0</td>\n",
       "      <td>12.0</td>\n",
       "      <td>29.0</td>\n",
       "    </tr>\n",
       "    <tr>\n",
       "      <th>1</th>\n",
       "      <td>c_4410</td>\n",
       "      <td>f</td>\n",
       "      <td>1967</td>\n",
       "      <td>1_385</td>\n",
       "      <td>2021-03-22</td>\n",
       "      <td>s_9707</td>\n",
       "      <td>2021.0</td>\n",
       "      <td>3.0</td>\n",
       "      <td>22.0</td>\n",
       "    </tr>\n",
       "    <tr>\n",
       "      <th>2</th>\n",
       "      <td>c_4410</td>\n",
       "      <td>f</td>\n",
       "      <td>1967</td>\n",
       "      <td>1_190</td>\n",
       "      <td>2021-11-12</td>\n",
       "      <td>s_118628</td>\n",
       "      <td>2021.0</td>\n",
       "      <td>11.0</td>\n",
       "      <td>12.0</td>\n",
       "    </tr>\n",
       "    <tr>\n",
       "      <th>3</th>\n",
       "      <td>c_4410</td>\n",
       "      <td>f</td>\n",
       "      <td>1967</td>\n",
       "      <td>0_1455</td>\n",
       "      <td>2021-03-22</td>\n",
       "      <td>s_9942</td>\n",
       "      <td>2021.0</td>\n",
       "      <td>3.0</td>\n",
       "      <td>22.0</td>\n",
       "    </tr>\n",
       "    <tr>\n",
       "      <th>4</th>\n",
       "      <td>c_4410</td>\n",
       "      <td>f</td>\n",
       "      <td>1967</td>\n",
       "      <td>1_483</td>\n",
       "      <td>2022-03-13</td>\n",
       "      <td>s_178686</td>\n",
       "      <td>2022.0</td>\n",
       "      <td>3.0</td>\n",
       "      <td>13.0</td>\n",
       "    </tr>\n",
       "  </tbody>\n",
       "</table>\n",
       "</div>"
      ],
      "text/plain": [
       "  client_id sex  birth id_prod       date session_id    year  month   day\n",
       "0    c_4410   f   1967  0_1316 2021-12-29   s_141762  2021.0   12.0  29.0\n",
       "1    c_4410   f   1967   1_385 2021-03-22     s_9707  2021.0    3.0  22.0\n",
       "2    c_4410   f   1967   1_190 2021-11-12   s_118628  2021.0   11.0  12.0\n",
       "3    c_4410   f   1967  0_1455 2021-03-22     s_9942  2021.0    3.0  22.0\n",
       "4    c_4410   f   1967   1_483 2022-03-13   s_178686  2022.0    3.0  13.0"
      ]
     },
     "execution_count": 46,
     "metadata": {},
     "output_type": "execute_result"
    }
   ],
   "source": [
    "# Je supprime l'indicator après analyse pour ne pas qu'il me pose de problème lors de la seconde jointure\n",
    "data = data.drop('_merge', axis=1)\n",
    "data.head()"
   ]
  },
  {
   "cell_type": "markdown",
   "id": "4e333d71",
   "metadata": {},
   "source": [
    "### 4.2 Jointure du DataFrame data au DateFrame products"
   ]
  },
  {
   "cell_type": "code",
   "execution_count": 47,
   "id": "b4b8883e",
   "metadata": {},
   "outputs": [
    {
     "data": {
      "text/html": [
       "<div>\n",
       "<style scoped>\n",
       "    .dataframe tbody tr th:only-of-type {\n",
       "        vertical-align: middle;\n",
       "    }\n",
       "\n",
       "    .dataframe tbody tr th {\n",
       "        vertical-align: top;\n",
       "    }\n",
       "\n",
       "    .dataframe thead th {\n",
       "        text-align: right;\n",
       "    }\n",
       "</style>\n",
       "<table border=\"1\" class=\"dataframe\">\n",
       "  <thead>\n",
       "    <tr style=\"text-align: right;\">\n",
       "      <th></th>\n",
       "      <th>client_id</th>\n",
       "      <th>sex</th>\n",
       "      <th>birth</th>\n",
       "      <th>id_prod</th>\n",
       "      <th>date</th>\n",
       "      <th>session_id</th>\n",
       "      <th>year</th>\n",
       "      <th>month</th>\n",
       "      <th>day</th>\n",
       "      <th>price</th>\n",
       "      <th>categ</th>\n",
       "      <th>_merge</th>\n",
       "    </tr>\n",
       "  </thead>\n",
       "  <tbody>\n",
       "    <tr>\n",
       "      <th>0</th>\n",
       "      <td>c_4410</td>\n",
       "      <td>f</td>\n",
       "      <td>1967.0</td>\n",
       "      <td>0_1316</td>\n",
       "      <td>2021-12-29</td>\n",
       "      <td>s_141762</td>\n",
       "      <td>2021.0</td>\n",
       "      <td>12.0</td>\n",
       "      <td>29.0</td>\n",
       "      <td>7.2</td>\n",
       "      <td>0.0</td>\n",
       "      <td>both</td>\n",
       "    </tr>\n",
       "    <tr>\n",
       "      <th>1</th>\n",
       "      <td>c_4410</td>\n",
       "      <td>f</td>\n",
       "      <td>1967.0</td>\n",
       "      <td>0_1316</td>\n",
       "      <td>2022-03-29</td>\n",
       "      <td>s_186233</td>\n",
       "      <td>2022.0</td>\n",
       "      <td>3.0</td>\n",
       "      <td>29.0</td>\n",
       "      <td>7.2</td>\n",
       "      <td>0.0</td>\n",
       "      <td>both</td>\n",
       "    </tr>\n",
       "    <tr>\n",
       "      <th>2</th>\n",
       "      <td>c_4410</td>\n",
       "      <td>f</td>\n",
       "      <td>1967.0</td>\n",
       "      <td>0_1316</td>\n",
       "      <td>2022-05-29</td>\n",
       "      <td>s_215758</td>\n",
       "      <td>2022.0</td>\n",
       "      <td>5.0</td>\n",
       "      <td>29.0</td>\n",
       "      <td>7.2</td>\n",
       "      <td>0.0</td>\n",
       "      <td>both</td>\n",
       "    </tr>\n",
       "    <tr>\n",
       "      <th>3</th>\n",
       "      <td>c_3654</td>\n",
       "      <td>f</td>\n",
       "      <td>1978.0</td>\n",
       "      <td>0_1316</td>\n",
       "      <td>2021-11-26</td>\n",
       "      <td>s_125143</td>\n",
       "      <td>2021.0</td>\n",
       "      <td>11.0</td>\n",
       "      <td>26.0</td>\n",
       "      <td>7.2</td>\n",
       "      <td>0.0</td>\n",
       "      <td>both</td>\n",
       "    </tr>\n",
       "    <tr>\n",
       "      <th>4</th>\n",
       "      <td>c_3654</td>\n",
       "      <td>f</td>\n",
       "      <td>1978.0</td>\n",
       "      <td>0_1316</td>\n",
       "      <td>2022-08-26</td>\n",
       "      <td>s_258546</td>\n",
       "      <td>2022.0</td>\n",
       "      <td>8.0</td>\n",
       "      <td>26.0</td>\n",
       "      <td>7.2</td>\n",
       "      <td>0.0</td>\n",
       "      <td>both</td>\n",
       "    </tr>\n",
       "  </tbody>\n",
       "</table>\n",
       "</div>"
      ],
      "text/plain": [
       "  client_id sex   birth id_prod       date session_id    year  month   day  \\\n",
       "0    c_4410   f  1967.0  0_1316 2021-12-29   s_141762  2021.0   12.0  29.0   \n",
       "1    c_4410   f  1967.0  0_1316 2022-03-29   s_186233  2022.0    3.0  29.0   \n",
       "2    c_4410   f  1967.0  0_1316 2022-05-29   s_215758  2022.0    5.0  29.0   \n",
       "3    c_3654   f  1978.0  0_1316 2021-11-26   s_125143  2021.0   11.0  26.0   \n",
       "4    c_3654   f  1978.0  0_1316 2022-08-26   s_258546  2022.0    8.0  26.0   \n",
       "\n",
       "   price  categ _merge  \n",
       "0    7.2    0.0   both  \n",
       "1    7.2    0.0   both  \n",
       "2    7.2    0.0   both  \n",
       "3    7.2    0.0   both  \n",
       "4    7.2    0.0   both  "
      ]
     },
     "execution_count": 47,
     "metadata": {},
     "output_type": "execute_result"
    }
   ],
   "source": [
    "# 1- Je joins le df data au df products en utilsant comme clé de jointure 'id_prod' et je l'affiche  \n",
    "df = pd.merge(data, products, on='id_prod', how='outer',  indicator= True)\n",
    "df.head() "
   ]
  },
  {
   "cell_type": "code",
   "execution_count": 48,
   "id": "741e3399",
   "metadata": {},
   "outputs": [
    {
     "data": {
      "text/plain": [
       "both          679111\n",
       "left_only        221\n",
       "right_only        22\n",
       "Name: _merge, dtype: int64"
      ]
     },
     "execution_count": 48,
     "metadata": {},
     "output_type": "execute_result"
    }
   ],
   "source": [
    "# J'affiche combien d'individus on matché \n",
    "df['_merge'].value_counts()"
   ]
  },
  {
   "cell_type": "code",
   "execution_count": 49,
   "id": "76c43426",
   "metadata": {},
   "outputs": [
    {
     "data": {
      "text/html": [
       "<div>\n",
       "<style scoped>\n",
       "    .dataframe tbody tr th:only-of-type {\n",
       "        vertical-align: middle;\n",
       "    }\n",
       "\n",
       "    .dataframe tbody tr th {\n",
       "        vertical-align: top;\n",
       "    }\n",
       "\n",
       "    .dataframe thead th {\n",
       "        text-align: right;\n",
       "    }\n",
       "</style>\n",
       "<table border=\"1\" class=\"dataframe\">\n",
       "  <thead>\n",
       "    <tr style=\"text-align: right;\">\n",
       "      <th></th>\n",
       "      <th>client_id</th>\n",
       "      <th>sex</th>\n",
       "      <th>birth</th>\n",
       "      <th>id_prod</th>\n",
       "      <th>date</th>\n",
       "      <th>session_id</th>\n",
       "      <th>year</th>\n",
       "      <th>month</th>\n",
       "      <th>day</th>\n",
       "      <th>price</th>\n",
       "      <th>categ</th>\n",
       "      <th>_merge</th>\n",
       "    </tr>\n",
       "  </thead>\n",
       "  <tbody>\n",
       "    <tr>\n",
       "      <th>542051</th>\n",
       "      <td>c_4505</td>\n",
       "      <td>m</td>\n",
       "      <td>1976.0</td>\n",
       "      <td>0_2245</td>\n",
       "      <td>2022-01-09</td>\n",
       "      <td>s_147220</td>\n",
       "      <td>2022.0</td>\n",
       "      <td>1.0</td>\n",
       "      <td>9.0</td>\n",
       "      <td>NaN</td>\n",
       "      <td>NaN</td>\n",
       "      <td>left_only</td>\n",
       "    </tr>\n",
       "    <tr>\n",
       "      <th>542052</th>\n",
       "      <td>c_4505</td>\n",
       "      <td>m</td>\n",
       "      <td>1976.0</td>\n",
       "      <td>0_2245</td>\n",
       "      <td>2022-11-09</td>\n",
       "      <td>s_295013</td>\n",
       "      <td>2022.0</td>\n",
       "      <td>11.0</td>\n",
       "      <td>9.0</td>\n",
       "      <td>NaN</td>\n",
       "      <td>NaN</td>\n",
       "      <td>left_only</td>\n",
       "    </tr>\n",
       "    <tr>\n",
       "      <th>542053</th>\n",
       "      <td>c_3468</td>\n",
       "      <td>f</td>\n",
       "      <td>1981.0</td>\n",
       "      <td>0_2245</td>\n",
       "      <td>2021-09-11</td>\n",
       "      <td>s_88251</td>\n",
       "      <td>2021.0</td>\n",
       "      <td>9.0</td>\n",
       "      <td>11.0</td>\n",
       "      <td>NaN</td>\n",
       "      <td>NaN</td>\n",
       "      <td>left_only</td>\n",
       "    </tr>\n",
       "    <tr>\n",
       "      <th>542054</th>\n",
       "      <td>c_3468</td>\n",
       "      <td>f</td>\n",
       "      <td>1981.0</td>\n",
       "      <td>0_2245</td>\n",
       "      <td>2022-05-11</td>\n",
       "      <td>s_206902</td>\n",
       "      <td>2022.0</td>\n",
       "      <td>5.0</td>\n",
       "      <td>11.0</td>\n",
       "      <td>NaN</td>\n",
       "      <td>NaN</td>\n",
       "      <td>left_only</td>\n",
       "    </tr>\n",
       "    <tr>\n",
       "      <th>542055</th>\n",
       "      <td>c_1403</td>\n",
       "      <td>f</td>\n",
       "      <td>1978.0</td>\n",
       "      <td>0_2245</td>\n",
       "      <td>2022-09-15</td>\n",
       "      <td>s_268455</td>\n",
       "      <td>2022.0</td>\n",
       "      <td>9.0</td>\n",
       "      <td>15.0</td>\n",
       "      <td>NaN</td>\n",
       "      <td>NaN</td>\n",
       "      <td>left_only</td>\n",
       "    </tr>\n",
       "    <tr>\n",
       "      <th>542056</th>\n",
       "      <td>c_1403</td>\n",
       "      <td>f</td>\n",
       "      <td>1978.0</td>\n",
       "      <td>0_2245</td>\n",
       "      <td>2022-05-15</td>\n",
       "      <td>s_208897</td>\n",
       "      <td>2022.0</td>\n",
       "      <td>5.0</td>\n",
       "      <td>15.0</td>\n",
       "      <td>NaN</td>\n",
       "      <td>NaN</td>\n",
       "      <td>left_only</td>\n",
       "    </tr>\n",
       "    <tr>\n",
       "      <th>542057</th>\n",
       "      <td>c_1403</td>\n",
       "      <td>f</td>\n",
       "      <td>1978.0</td>\n",
       "      <td>0_2245</td>\n",
       "      <td>2022-02-15</td>\n",
       "      <td>s_165575</td>\n",
       "      <td>2022.0</td>\n",
       "      <td>2.0</td>\n",
       "      <td>15.0</td>\n",
       "      <td>NaN</td>\n",
       "      <td>NaN</td>\n",
       "      <td>left_only</td>\n",
       "    </tr>\n",
       "    <tr>\n",
       "      <th>542058</th>\n",
       "      <td>c_3065</td>\n",
       "      <td>f</td>\n",
       "      <td>1977.0</td>\n",
       "      <td>0_2245</td>\n",
       "      <td>2022-01-26</td>\n",
       "      <td>s_155484</td>\n",
       "      <td>2022.0</td>\n",
       "      <td>1.0</td>\n",
       "      <td>26.0</td>\n",
       "      <td>NaN</td>\n",
       "      <td>NaN</td>\n",
       "      <td>left_only</td>\n",
       "    </tr>\n",
       "    <tr>\n",
       "      <th>542059</th>\n",
       "      <td>c_7102</td>\n",
       "      <td>m</td>\n",
       "      <td>1983.0</td>\n",
       "      <td>0_2245</td>\n",
       "      <td>2021-04-25</td>\n",
       "      <td>s_25704</td>\n",
       "      <td>2021.0</td>\n",
       "      <td>4.0</td>\n",
       "      <td>25.0</td>\n",
       "      <td>NaN</td>\n",
       "      <td>NaN</td>\n",
       "      <td>left_only</td>\n",
       "    </tr>\n",
       "    <tr>\n",
       "      <th>542060</th>\n",
       "      <td>c_7102</td>\n",
       "      <td>m</td>\n",
       "      <td>1983.0</td>\n",
       "      <td>0_2245</td>\n",
       "      <td>2022-07-25</td>\n",
       "      <td>s_243706</td>\n",
       "      <td>2022.0</td>\n",
       "      <td>7.0</td>\n",
       "      <td>25.0</td>\n",
       "      <td>NaN</td>\n",
       "      <td>NaN</td>\n",
       "      <td>left_only</td>\n",
       "    </tr>\n",
       "  </tbody>\n",
       "</table>\n",
       "</div>"
      ],
      "text/plain": [
       "       client_id sex   birth id_prod       date session_id    year  month  \\\n",
       "542051    c_4505   m  1976.0  0_2245 2022-01-09   s_147220  2022.0    1.0   \n",
       "542052    c_4505   m  1976.0  0_2245 2022-11-09   s_295013  2022.0   11.0   \n",
       "542053    c_3468   f  1981.0  0_2245 2021-09-11    s_88251  2021.0    9.0   \n",
       "542054    c_3468   f  1981.0  0_2245 2022-05-11   s_206902  2022.0    5.0   \n",
       "542055    c_1403   f  1978.0  0_2245 2022-09-15   s_268455  2022.0    9.0   \n",
       "542056    c_1403   f  1978.0  0_2245 2022-05-15   s_208897  2022.0    5.0   \n",
       "542057    c_1403   f  1978.0  0_2245 2022-02-15   s_165575  2022.0    2.0   \n",
       "542058    c_3065   f  1977.0  0_2245 2022-01-26   s_155484  2022.0    1.0   \n",
       "542059    c_7102   m  1983.0  0_2245 2021-04-25    s_25704  2021.0    4.0   \n",
       "542060    c_7102   m  1983.0  0_2245 2022-07-25   s_243706  2022.0    7.0   \n",
       "\n",
       "         day  price  categ     _merge  \n",
       "542051   9.0    NaN    NaN  left_only  \n",
       "542052   9.0    NaN    NaN  left_only  \n",
       "542053  11.0    NaN    NaN  left_only  \n",
       "542054  11.0    NaN    NaN  left_only  \n",
       "542055  15.0    NaN    NaN  left_only  \n",
       "542056  15.0    NaN    NaN  left_only  \n",
       "542057  15.0    NaN    NaN  left_only  \n",
       "542058  26.0    NaN    NaN  left_only  \n",
       "542059  25.0    NaN    NaN  left_only  \n",
       "542060  25.0    NaN    NaN  left_only  "
      ]
     },
     "execution_count": 49,
     "metadata": {},
     "output_type": "execute_result"
    }
   ],
   "source": [
    "# J'affiche les 221 qui n'ont pas mergé \n",
    "left_only = df[df['_merge'] == 'left_only']\n",
    "left_only.head(10) "
   ]
  },
  {
   "cell_type": "markdown",
   "id": "0ba37d8a",
   "metadata": {},
   "source": [
    "#### Les 211 observations n'ont pas mérgé car la serie 'price' comporte des NAN, ces clients semblent ne pas encore avoir effectuer d'achat, donc je les supprime pour éviter de fausser les résultats."
   ]
  },
  {
   "cell_type": "code",
   "execution_count": 50,
   "id": "2c1e1eb4",
   "metadata": {},
   "outputs": [
    {
     "data": {
      "text/html": [
       "<div>\n",
       "<style scoped>\n",
       "    .dataframe tbody tr th:only-of-type {\n",
       "        vertical-align: middle;\n",
       "    }\n",
       "\n",
       "    .dataframe tbody tr th {\n",
       "        vertical-align: top;\n",
       "    }\n",
       "\n",
       "    .dataframe thead th {\n",
       "        text-align: right;\n",
       "    }\n",
       "</style>\n",
       "<table border=\"1\" class=\"dataframe\">\n",
       "  <thead>\n",
       "    <tr style=\"text-align: right;\">\n",
       "      <th></th>\n",
       "      <th>client_id</th>\n",
       "      <th>sex</th>\n",
       "      <th>birth</th>\n",
       "      <th>id_prod</th>\n",
       "      <th>date</th>\n",
       "      <th>session_id</th>\n",
       "      <th>year</th>\n",
       "      <th>month</th>\n",
       "      <th>day</th>\n",
       "      <th>price</th>\n",
       "      <th>categ</th>\n",
       "      <th>_merge</th>\n",
       "    </tr>\n",
       "  </thead>\n",
       "  <tbody>\n",
       "    <tr>\n",
       "      <th>679332</th>\n",
       "      <td>NaN</td>\n",
       "      <td>NaN</td>\n",
       "      <td>NaN</td>\n",
       "      <td>0_1016</td>\n",
       "      <td>NaT</td>\n",
       "      <td>NaN</td>\n",
       "      <td>NaN</td>\n",
       "      <td>NaN</td>\n",
       "      <td>NaN</td>\n",
       "      <td>35.06</td>\n",
       "      <td>0.0</td>\n",
       "      <td>right_only</td>\n",
       "    </tr>\n",
       "    <tr>\n",
       "      <th>679333</th>\n",
       "      <td>NaN</td>\n",
       "      <td>NaN</td>\n",
       "      <td>NaN</td>\n",
       "      <td>0_1780</td>\n",
       "      <td>NaT</td>\n",
       "      <td>NaN</td>\n",
       "      <td>NaN</td>\n",
       "      <td>NaN</td>\n",
       "      <td>NaN</td>\n",
       "      <td>1.67</td>\n",
       "      <td>0.0</td>\n",
       "      <td>right_only</td>\n",
       "    </tr>\n",
       "    <tr>\n",
       "      <th>679334</th>\n",
       "      <td>NaN</td>\n",
       "      <td>NaN</td>\n",
       "      <td>NaN</td>\n",
       "      <td>T_0</td>\n",
       "      <td>NaT</td>\n",
       "      <td>NaN</td>\n",
       "      <td>NaN</td>\n",
       "      <td>NaN</td>\n",
       "      <td>NaN</td>\n",
       "      <td>-1.00</td>\n",
       "      <td>0.0</td>\n",
       "      <td>right_only</td>\n",
       "    </tr>\n",
       "    <tr>\n",
       "      <th>679335</th>\n",
       "      <td>NaN</td>\n",
       "      <td>NaN</td>\n",
       "      <td>NaN</td>\n",
       "      <td>0_1062</td>\n",
       "      <td>NaT</td>\n",
       "      <td>NaN</td>\n",
       "      <td>NaN</td>\n",
       "      <td>NaN</td>\n",
       "      <td>NaN</td>\n",
       "      <td>20.08</td>\n",
       "      <td>0.0</td>\n",
       "      <td>right_only</td>\n",
       "    </tr>\n",
       "    <tr>\n",
       "      <th>679336</th>\n",
       "      <td>NaN</td>\n",
       "      <td>NaN</td>\n",
       "      <td>NaN</td>\n",
       "      <td>0_1119</td>\n",
       "      <td>NaT</td>\n",
       "      <td>NaN</td>\n",
       "      <td>NaN</td>\n",
       "      <td>NaN</td>\n",
       "      <td>NaN</td>\n",
       "      <td>2.99</td>\n",
       "      <td>0.0</td>\n",
       "      <td>right_only</td>\n",
       "    </tr>\n",
       "    <tr>\n",
       "      <th>679337</th>\n",
       "      <td>NaN</td>\n",
       "      <td>NaN</td>\n",
       "      <td>NaN</td>\n",
       "      <td>0_1014</td>\n",
       "      <td>NaT</td>\n",
       "      <td>NaN</td>\n",
       "      <td>NaN</td>\n",
       "      <td>NaN</td>\n",
       "      <td>NaN</td>\n",
       "      <td>1.15</td>\n",
       "      <td>0.0</td>\n",
       "      <td>right_only</td>\n",
       "    </tr>\n",
       "    <tr>\n",
       "      <th>679338</th>\n",
       "      <td>NaN</td>\n",
       "      <td>NaN</td>\n",
       "      <td>NaN</td>\n",
       "      <td>1_0</td>\n",
       "      <td>NaT</td>\n",
       "      <td>NaN</td>\n",
       "      <td>NaN</td>\n",
       "      <td>NaN</td>\n",
       "      <td>NaN</td>\n",
       "      <td>31.82</td>\n",
       "      <td>1.0</td>\n",
       "      <td>right_only</td>\n",
       "    </tr>\n",
       "    <tr>\n",
       "      <th>679339</th>\n",
       "      <td>NaN</td>\n",
       "      <td>NaN</td>\n",
       "      <td>NaN</td>\n",
       "      <td>0_1318</td>\n",
       "      <td>NaT</td>\n",
       "      <td>NaN</td>\n",
       "      <td>NaN</td>\n",
       "      <td>NaN</td>\n",
       "      <td>NaN</td>\n",
       "      <td>20.92</td>\n",
       "      <td>0.0</td>\n",
       "      <td>right_only</td>\n",
       "    </tr>\n",
       "    <tr>\n",
       "      <th>679340</th>\n",
       "      <td>NaN</td>\n",
       "      <td>NaN</td>\n",
       "      <td>NaN</td>\n",
       "      <td>0_1800</td>\n",
       "      <td>NaT</td>\n",
       "      <td>NaN</td>\n",
       "      <td>NaN</td>\n",
       "      <td>NaN</td>\n",
       "      <td>NaN</td>\n",
       "      <td>22.05</td>\n",
       "      <td>0.0</td>\n",
       "      <td>right_only</td>\n",
       "    </tr>\n",
       "    <tr>\n",
       "      <th>679341</th>\n",
       "      <td>NaN</td>\n",
       "      <td>NaN</td>\n",
       "      <td>NaN</td>\n",
       "      <td>0_1645</td>\n",
       "      <td>NaT</td>\n",
       "      <td>NaN</td>\n",
       "      <td>NaN</td>\n",
       "      <td>NaN</td>\n",
       "      <td>NaN</td>\n",
       "      <td>2.99</td>\n",
       "      <td>0.0</td>\n",
       "      <td>right_only</td>\n",
       "    </tr>\n",
       "  </tbody>\n",
       "</table>\n",
       "</div>"
      ],
      "text/plain": [
       "       client_id  sex  birth id_prod date session_id  year  month  day  price  \\\n",
       "679332       NaN  NaN    NaN  0_1016  NaT        NaN   NaN    NaN  NaN  35.06   \n",
       "679333       NaN  NaN    NaN  0_1780  NaT        NaN   NaN    NaN  NaN   1.67   \n",
       "679334       NaN  NaN    NaN     T_0  NaT        NaN   NaN    NaN  NaN  -1.00   \n",
       "679335       NaN  NaN    NaN  0_1062  NaT        NaN   NaN    NaN  NaN  20.08   \n",
       "679336       NaN  NaN    NaN  0_1119  NaT        NaN   NaN    NaN  NaN   2.99   \n",
       "679337       NaN  NaN    NaN  0_1014  NaT        NaN   NaN    NaN  NaN   1.15   \n",
       "679338       NaN  NaN    NaN     1_0  NaT        NaN   NaN    NaN  NaN  31.82   \n",
       "679339       NaN  NaN    NaN  0_1318  NaT        NaN   NaN    NaN  NaN  20.92   \n",
       "679340       NaN  NaN    NaN  0_1800  NaT        NaN   NaN    NaN  NaN  22.05   \n",
       "679341       NaN  NaN    NaN  0_1645  NaT        NaN   NaN    NaN  NaN   2.99   \n",
       "\n",
       "        categ      _merge  \n",
       "679332    0.0  right_only  \n",
       "679333    0.0  right_only  \n",
       "679334    0.0  right_only  \n",
       "679335    0.0  right_only  \n",
       "679336    0.0  right_only  \n",
       "679337    0.0  right_only  \n",
       "679338    1.0  right_only  \n",
       "679339    0.0  right_only  \n",
       "679340    0.0  right_only  \n",
       "679341    0.0  right_only  "
      ]
     },
     "execution_count": 50,
     "metadata": {},
     "output_type": "execute_result"
    }
   ],
   "source": [
    "# J'affiche les 22 qui n'ont pas mergé \n",
    "left_only = df[df['_merge'] == 'right_only']\n",
    "left_only.head(10) "
   ]
  },
  {
   "cell_type": "markdown",
   "id": "f9a394ca",
   "metadata": {},
   "source": [
    "#### Les 22 observations n'ont pas mérgé car la majorité des series comporte des NAN, ces produits semble ne pas encore été vendu (acheté par des clients en linge) donc je les supprime pour éviter de fausser les résultats. "
   ]
  },
  {
   "cell_type": "code",
   "execution_count": 51,
   "id": "98f9dac2",
   "metadata": {},
   "outputs": [],
   "source": [
    "# Je crée le df sans les individus qui n'ont pas mérgé \n",
    "df = df[df['_merge']== 'both']"
   ]
  },
  {
   "cell_type": "code",
   "execution_count": 52,
   "id": "9866cf15",
   "metadata": {},
   "outputs": [
    {
     "data": {
      "text/plain": [
       "both          679111\n",
       "left_only          0\n",
       "right_only         0\n",
       "Name: _merge, dtype: int64"
      ]
     },
     "execution_count": 52,
     "metadata": {},
     "output_type": "execute_result"
    }
   ],
   "source": [
    "# J'affiche à nouveau le résultat \n",
    "df['_merge'].value_counts()"
   ]
  },
  {
   "cell_type": "code",
   "execution_count": 53,
   "id": "fdcd97d1",
   "metadata": {},
   "outputs": [
    {
     "data": {
      "text/html": [
       "<div>\n",
       "<style scoped>\n",
       "    .dataframe tbody tr th:only-of-type {\n",
       "        vertical-align: middle;\n",
       "    }\n",
       "\n",
       "    .dataframe tbody tr th {\n",
       "        vertical-align: top;\n",
       "    }\n",
       "\n",
       "    .dataframe thead th {\n",
       "        text-align: right;\n",
       "    }\n",
       "</style>\n",
       "<table border=\"1\" class=\"dataframe\">\n",
       "  <thead>\n",
       "    <tr style=\"text-align: right;\">\n",
       "      <th></th>\n",
       "      <th>client_id</th>\n",
       "      <th>sex</th>\n",
       "      <th>birth</th>\n",
       "      <th>id_prod</th>\n",
       "      <th>date</th>\n",
       "      <th>session_id</th>\n",
       "      <th>year</th>\n",
       "      <th>month</th>\n",
       "      <th>day</th>\n",
       "      <th>price</th>\n",
       "      <th>categ</th>\n",
       "    </tr>\n",
       "  </thead>\n",
       "  <tbody>\n",
       "    <tr>\n",
       "      <th>0</th>\n",
       "      <td>c_4410</td>\n",
       "      <td>f</td>\n",
       "      <td>1967.0</td>\n",
       "      <td>0_1316</td>\n",
       "      <td>2021-12-29</td>\n",
       "      <td>s_141762</td>\n",
       "      <td>2021.0</td>\n",
       "      <td>12.0</td>\n",
       "      <td>29.0</td>\n",
       "      <td>7.2</td>\n",
       "      <td>0.0</td>\n",
       "    </tr>\n",
       "    <tr>\n",
       "      <th>1</th>\n",
       "      <td>c_4410</td>\n",
       "      <td>f</td>\n",
       "      <td>1967.0</td>\n",
       "      <td>0_1316</td>\n",
       "      <td>2022-03-29</td>\n",
       "      <td>s_186233</td>\n",
       "      <td>2022.0</td>\n",
       "      <td>3.0</td>\n",
       "      <td>29.0</td>\n",
       "      <td>7.2</td>\n",
       "      <td>0.0</td>\n",
       "    </tr>\n",
       "    <tr>\n",
       "      <th>2</th>\n",
       "      <td>c_4410</td>\n",
       "      <td>f</td>\n",
       "      <td>1967.0</td>\n",
       "      <td>0_1316</td>\n",
       "      <td>2022-05-29</td>\n",
       "      <td>s_215758</td>\n",
       "      <td>2022.0</td>\n",
       "      <td>5.0</td>\n",
       "      <td>29.0</td>\n",
       "      <td>7.2</td>\n",
       "      <td>0.0</td>\n",
       "    </tr>\n",
       "    <tr>\n",
       "      <th>3</th>\n",
       "      <td>c_3654</td>\n",
       "      <td>f</td>\n",
       "      <td>1978.0</td>\n",
       "      <td>0_1316</td>\n",
       "      <td>2021-11-26</td>\n",
       "      <td>s_125143</td>\n",
       "      <td>2021.0</td>\n",
       "      <td>11.0</td>\n",
       "      <td>26.0</td>\n",
       "      <td>7.2</td>\n",
       "      <td>0.0</td>\n",
       "    </tr>\n",
       "    <tr>\n",
       "      <th>4</th>\n",
       "      <td>c_3654</td>\n",
       "      <td>f</td>\n",
       "      <td>1978.0</td>\n",
       "      <td>0_1316</td>\n",
       "      <td>2022-08-26</td>\n",
       "      <td>s_258546</td>\n",
       "      <td>2022.0</td>\n",
       "      <td>8.0</td>\n",
       "      <td>26.0</td>\n",
       "      <td>7.2</td>\n",
       "      <td>0.0</td>\n",
       "    </tr>\n",
       "  </tbody>\n",
       "</table>\n",
       "</div>"
      ],
      "text/plain": [
       "  client_id sex   birth id_prod       date session_id    year  month   day  \\\n",
       "0    c_4410   f  1967.0  0_1316 2021-12-29   s_141762  2021.0   12.0  29.0   \n",
       "1    c_4410   f  1967.0  0_1316 2022-03-29   s_186233  2022.0    3.0  29.0   \n",
       "2    c_4410   f  1967.0  0_1316 2022-05-29   s_215758  2022.0    5.0  29.0   \n",
       "3    c_3654   f  1978.0  0_1316 2021-11-26   s_125143  2021.0   11.0  26.0   \n",
       "4    c_3654   f  1978.0  0_1316 2022-08-26   s_258546  2022.0    8.0  26.0   \n",
       "\n",
       "   price  categ  \n",
       "0    7.2    0.0  \n",
       "1    7.2    0.0  \n",
       "2    7.2    0.0  \n",
       "3    7.2    0.0  \n",
       "4    7.2    0.0  "
      ]
     },
     "execution_count": 53,
     "metadata": {},
     "output_type": "execute_result"
    }
   ],
   "source": [
    "# Je supprime l'indicator \n",
    "df = df.drop('_merge', axis=1)\n",
    "df.head()"
   ]
  },
  {
   "cell_type": "code",
   "execution_count": 54,
   "id": "ca36ec51",
   "metadata": {},
   "outputs": [
    {
     "data": {
      "text/plain": [
       "0"
      ]
     },
     "execution_count": 54,
     "metadata": {},
     "output_type": "execute_result"
    }
   ],
   "source": [
    "df['price'].isnull().sum()"
   ]
  },
  {
   "cell_type": "code",
   "execution_count": 55,
   "id": "8c8def2f",
   "metadata": {},
   "outputs": [
    {
     "data": {
      "text/plain": [
       "client_id             object\n",
       "sex                   object\n",
       "birth                  int64\n",
       "id_prod               object\n",
       "date          datetime64[ns]\n",
       "session_id            object\n",
       "year                 float64\n",
       "month                float64\n",
       "day                  float64\n",
       "price                float64\n",
       "categ                  int64\n",
       "dtype: object"
      ]
     },
     "execution_count": 55,
     "metadata": {},
     "output_type": "execute_result"
    }
   ],
   "source": [
    "# Caster la serie 'categ' et 'birth'  en integer\n",
    "df[['categ','birth']] = np.int64(df[['categ','birth']])\n",
    "df.dtypes"
   ]
  },
  {
   "cell_type": "code",
   "execution_count": 56,
   "id": "84d82c7b",
   "metadata": {},
   "outputs": [],
   "source": [
    "# J'ajoute les series 'année' 'mois' et 'jour' au dff pour les l'utiliser ultérieurement dans l'analyse\n",
    "df['year'] = df['year'].astype(int)\n",
    "df['month'] = df['month'].astype(int)\n",
    "df['day'] = df['day'].astype(int)"
   ]
  },
  {
   "cell_type": "code",
   "execution_count": 57,
   "id": "15102b39",
   "metadata": {},
   "outputs": [],
   "source": [
    "# J'ajoute la série 'mois_année' pour l'utiliser ultérieurement dans l'analyse (évolution)\n",
    "df['month_year'] = df['date'].dt.to_period('M')"
   ]
  },
  {
   "cell_type": "code",
   "execution_count": 58,
   "id": "6e6f3cba",
   "metadata": {},
   "outputs": [],
   "source": [
    "# Je crée la serie 'age'\n",
    "df['age'] = 2023 - df['birth']"
   ]
  },
  {
   "cell_type": "code",
   "execution_count": 59,
   "id": "5eeba524",
   "metadata": {},
   "outputs": [
    {
     "data": {
      "text/html": [
       "<div>\n",
       "<style scoped>\n",
       "    .dataframe tbody tr th:only-of-type {\n",
       "        vertical-align: middle;\n",
       "    }\n",
       "\n",
       "    .dataframe tbody tr th {\n",
       "        vertical-align: top;\n",
       "    }\n",
       "\n",
       "    .dataframe thead th {\n",
       "        text-align: right;\n",
       "    }\n",
       "</style>\n",
       "<table border=\"1\" class=\"dataframe\">\n",
       "  <thead>\n",
       "    <tr style=\"text-align: right;\">\n",
       "      <th></th>\n",
       "      <th>client_id</th>\n",
       "      <th>sex</th>\n",
       "      <th>birth</th>\n",
       "      <th>id_prod</th>\n",
       "      <th>date</th>\n",
       "      <th>session_id</th>\n",
       "      <th>year</th>\n",
       "      <th>month</th>\n",
       "      <th>day</th>\n",
       "      <th>price</th>\n",
       "      <th>categ</th>\n",
       "      <th>month_year</th>\n",
       "      <th>age</th>\n",
       "      <th>age_rang</th>\n",
       "    </tr>\n",
       "  </thead>\n",
       "  <tbody>\n",
       "    <tr>\n",
       "      <th>0</th>\n",
       "      <td>c_4410</td>\n",
       "      <td>f</td>\n",
       "      <td>1967</td>\n",
       "      <td>0_1316</td>\n",
       "      <td>2021-12-29</td>\n",
       "      <td>s_141762</td>\n",
       "      <td>2021</td>\n",
       "      <td>12</td>\n",
       "      <td>29</td>\n",
       "      <td>7.2</td>\n",
       "      <td>0</td>\n",
       "      <td>2021-12</td>\n",
       "      <td>56</td>\n",
       "      <td>(50, 70]</td>\n",
       "    </tr>\n",
       "    <tr>\n",
       "      <th>1</th>\n",
       "      <td>c_4410</td>\n",
       "      <td>f</td>\n",
       "      <td>1967</td>\n",
       "      <td>0_1316</td>\n",
       "      <td>2022-03-29</td>\n",
       "      <td>s_186233</td>\n",
       "      <td>2022</td>\n",
       "      <td>3</td>\n",
       "      <td>29</td>\n",
       "      <td>7.2</td>\n",
       "      <td>0</td>\n",
       "      <td>2022-03</td>\n",
       "      <td>56</td>\n",
       "      <td>(50, 70]</td>\n",
       "    </tr>\n",
       "    <tr>\n",
       "      <th>2</th>\n",
       "      <td>c_4410</td>\n",
       "      <td>f</td>\n",
       "      <td>1967</td>\n",
       "      <td>0_1316</td>\n",
       "      <td>2022-05-29</td>\n",
       "      <td>s_215758</td>\n",
       "      <td>2022</td>\n",
       "      <td>5</td>\n",
       "      <td>29</td>\n",
       "      <td>7.2</td>\n",
       "      <td>0</td>\n",
       "      <td>2022-05</td>\n",
       "      <td>56</td>\n",
       "      <td>(50, 70]</td>\n",
       "    </tr>\n",
       "    <tr>\n",
       "      <th>3</th>\n",
       "      <td>c_3654</td>\n",
       "      <td>f</td>\n",
       "      <td>1978</td>\n",
       "      <td>0_1316</td>\n",
       "      <td>2021-11-26</td>\n",
       "      <td>s_125143</td>\n",
       "      <td>2021</td>\n",
       "      <td>11</td>\n",
       "      <td>26</td>\n",
       "      <td>7.2</td>\n",
       "      <td>0</td>\n",
       "      <td>2021-11</td>\n",
       "      <td>45</td>\n",
       "      <td>(30, 50]</td>\n",
       "    </tr>\n",
       "    <tr>\n",
       "      <th>4</th>\n",
       "      <td>c_3654</td>\n",
       "      <td>f</td>\n",
       "      <td>1978</td>\n",
       "      <td>0_1316</td>\n",
       "      <td>2022-08-26</td>\n",
       "      <td>s_258546</td>\n",
       "      <td>2022</td>\n",
       "      <td>8</td>\n",
       "      <td>26</td>\n",
       "      <td>7.2</td>\n",
       "      <td>0</td>\n",
       "      <td>2022-08</td>\n",
       "      <td>45</td>\n",
       "      <td>(30, 50]</td>\n",
       "    </tr>\n",
       "  </tbody>\n",
       "</table>\n",
       "</div>"
      ],
      "text/plain": [
       "  client_id sex  birth id_prod       date session_id  year  month  day  price  \\\n",
       "0    c_4410   f   1967  0_1316 2021-12-29   s_141762  2021     12   29    7.2   \n",
       "1    c_4410   f   1967  0_1316 2022-03-29   s_186233  2022      3   29    7.2   \n",
       "2    c_4410   f   1967  0_1316 2022-05-29   s_215758  2022      5   29    7.2   \n",
       "3    c_3654   f   1978  0_1316 2021-11-26   s_125143  2021     11   26    7.2   \n",
       "4    c_3654   f   1978  0_1316 2022-08-26   s_258546  2022      8   26    7.2   \n",
       "\n",
       "   categ month_year  age  age_rang  \n",
       "0      0    2021-12   56  (50, 70]  \n",
       "1      0    2022-03   56  (50, 70]  \n",
       "2      0    2022-05   56  (50, 70]  \n",
       "3      0    2021-11   45  (30, 50]  \n",
       "4      0    2022-08   45  (30, 50]  "
      ]
     },
     "execution_count": 59,
     "metadata": {},
     "output_type": "execute_result"
    }
   ],
   "source": [
    "# Je crée la serie 'tranche_age' pour l'utiliser ultérieurement dans l'analyse (DISCRETISATION DE LA VARIABLE AGE)\n",
    "df['age_rang'] = pd.cut(df['age'], bins = [18, 30, 50, 70, 95])\n",
    "df.head()"
   ]
  },
  {
   "cell_type": "code",
   "execution_count": 60,
   "id": "639937e6",
   "metadata": {},
   "outputs": [
    {
     "data": {
      "text/plain": [
       "(679111, 14)"
      ]
     },
     "execution_count": 60,
     "metadata": {},
     "output_type": "execute_result"
    }
   ],
   "source": [
    "df.shape"
   ]
  },
  {
   "cell_type": "markdown",
   "id": "2e9d48d8",
   "metadata": {},
   "source": [
    "#### Le dataFrame final comporte 15 variables et 679111 observations, il ne comporte pas de valeurs NAN ni de doublons. "
   ]
  },
  {
   "cell_type": "markdown",
   "id": "2f6d90c4",
   "metadata": {},
   "source": [
    "## 5. QUESTIONS de Antoine\n",
    "\n",
    "### Question 1: Les différents indicateurs et graphiques autour du chiffre d'affaires; l’évolution dans le temps et mettre en place une décomposition en moyenne mobile pour évaluer la tendance globale.¶\n",
    "\n",
    "### 5.1.1  Les différents indicateurs et graphiques autour du chiffre d'affaires"
   ]
  },
  {
   "cell_type": "code",
   "execution_count": 61,
   "id": "576fa748",
   "metadata": {},
   "outputs": [
    {
     "name": "stdout",
     "output_type": "stream",
     "text": [
      "Le chiffre d'affaire global est de 11853728.68 euros.\n"
     ]
    }
   ],
   "source": [
    "ca = round(df['price'].sum(),2)\n",
    "print(\"Le chiffre d'affaire global est de\", ca, \"euros.\")"
   ]
  },
  {
   "cell_type": "code",
   "execution_count": 62,
   "id": "96c6fb4d",
   "metadata": {},
   "outputs": [
    {
     "data": {
      "text/html": [
       "<div>\n",
       "<style scoped>\n",
       "    .dataframe tbody tr th:only-of-type {\n",
       "        vertical-align: middle;\n",
       "    }\n",
       "\n",
       "    .dataframe tbody tr th {\n",
       "        vertical-align: top;\n",
       "    }\n",
       "\n",
       "    .dataframe thead th {\n",
       "        text-align: right;\n",
       "    }\n",
       "</style>\n",
       "<table border=\"1\" class=\"dataframe\">\n",
       "  <thead>\n",
       "    <tr style=\"text-align: right;\">\n",
       "      <th></th>\n",
       "      <th>sex</th>\n",
       "      <th>price</th>\n",
       "    </tr>\n",
       "  </thead>\n",
       "  <tbody>\n",
       "    <tr>\n",
       "      <th>0</th>\n",
       "      <td>f</td>\n",
       "      <td>5859683.13</td>\n",
       "    </tr>\n",
       "    <tr>\n",
       "      <th>1</th>\n",
       "      <td>m</td>\n",
       "      <td>5994045.55</td>\n",
       "    </tr>\n",
       "  </tbody>\n",
       "</table>\n",
       "</div>"
      ],
      "text/plain": [
       "  sex       price\n",
       "0   f  5859683.13\n",
       "1   m  5994045.55"
      ]
     },
     "execution_count": 62,
     "metadata": {},
     "output_type": "execute_result"
    }
   ],
   "source": [
    "# Chiffre d'affaire par genre \n",
    "ca_genre = df.groupby('sex').sum()[['price']].reset_index()\n",
    "ca_genre"
   ]
  },
  {
   "cell_type": "code",
   "execution_count": 63,
   "id": "9d8b39b1",
   "metadata": {},
   "outputs": [
    {
     "data": {
      "image/png": "[encoded data removed]",
      "text/plain": [
       "<Figure size 400x400 with 1 Axes>"
      ]
     },
     "metadata": {},
     "output_type": "display_data"
    }
   ],
   "source": [
    "# J'affiche la proportion du CA par genre\n",
    "plt.figure(figsize=(4, 4))\n",
    "colors = ['blue', 'pink']\n",
    "plt.pie(ca_genre['price'], labels=ca_genre['sex'], colors=colors, autopct='%1.1f%%')\n",
    "plt.title(\"Proportion du chiffre d'affaire par genre\", fontname='Arial', fontsize=13)\n",
    "plt.show()"
   ]
  },
  {
   "cell_type": "markdown",
   "id": "7c16267b",
   "metadata": {},
   "source": [
    "#### Les hommes génerent plus de CA que les femmes. La différence est compte a elle légère.  "
   ]
  },
  {
   "cell_type": "code",
   "execution_count": 64,
   "id": "b700972c",
   "metadata": {},
   "outputs": [
    {
     "data": {
      "text/html": [
       "<div>\n",
       "<style scoped>\n",
       "    .dataframe tbody tr th:only-of-type {\n",
       "        vertical-align: middle;\n",
       "    }\n",
       "\n",
       "    .dataframe tbody tr th {\n",
       "        vertical-align: top;\n",
       "    }\n",
       "\n",
       "    .dataframe thead th {\n",
       "        text-align: right;\n",
       "    }\n",
       "</style>\n",
       "<table border=\"1\" class=\"dataframe\">\n",
       "  <thead>\n",
       "    <tr style=\"text-align: right;\">\n",
       "      <th></th>\n",
       "      <th>categ</th>\n",
       "      <th>sex</th>\n",
       "      <th>price</th>\n",
       "    </tr>\n",
       "  </thead>\n",
       "  <tbody>\n",
       "    <tr>\n",
       "      <th>0</th>\n",
       "      <td>0</td>\n",
       "      <td>f</td>\n",
       "      <td>2190013.07</td>\n",
       "    </tr>\n",
       "    <tr>\n",
       "      <th>1</th>\n",
       "      <td>0</td>\n",
       "      <td>m</td>\n",
       "      <td>2229717.90</td>\n",
       "    </tr>\n",
       "    <tr>\n",
       "      <th>2</th>\n",
       "      <td>1</td>\n",
       "      <td>f</td>\n",
       "      <td>2358417.02</td>\n",
       "    </tr>\n",
       "    <tr>\n",
       "      <th>3</th>\n",
       "      <td>1</td>\n",
       "      <td>m</td>\n",
       "      <td>2295305.67</td>\n",
       "    </tr>\n",
       "    <tr>\n",
       "      <th>4</th>\n",
       "      <td>2</td>\n",
       "      <td>f</td>\n",
       "      <td>1311253.04</td>\n",
       "    </tr>\n",
       "    <tr>\n",
       "      <th>5</th>\n",
       "      <td>2</td>\n",
       "      <td>m</td>\n",
       "      <td>1469021.98</td>\n",
       "    </tr>\n",
       "  </tbody>\n",
       "</table>\n",
       "</div>"
      ],
      "text/plain": [
       "   categ sex       price\n",
       "0      0   f  2190013.07\n",
       "1      0   m  2229717.90\n",
       "2      1   f  2358417.02\n",
       "3      1   m  2295305.67\n",
       "4      2   f  1311253.04\n",
       "5      2   m  1469021.98"
      ]
     },
     "execution_count": 64,
     "metadata": {},
     "output_type": "execute_result"
    }
   ],
   "source": [
    "# Chiffre d'affaire par catégorie et par genre\n",
    "ca_categ_genre = df.groupby(['categ', 'sex']).sum()[['price']].reset_index()\n",
    "ca_categ_genre"
   ]
  },
  {
   "cell_type": "code",
   "execution_count": 65,
   "id": "d87cb728",
   "metadata": {},
   "outputs": [
    {
     "data": {
      "image/png": "[encoded data removed]",
      "text/plain": [
       "<Figure size 640x480 with 1 Axes>"
      ]
     },
     "metadata": {},
     "output_type": "display_data"
    }
   ],
   "source": [
    "sns.barplot(data=ca_categ_genre, x='sex', y='price', ci=None, hue='categ', estimator=sum)\n",
    "plt.title(\"Chiffre d'affaire par catégorie et par genre\", fontname='Arial', fontsize=15)\n",
    "plt.yticks(np.arange(100000, 2500000, 200000))\n",
    "plt.xlabel(\"Sex\", fontname='Arial', fontsize=12)\n",
    "plt.ylabel(\"CA en million d'euros\", fontname='Arial', fontsize=12)\n",
    "plt.show()"
   ]
  },
  {
   "cell_type": "markdown",
   "id": "354c755e",
   "metadata": {},
   "source": [
    "#### Les hommes génerent plus de CA que les femmes dans les catégorie 0 et 2, et le femme devance les hommes dans la catégorie 1 uniqument.         La difference du CA par catégories entre homme et femme reste minime."
   ]
  },
  {
   "cell_type": "code",
   "execution_count": 66,
   "id": "04592a14",
   "metadata": {},
   "outputs": [
    {
     "data": {
      "text/html": [
       "<div>\n",
       "<style scoped>\n",
       "    .dataframe tbody tr th:only-of-type {\n",
       "        vertical-align: middle;\n",
       "    }\n",
       "\n",
       "    .dataframe tbody tr th {\n",
       "        vertical-align: top;\n",
       "    }\n",
       "\n",
       "    .dataframe thead th {\n",
       "        text-align: right;\n",
       "    }\n",
       "</style>\n",
       "<table border=\"1\" class=\"dataframe\">\n",
       "  <thead>\n",
       "    <tr style=\"text-align: right;\">\n",
       "      <th></th>\n",
       "      <th>age_rang</th>\n",
       "      <th>sex</th>\n",
       "      <th>price</th>\n",
       "    </tr>\n",
       "  </thead>\n",
       "  <tbody>\n",
       "    <tr>\n",
       "      <th>0</th>\n",
       "      <td>(18, 30]</td>\n",
       "      <td>f</td>\n",
       "      <td>1417734.39</td>\n",
       "    </tr>\n",
       "    <tr>\n",
       "      <th>1</th>\n",
       "      <td>(18, 30]</td>\n",
       "      <td>m</td>\n",
       "      <td>1647063.79</td>\n",
       "    </tr>\n",
       "    <tr>\n",
       "      <th>2</th>\n",
       "      <td>(30, 50]</td>\n",
       "      <td>f</td>\n",
       "      <td>2723134.68</td>\n",
       "    </tr>\n",
       "    <tr>\n",
       "      <th>3</th>\n",
       "      <td>(30, 50]</td>\n",
       "      <td>m</td>\n",
       "      <td>2833452.50</td>\n",
       "    </tr>\n",
       "    <tr>\n",
       "      <th>4</th>\n",
       "      <td>(50, 70]</td>\n",
       "      <td>f</td>\n",
       "      <td>1388462.60</td>\n",
       "    </tr>\n",
       "    <tr>\n",
       "      <th>5</th>\n",
       "      <td>(50, 70]</td>\n",
       "      <td>m</td>\n",
       "      <td>1272864.15</td>\n",
       "    </tr>\n",
       "    <tr>\n",
       "      <th>6</th>\n",
       "      <td>(70, 95]</td>\n",
       "      <td>f</td>\n",
       "      <td>330351.46</td>\n",
       "    </tr>\n",
       "    <tr>\n",
       "      <th>7</th>\n",
       "      <td>(70, 95]</td>\n",
       "      <td>m</td>\n",
       "      <td>240665.11</td>\n",
       "    </tr>\n",
       "  </tbody>\n",
       "</table>\n",
       "</div>"
      ],
      "text/plain": [
       "   age_rang sex       price\n",
       "0  (18, 30]   f  1417734.39\n",
       "1  (18, 30]   m  1647063.79\n",
       "2  (30, 50]   f  2723134.68\n",
       "3  (30, 50]   m  2833452.50\n",
       "4  (50, 70]   f  1388462.60\n",
       "5  (50, 70]   m  1272864.15\n",
       "6  (70, 95]   f   330351.46\n",
       "7  (70, 95]   m   240665.11"
      ]
     },
     "execution_count": 66,
     "metadata": {},
     "output_type": "execute_result"
    }
   ],
   "source": [
    "# Chiffre d'affaire par tranche d'âge et par genre\n",
    "ca_tranche_genre = df.groupby(['age_rang', 'sex']).sum()[['price']].reset_index()\n",
    "ca_tranche_genre"
   ]
  },
  {
   "cell_type": "code",
   "execution_count": 67,
   "id": "c46ff248",
   "metadata": {},
   "outputs": [
    {
     "data": {
      "image/png": "[encoded data removed]",
      "text/plain": [
       "<Figure size 640x480 with 1 Axes>"
      ]
     },
     "metadata": {},
     "output_type": "display_data"
    }
   ],
   "source": [
    "sns.barplot(data=ca_tranche_genre, x='age_rang', y='price', ci=None, hue='sex', estimator=sum)\n",
    "plt.title(\"Chiffre d'affaire par tranche d'âge et par genre\", fontname='Arial', fontsize=15)\n",
    "plt.yticks(np.arange(200000, 3000000, 200000))\n",
    "plt.xlabel(\"Tranche d'âge\", fontname='Arial', fontsize=12)\n",
    "plt.ylabel(\"CA en million d'euros\", fontname='Arial', fontsize=12)\n",
    "plt.show()"
   ]
  },
  {
   "cell_type": "markdown",
   "id": "2ad17fa6",
   "metadata": {},
   "source": [
    "#### Les femmes devancent les hommes dans chez les 18-30 ans et 30-50. Et les hommes devancent les femmes chez les 50-70 ans et 70-95 ans. La tranche d'age 30-50 et celle qui genere le plus de CA et la tranche 70-95 celle qui en genere le moins. Cela pourrait être du au fait que cette tranche d'age compte moins de client que les autres tranches d'âge. De plus, je pense que plus la personne est agée moins elle a accès à internet ou ne sait passer commande en ligne mais aussi, plus la personne est agée moins elle lit. "
   ]
  },
  {
   "cell_type": "markdown",
   "id": "5c035b0e",
   "metadata": {},
   "source": [
    "### 5.1.2 L'évolution dans le temps du chiffre d'affaire"
   ]
  },
  {
   "cell_type": "code",
   "execution_count": 68,
   "id": "e3cc9133",
   "metadata": {},
   "outputs": [
    {
     "data": {
      "text/html": [
       "<div>\n",
       "<style scoped>\n",
       "    .dataframe tbody tr th:only-of-type {\n",
       "        vertical-align: middle;\n",
       "    }\n",
       "\n",
       "    .dataframe tbody tr th {\n",
       "        vertical-align: top;\n",
       "    }\n",
       "\n",
       "    .dataframe thead th {\n",
       "        text-align: right;\n",
       "    }\n",
       "</style>\n",
       "<table border=\"1\" class=\"dataframe\">\n",
       "  <thead>\n",
       "    <tr style=\"text-align: right;\">\n",
       "      <th></th>\n",
       "      <th>month_year</th>\n",
       "      <th>price</th>\n",
       "    </tr>\n",
       "  </thead>\n",
       "  <tbody>\n",
       "    <tr>\n",
       "      <th>0</th>\n",
       "      <td>2021-03</td>\n",
       "      <td>482440.61</td>\n",
       "    </tr>\n",
       "    <tr>\n",
       "      <th>1</th>\n",
       "      <td>2021-04</td>\n",
       "      <td>476109.30</td>\n",
       "    </tr>\n",
       "    <tr>\n",
       "      <th>2</th>\n",
       "      <td>2021-05</td>\n",
       "      <td>492943.47</td>\n",
       "    </tr>\n",
       "    <tr>\n",
       "      <th>3</th>\n",
       "      <td>2021-06</td>\n",
       "      <td>484088.56</td>\n",
       "    </tr>\n",
       "    <tr>\n",
       "      <th>4</th>\n",
       "      <td>2021-07</td>\n",
       "      <td>482835.40</td>\n",
       "    </tr>\n",
       "  </tbody>\n",
       "</table>\n",
       "</div>"
      ],
      "text/plain": [
       "  month_year      price\n",
       "0    2021-03  482440.61\n",
       "1    2021-04  476109.30\n",
       "2    2021-05  492943.47\n",
       "3    2021-06  484088.56\n",
       "4    2021-07  482835.40"
      ]
     },
     "execution_count": 68,
     "metadata": {},
     "output_type": "execute_result"
    }
   ],
   "source": [
    "# 1 Je calcule le chiffre d'affaire mensuel \n",
    "ca_mensuel = df.groupby(['month_year']).sum()[['price']].reset_index()\n",
    "ca_mensuel.head()"
   ]
  },
  {
   "cell_type": "code",
   "execution_count": 69,
   "id": "605c5764",
   "metadata": {},
   "outputs": [
    {
     "data": {
      "text/plain": [
       "count        24.000000\n",
       "mean     493905.361667\n",
       "std       41208.740111\n",
       "min      320798.740000\n",
       "25%      483775.270000\n",
       "50%      501566.105000\n",
       "75%      515634.330000\n",
       "max      535571.500000\n",
       "Name: price, dtype: float64"
      ]
     },
     "execution_count": 69,
     "metadata": {},
     "output_type": "execute_result"
    }
   ],
   "source": [
    "ca_mensuel['price'].describe()"
   ]
  },
  {
   "cell_type": "code",
   "execution_count": 70,
   "id": "8b0e4096",
   "metadata": {},
   "outputs": [
    {
     "data": {
      "image/png": "[encoded data removed]",
      "text/plain": [
       "<Figure size 1700x900 with 1 Axes>"
      ]
     },
     "metadata": {},
     "output_type": "display_data"
    }
   ],
   "source": [
    "plt.figure(figsize=(17, 9))\n",
    "ca_mensuel['month_year'] = ca_mensuel['month_year'].astype(str)\n",
    "plt.plot(ca_mensuel['month_year'], ca_mensuel[\"price\"], marker='o', linestyle='--', color='red')\n",
    "plt.title(\"Évolution mensuel du CA\", fontname='Arial', fontsize=20)\n",
    "plt.xlabel(\"Date\", fontname='Arial', fontsize=18)\n",
    "plt.ylabel(\"CA en milliers d'euros\", fontname='Arial', fontsize=18)\n",
    "plt.xticks(rotation=90, fontsize=15)\n",
    "plt.yticks(np.arange(300000, 600000, 50000), fontsize=15)\n",
    "plt.show()"
   ]
  },
  {
   "cell_type": "code",
   "execution_count": 71,
   "id": "5c8d7777",
   "metadata": {},
   "outputs": [
    {
     "data": {
      "text/html": [
       "<div>\n",
       "<style scoped>\n",
       "    .dataframe tbody tr th:only-of-type {\n",
       "        vertical-align: middle;\n",
       "    }\n",
       "\n",
       "    .dataframe tbody tr th {\n",
       "        vertical-align: top;\n",
       "    }\n",
       "\n",
       "    .dataframe thead th {\n",
       "        text-align: right;\n",
       "    }\n",
       "</style>\n",
       "<table border=\"1\" class=\"dataframe\">\n",
       "  <thead>\n",
       "    <tr style=\"text-align: right;\">\n",
       "      <th></th>\n",
       "      <th>client_id</th>\n",
       "      <th>sex</th>\n",
       "      <th>birth</th>\n",
       "      <th>id_prod</th>\n",
       "      <th>date</th>\n",
       "      <th>session_id</th>\n",
       "      <th>year</th>\n",
       "      <th>month</th>\n",
       "      <th>day</th>\n",
       "      <th>price</th>\n",
       "      <th>categ</th>\n",
       "      <th>month_year</th>\n",
       "      <th>age</th>\n",
       "      <th>age_rang</th>\n",
       "    </tr>\n",
       "  </thead>\n",
       "  <tbody>\n",
       "    <tr>\n",
       "      <th>13</th>\n",
       "      <td>c_2809</td>\n",
       "      <td>m</td>\n",
       "      <td>1981</td>\n",
       "      <td>0_1316</td>\n",
       "      <td>2021-10-26</td>\n",
       "      <td>s_110587</td>\n",
       "      <td>2021</td>\n",
       "      <td>10</td>\n",
       "      <td>26</td>\n",
       "      <td>7.20</td>\n",
       "      <td>0</td>\n",
       "      <td>2021-10</td>\n",
       "      <td>42</td>\n",
       "      <td>(30, 50]</td>\n",
       "    </tr>\n",
       "    <tr>\n",
       "      <th>14</th>\n",
       "      <td>c_1987</td>\n",
       "      <td>f</td>\n",
       "      <td>1972</td>\n",
       "      <td>0_1316</td>\n",
       "      <td>2021-10-16</td>\n",
       "      <td>s_105529</td>\n",
       "      <td>2021</td>\n",
       "      <td>10</td>\n",
       "      <td>16</td>\n",
       "      <td>7.20</td>\n",
       "      <td>0</td>\n",
       "      <td>2021-10</td>\n",
       "      <td>51</td>\n",
       "      <td>(50, 70]</td>\n",
       "    </tr>\n",
       "    <tr>\n",
       "      <th>18</th>\n",
       "      <td>c_3770</td>\n",
       "      <td>m</td>\n",
       "      <td>1956</td>\n",
       "      <td>0_1316</td>\n",
       "      <td>2021-10-29</td>\n",
       "      <td>s_111884</td>\n",
       "      <td>2021</td>\n",
       "      <td>10</td>\n",
       "      <td>29</td>\n",
       "      <td>7.20</td>\n",
       "      <td>0</td>\n",
       "      <td>2021-10</td>\n",
       "      <td>67</td>\n",
       "      <td>(50, 70]</td>\n",
       "    </tr>\n",
       "    <tr>\n",
       "      <th>39</th>\n",
       "      <td>c_2993</td>\n",
       "      <td>m</td>\n",
       "      <td>1964</td>\n",
       "      <td>0_1316</td>\n",
       "      <td>2021-10-20</td>\n",
       "      <td>s_107468</td>\n",
       "      <td>2021</td>\n",
       "      <td>10</td>\n",
       "      <td>20</td>\n",
       "      <td>7.20</td>\n",
       "      <td>0</td>\n",
       "      <td>2021-10</td>\n",
       "      <td>59</td>\n",
       "      <td>(50, 70]</td>\n",
       "    </tr>\n",
       "    <tr>\n",
       "      <th>51</th>\n",
       "      <td>c_5835</td>\n",
       "      <td>f</td>\n",
       "      <td>1991</td>\n",
       "      <td>0_1316</td>\n",
       "      <td>2021-10-22</td>\n",
       "      <td>s_108696</td>\n",
       "      <td>2021</td>\n",
       "      <td>10</td>\n",
       "      <td>22</td>\n",
       "      <td>7.20</td>\n",
       "      <td>0</td>\n",
       "      <td>2021-10</td>\n",
       "      <td>32</td>\n",
       "      <td>(30, 50]</td>\n",
       "    </tr>\n",
       "    <tr>\n",
       "      <th>...</th>\n",
       "      <td>...</td>\n",
       "      <td>...</td>\n",
       "      <td>...</td>\n",
       "      <td>...</td>\n",
       "      <td>...</td>\n",
       "      <td>...</td>\n",
       "      <td>...</td>\n",
       "      <td>...</td>\n",
       "      <td>...</td>\n",
       "      <td>...</td>\n",
       "      <td>...</td>\n",
       "      <td>...</td>\n",
       "      <td>...</td>\n",
       "      <td>...</td>\n",
       "    </tr>\n",
       "    <tr>\n",
       "      <th>679234</th>\n",
       "      <td>c_6597</td>\n",
       "      <td>f</td>\n",
       "      <td>1974</td>\n",
       "      <td>0_1331</td>\n",
       "      <td>2021-10-08</td>\n",
       "      <td>s_101952</td>\n",
       "      <td>2021</td>\n",
       "      <td>10</td>\n",
       "      <td>8</td>\n",
       "      <td>29.99</td>\n",
       "      <td>0</td>\n",
       "      <td>2021-10</td>\n",
       "      <td>49</td>\n",
       "      <td>(30, 50]</td>\n",
       "    </tr>\n",
       "    <tr>\n",
       "      <th>679244</th>\n",
       "      <td>c_8374</td>\n",
       "      <td>m</td>\n",
       "      <td>1963</td>\n",
       "      <td>0_79</td>\n",
       "      <td>2021-10-18</td>\n",
       "      <td>s_106386</td>\n",
       "      <td>2021</td>\n",
       "      <td>10</td>\n",
       "      <td>18</td>\n",
       "      <td>24.99</td>\n",
       "      <td>0</td>\n",
       "      <td>2021-10</td>\n",
       "      <td>60</td>\n",
       "      <td>(50, 70]</td>\n",
       "    </tr>\n",
       "    <tr>\n",
       "      <th>679252</th>\n",
       "      <td>c_1892</td>\n",
       "      <td>f</td>\n",
       "      <td>1974</td>\n",
       "      <td>0_73</td>\n",
       "      <td>2021-10-02</td>\n",
       "      <td>s_98924</td>\n",
       "      <td>2021</td>\n",
       "      <td>10</td>\n",
       "      <td>2</td>\n",
       "      <td>2.99</td>\n",
       "      <td>0</td>\n",
       "      <td>2021-10</td>\n",
       "      <td>49</td>\n",
       "      <td>(30, 50]</td>\n",
       "    </tr>\n",
       "    <tr>\n",
       "      <th>679263</th>\n",
       "      <td>c_1716</td>\n",
       "      <td>f</td>\n",
       "      <td>1977</td>\n",
       "      <td>0_1459</td>\n",
       "      <td>2021-10-01</td>\n",
       "      <td>s_98400</td>\n",
       "      <td>2021</td>\n",
       "      <td>10</td>\n",
       "      <td>1</td>\n",
       "      <td>0.99</td>\n",
       "      <td>0</td>\n",
       "      <td>2021-10</td>\n",
       "      <td>46</td>\n",
       "      <td>(30, 50]</td>\n",
       "    </tr>\n",
       "    <tr>\n",
       "      <th>679276</th>\n",
       "      <td>c_5216</td>\n",
       "      <td>m</td>\n",
       "      <td>1971</td>\n",
       "      <td>0_1735</td>\n",
       "      <td>2021-10-27</td>\n",
       "      <td>s_110697</td>\n",
       "      <td>2021</td>\n",
       "      <td>10</td>\n",
       "      <td>27</td>\n",
       "      <td>26.99</td>\n",
       "      <td>0</td>\n",
       "      <td>2021-10</td>\n",
       "      <td>52</td>\n",
       "      <td>(50, 70]</td>\n",
       "    </tr>\n",
       "  </tbody>\n",
       "</table>\n",
       "<p>21599 rows × 14 columns</p>\n",
       "</div>"
      ],
      "text/plain": [
       "       client_id sex  birth id_prod       date session_id  year  month  day  \\\n",
       "13        c_2809   m   1981  0_1316 2021-10-26   s_110587  2021     10   26   \n",
       "14        c_1987   f   1972  0_1316 2021-10-16   s_105529  2021     10   16   \n",
       "18        c_3770   m   1956  0_1316 2021-10-29   s_111884  2021     10   29   \n",
       "39        c_2993   m   1964  0_1316 2021-10-20   s_107468  2021     10   20   \n",
       "51        c_5835   f   1991  0_1316 2021-10-22   s_108696  2021     10   22   \n",
       "...          ...  ..    ...     ...        ...        ...   ...    ...  ...   \n",
       "679234    c_6597   f   1974  0_1331 2021-10-08   s_101952  2021     10    8   \n",
       "679244    c_8374   m   1963    0_79 2021-10-18   s_106386  2021     10   18   \n",
       "679252    c_1892   f   1974    0_73 2021-10-02    s_98924  2021     10    2   \n",
       "679263    c_1716   f   1977  0_1459 2021-10-01    s_98400  2021     10    1   \n",
       "679276    c_5216   m   1971  0_1735 2021-10-27   s_110697  2021     10   27   \n",
       "\n",
       "        price  categ month_year  age  age_rang  \n",
       "13       7.20      0    2021-10   42  (30, 50]  \n",
       "14       7.20      0    2021-10   51  (50, 70]  \n",
       "18       7.20      0    2021-10   67  (50, 70]  \n",
       "39       7.20      0    2021-10   59  (50, 70]  \n",
       "51       7.20      0    2021-10   32  (30, 50]  \n",
       "...       ...    ...        ...  ...       ...  \n",
       "679234  29.99      0    2021-10   49  (30, 50]  \n",
       "679244  24.99      0    2021-10   60  (50, 70]  \n",
       "679252   2.99      0    2021-10   49  (30, 50]  \n",
       "679263   0.99      0    2021-10   46  (30, 50]  \n",
       "679276  26.99      0    2021-10   52  (50, 70]  \n",
       "\n",
       "[21599 rows x 14 columns]"
      ]
     },
     "execution_count": 71,
     "metadata": {},
     "output_type": "execute_result"
    }
   ],
   "source": [
    "octobre_2021 = df.loc[df['month_year'] == '2021-10']\n",
    "octobre_2021"
   ]
  },
  {
   "cell_type": "code",
   "execution_count": 72,
   "id": "b3fcaff9",
   "metadata": {},
   "outputs": [
    {
     "data": {
      "text/plain": [
       "320798.74"
      ]
     },
     "execution_count": 72,
     "metadata": {},
     "output_type": "execute_result"
    }
   ],
   "source": [
    "df.loc[df['month_year'] == '2021-10']['price'].sum()"
   ]
  },
  {
   "cell_type": "code",
   "execution_count": 73,
   "id": "6062a8d7",
   "metadata": {},
   "outputs": [
    {
     "data": {
      "text/plain": [
       "21599"
      ]
     },
     "execution_count": 73,
     "metadata": {},
     "output_type": "execute_result"
    }
   ],
   "source": [
    "df.loc[df['month_year'] == '2021-10']['session_id'].count()"
   ]
  },
  {
   "cell_type": "code",
   "execution_count": 74,
   "id": "e702743e",
   "metadata": {},
   "outputs": [
    {
     "data": {
      "text/plain": [
       "415459"
      ]
     },
     "execution_count": 74,
     "metadata": {},
     "output_type": "execute_result"
    }
   ],
   "source": [
    "df.loc[df['categ'] == 0]['session_id'].count()"
   ]
  },
  {
   "cell_type": "code",
   "execution_count": 75,
   "id": "f7cb2b95",
   "metadata": {},
   "outputs": [
    {
     "data": {
      "text/plain": [
       "227169"
      ]
     },
     "execution_count": 75,
     "metadata": {},
     "output_type": "execute_result"
    }
   ],
   "source": [
    "df.loc[df['categ'] == 1]['session_id'].count()"
   ]
  },
  {
   "cell_type": "code",
   "execution_count": 76,
   "id": "8a9bd851",
   "metadata": {},
   "outputs": [
    {
     "data": {
      "text/plain": [
       "36483"
      ]
     },
     "execution_count": 76,
     "metadata": {},
     "output_type": "execute_result"
    }
   ],
   "source": [
    "df.loc[df['categ'] == 2]['session_id'].count()"
   ]
  },
  {
   "cell_type": "markdown",
   "id": "473f86a2",
   "metadata": {},
   "source": [
    "#### Le CA est au maximum en fervrier 2022, et est en net baisse en octobre 2021 (minimum) cela s'explique par le nombre de commande passées dans la categ 1 qui est la moins chere et le nombre bas de commande passée en categ 2 qui est la plus chere comme vu ci_dessus( boite à moustache). "
   ]
  },
  {
   "cell_type": "code",
   "execution_count": 77,
   "id": "ba24dd9a",
   "metadata": {},
   "outputs": [
    {
     "data": {
      "text/html": [
       "<div>\n",
       "<style scoped>\n",
       "    .dataframe tbody tr th:only-of-type {\n",
       "        vertical-align: middle;\n",
       "    }\n",
       "\n",
       "    .dataframe tbody tr th {\n",
       "        vertical-align: top;\n",
       "    }\n",
       "\n",
       "    .dataframe thead th {\n",
       "        text-align: right;\n",
       "    }\n",
       "</style>\n",
       "<table border=\"1\" class=\"dataframe\">\n",
       "  <thead>\n",
       "    <tr style=\"text-align: right;\">\n",
       "      <th></th>\n",
       "      <th>week</th>\n",
       "      <th>price</th>\n",
       "    </tr>\n",
       "  </thead>\n",
       "  <tbody>\n",
       "    <tr>\n",
       "      <th>0</th>\n",
       "      <td>1</td>\n",
       "      <td>235130.73</td>\n",
       "    </tr>\n",
       "    <tr>\n",
       "      <th>1</th>\n",
       "      <td>2</td>\n",
       "      <td>237955.59</td>\n",
       "    </tr>\n",
       "    <tr>\n",
       "      <th>2</th>\n",
       "      <td>3</td>\n",
       "      <td>230521.87</td>\n",
       "    </tr>\n",
       "    <tr>\n",
       "      <th>3</th>\n",
       "      <td>4</td>\n",
       "      <td>239631.52</td>\n",
       "    </tr>\n",
       "    <tr>\n",
       "      <th>4</th>\n",
       "      <td>5</td>\n",
       "      <td>242148.03</td>\n",
       "    </tr>\n",
       "  </tbody>\n",
       "</table>\n",
       "</div>"
      ],
      "text/plain": [
       "   week      price\n",
       "0     1  235130.73\n",
       "1     2  237955.59\n",
       "2     3  230521.87\n",
       "3     4  239631.52\n",
       "4     5  242148.03"
      ]
     },
     "execution_count": 77,
     "metadata": {},
     "output_type": "execute_result"
    }
   ],
   "source": [
    "# Je calcule le chiffre d'affaires hebdomadaire\n",
    "df['date'] = pd.to_datetime(df['date'])\n",
    "df['week'] = df['date'].dt.week\n",
    "ca_week = df.groupby(['week'])['price'].sum().reset_index()\n",
    "ca_week.head()"
   ]
  },
  {
   "cell_type": "code",
   "execution_count": 78,
   "id": "5e3ae5b5",
   "metadata": {},
   "outputs": [
    {
     "data": {
      "text/html": [
       "<div>\n",
       "<style scoped>\n",
       "    .dataframe tbody tr th:only-of-type {\n",
       "        vertical-align: middle;\n",
       "    }\n",
       "\n",
       "    .dataframe tbody tr th {\n",
       "        vertical-align: top;\n",
       "    }\n",
       "\n",
       "    .dataframe thead th {\n",
       "        text-align: right;\n",
       "    }\n",
       "</style>\n",
       "<table border=\"1\" class=\"dataframe\">\n",
       "  <thead>\n",
       "    <tr style=\"text-align: right;\">\n",
       "      <th></th>\n",
       "      <th>week</th>\n",
       "      <th>price</th>\n",
       "    </tr>\n",
       "  </thead>\n",
       "  <tbody>\n",
       "    <tr>\n",
       "      <th>count</th>\n",
       "      <td>52.000000</td>\n",
       "      <td>52.000000</td>\n",
       "    </tr>\n",
       "    <tr>\n",
       "      <th>mean</th>\n",
       "      <td>26.500000</td>\n",
       "      <td>227956.320769</td>\n",
       "    </tr>\n",
       "    <tr>\n",
       "      <th>std</th>\n",
       "      <td>15.154757</td>\n",
       "      <td>15419.964565</td>\n",
       "    </tr>\n",
       "    <tr>\n",
       "      <th>min</th>\n",
       "      <td>1.000000</td>\n",
       "      <td>175396.020000</td>\n",
       "    </tr>\n",
       "    <tr>\n",
       "      <th>25%</th>\n",
       "      <td>13.750000</td>\n",
       "      <td>223364.672500</td>\n",
       "    </tr>\n",
       "    <tr>\n",
       "      <th>50%</th>\n",
       "      <td>26.500000</td>\n",
       "      <td>228744.070000</td>\n",
       "    </tr>\n",
       "    <tr>\n",
       "      <th>75%</th>\n",
       "      <td>39.250000</td>\n",
       "      <td>236132.265000</td>\n",
       "    </tr>\n",
       "    <tr>\n",
       "      <th>max</th>\n",
       "      <td>52.000000</td>\n",
       "      <td>267716.640000</td>\n",
       "    </tr>\n",
       "  </tbody>\n",
       "</table>\n",
       "</div>"
      ],
      "text/plain": [
       "            week          price\n",
       "count  52.000000      52.000000\n",
       "mean   26.500000  227956.320769\n",
       "std    15.154757   15419.964565\n",
       "min     1.000000  175396.020000\n",
       "25%    13.750000  223364.672500\n",
       "50%    26.500000  228744.070000\n",
       "75%    39.250000  236132.265000\n",
       "max    52.000000  267716.640000"
      ]
     },
     "execution_count": 78,
     "metadata": {},
     "output_type": "execute_result"
    }
   ],
   "source": [
    "ca_week.describe()"
   ]
  },
  {
   "cell_type": "code",
   "execution_count": 79,
   "id": "c29dd60f",
   "metadata": {},
   "outputs": [
    {
     "data": {
      "image/png": "[encoded data removed]",
      "text/plain": [
       "<Figure size 1700x900 with 1 Axes>"
      ]
     },
     "metadata": {},
     "output_type": "display_data"
    }
   ],
   "source": [
    "plt.figure(figsize=(17, 9))\n",
    "plt.plot(ca_week['week'], ca_week[\"price\"])\n",
    "plt.title(\"Évolution hebdomadaire du CA\", fontname='Arial', fontsize=20)\n",
    "plt.xlabel(\"Semaine\", fontname='Arial', fontsize=18)\n",
    "plt.ylabel(\"CA en milliers d'euros\", fontname='Arial', fontsize=18)\n",
    "plt.xticks(rotation=90, fontsize=15)\n",
    "plt.yticks(np.arange(170000, 280000, 10000), fontsize=15)\n",
    "plt.show()"
   ]
  },
  {
   "cell_type": "markdown",
   "id": "9c1543b5",
   "metadata": {},
   "source": [
    "#### Le CA est en net baisse au environ de la semaine 40, ce qui correspond au mois d'octobre 2010."
   ]
  },
  {
   "cell_type": "code",
   "execution_count": 80,
   "id": "70c1ea3d",
   "metadata": {
    "scrolled": true
   },
   "outputs": [
    {
     "data": {
      "text/html": [
       "<div>\n",
       "<style scoped>\n",
       "    .dataframe tbody tr th:only-of-type {\n",
       "        vertical-align: middle;\n",
       "    }\n",
       "\n",
       "    .dataframe tbody tr th {\n",
       "        vertical-align: top;\n",
       "    }\n",
       "\n",
       "    .dataframe thead th {\n",
       "        text-align: right;\n",
       "    }\n",
       "</style>\n",
       "<table border=\"1\" class=\"dataframe\">\n",
       "  <thead>\n",
       "    <tr style=\"text-align: right;\">\n",
       "      <th></th>\n",
       "      <th>date</th>\n",
       "      <th>price</th>\n",
       "    </tr>\n",
       "  </thead>\n",
       "  <tbody>\n",
       "    <tr>\n",
       "      <th>0</th>\n",
       "      <td>2021-03-01</td>\n",
       "      <td>16565.22</td>\n",
       "    </tr>\n",
       "    <tr>\n",
       "      <th>1</th>\n",
       "      <td>2021-03-02</td>\n",
       "      <td>15486.45</td>\n",
       "    </tr>\n",
       "    <tr>\n",
       "      <th>2</th>\n",
       "      <td>2021-03-03</td>\n",
       "      <td>15198.69</td>\n",
       "    </tr>\n",
       "    <tr>\n",
       "      <th>3</th>\n",
       "      <td>2021-03-04</td>\n",
       "      <td>15196.07</td>\n",
       "    </tr>\n",
       "    <tr>\n",
       "      <th>4</th>\n",
       "      <td>2021-03-05</td>\n",
       "      <td>17471.37</td>\n",
       "    </tr>\n",
       "  </tbody>\n",
       "</table>\n",
       "</div>"
      ],
      "text/plain": [
       "        date     price\n",
       "0 2021-03-01  16565.22\n",
       "1 2021-03-02  15486.45\n",
       "2 2021-03-03  15198.69\n",
       "3 2021-03-04  15196.07\n",
       "4 2021-03-05  17471.37"
      ]
     },
     "execution_count": 80,
     "metadata": {},
     "output_type": "execute_result"
    }
   ],
   "source": [
    "# Je calcule le CA par jour \n",
    "ca_day = df.groupby(['date']).sum()[['price']].reset_index()\n",
    "ca_day.head()"
   ]
  },
  {
   "cell_type": "code",
   "execution_count": 81,
   "id": "460d38c4",
   "metadata": {},
   "outputs": [
    {
     "data": {
      "text/plain": [
       "count      730.000000\n",
       "mean     16237.984493\n",
       "std       1847.906447\n",
       "min       8076.040000\n",
       "25%      15476.225000\n",
       "50%      16223.305000\n",
       "75%      17185.785000\n",
       "max      20487.680000\n",
       "Name: price, dtype: float64"
      ]
     },
     "execution_count": 81,
     "metadata": {},
     "output_type": "execute_result"
    }
   ],
   "source": [
    "ca_day['price'].describe()"
   ]
  },
  {
   "cell_type": "code",
   "execution_count": 82,
   "id": "afcb0ad0",
   "metadata": {},
   "outputs": [
    {
     "data": {
      "image/png": "[encoded data removed]",
      "text/plain": [
       "<Figure size 1800x700 with 1 Axes>"
      ]
     },
     "metadata": {},
     "output_type": "display_data"
    }
   ],
   "source": [
    "plt.figure(figsize=(18, 7))\n",
    "plt.plot(ca_day['date'], ca_day[\"price\"])\n",
    "plt.title(\"Évolution journalière du CA\", fontname='Arial', fontsize=20)\n",
    "plt.xlabel(\"Date\", fontsize=18)\n",
    "plt.ylabel(\"CA en milliers d'euros\",  fontsize=18)\n",
    "plt.xticks(rotation=90, fontsize=15)\n",
    "plt.yticks(np.arange(8000, 21000, 2000), fontsize=15)\n",
    "plt.show()"
   ]
  },
  {
   "cell_type": "markdown",
   "id": "da7b0ddd",
   "metadata": {},
   "source": [
    "#### Le CA journalier suis la même tendance que le CA hebdomadaire et mensuel."
   ]
  },
  {
   "cell_type": "markdown",
   "id": "6a43a1c0",
   "metadata": {},
   "source": [
    "### 5.1.3 Moyenne mobile"
   ]
  },
  {
   "cell_type": "code",
   "execution_count": 83,
   "id": "2987d757",
   "metadata": {},
   "outputs": [
    {
     "name": "stdout",
     "output_type": "stream",
     "text": [
      "date\n",
      "2021-03-01    16565.220000\n",
      "2021-03-02    16025.835000\n",
      "2021-03-03    15750.120000\n",
      "2021-03-04    15611.607500\n",
      "2021-03-05    15983.560000\n",
      "                  ...     \n",
      "2023-02-24    16488.778571\n",
      "2023-02-25    16006.747143\n",
      "2023-02-26    16035.021429\n",
      "2023-02-27    16487.570000\n",
      "2023-02-28    16513.984286\n",
      "Name: price, Length: 730, dtype: float64\n",
      "date\n",
      "2021-03-01     16565.220000\n",
      "2021-03-08     63071.405000\n",
      "2021-03-15     77432.726667\n",
      "2021-03-22     85968.162500\n",
      "2021-03-29     90418.742000\n",
      "                  ...      \n",
      "2023-02-06    114375.810000\n",
      "2023-02-13    115353.637143\n",
      "2023-02-20    115223.540000\n",
      "2023-02-27    114705.207143\n",
      "2023-03-06    100937.495714\n",
      "Freq: W-MON, Name: price, Length: 106, dtype: float64\n",
      "date\n",
      "2021-03-31    482440.610000\n",
      "2021-04-30    479274.955000\n",
      "2021-05-31    483831.126667\n",
      "2021-06-30    483895.485000\n",
      "2021-07-31    483683.468000\n",
      "2021-08-31    483450.355000\n",
      "2021-09-30    486848.972857\n",
      "2021-10-31    466092.693750\n",
      "2021-11-30    471656.586667\n",
      "2021-12-31    477082.656000\n",
      "2022-01-31    481469.595455\n",
      "2022-02-28    485978.087500\n",
      "2022-03-31    488245.660000\n",
      "2022-04-30    488585.180000\n",
      "2022-05-31    490488.341333\n",
      "2022-06-30    490833.827500\n",
      "2022-07-31    492007.315294\n",
      "2022-08-31    492810.646111\n",
      "2022-09-30    492879.271579\n",
      "2022-10-31    493631.196500\n",
      "2022-11-30    493775.660476\n",
      "2022-12-31    494523.107727\n",
      "2023-01-31    495523.866087\n",
      "2023-02-28    493905.361667\n",
      "Freq: M, Name: price, dtype: float64\n"
     ]
    }
   ],
   "source": [
    "# Je calcule la moyenne mobile par jour, semaine et mois\n",
    "rolling_mean_day = df.groupby('date')['price'].sum().rolling(window=7, min_periods=1).mean()\n",
    "rolling_mean_week = df.groupby(pd.Grouper(key='date', freq='W-MON'))['price'].sum().rolling(window=7, min_periods=1).mean()\n",
    "rolling_mean_month = df.groupby(pd.Grouper(key='date', freq='M'))['price'].sum().rolling(window=30, min_periods=1).mean()\n",
    "\n",
    "print(rolling_mean_day)\n",
    "print(rolling_mean_week)\n",
    "print(rolling_mean_month)"
   ]
  },
  {
   "cell_type": "code",
   "execution_count": 84,
   "id": "2939fdd1",
   "metadata": {},
   "outputs": [
    {
     "data": {
      "image/png": "[encoded data removed]",
      "text/plain": [
       "<Figure size 1200x600 with 1 Axes>"
      ]
     },
     "metadata": {},
     "output_type": "display_data"
    }
   ],
   "source": [
    "# J'affiche le résultat dans un graphique pour la moyenne mobile mensuel uniquement\n",
    "fig, ax = plt.subplots(figsize=(12, 6))\n",
    "ax.plot(rolling_mean_month, label='Moyenne mobile par mois')\n",
    "ax.set_title('Moyennes mobiles mensuel du chiffre d\\'affaires')\n",
    "plt.xlabel(\"Mois\", fontname='Arial', fontsize=16)\n",
    "plt.ylabel(\"CA en milliers d'eurso\", fontname='Arial', fontsize=16)\n",
    "ax.legend()\n",
    "plt.show()"
   ]
  },
  {
   "cell_type": "markdown",
   "id": "9d6112a4",
   "metadata": {},
   "source": [
    "#### La moyenne mobile du CA mensuel suis la meme tendance que l'évolution du CA vu ci-dessus. En effet il y'a une forte baisse en 10/2021 et ensuite reaugmentation."
   ]
  },
  {
   "cell_type": "markdown",
   "id": "7d1f67f1",
   "metadata": {},
   "source": [
    "### Question 2: Zoom sur les références, pour voir un peu les tops et les flops, la répartition par catégorie, etc.\n",
    "### 5.2.1 Les références : tops et flops"
   ]
  },
  {
   "cell_type": "code",
   "execution_count": 85,
   "id": "2d8f9b4d",
   "metadata": {},
   "outputs": [
    {
     "name": "stdout",
     "output_type": "stream",
     "text": [
      "Les produits les plus vendus :\n",
      "     id_prod  count\n",
      "2591   1_369   2252\n",
      "2644   1_417   2189\n",
      "2641   1_414   2180\n",
      "2733   1_498   2128\n",
      "2653   1_425   2096\n"
     ]
    }
   ],
   "source": [
    "# Produits les plus vendus\n",
    "top_produits = df.groupby('id_prod')['session_id'].count().reset_index(name='count').sort_values(['count'], ascending=False)\n",
    "print(\"Les produits les plus vendus :\")\n",
    "print(top_produits.head())"
   ]
  },
  {
   "cell_type": "code",
   "execution_count": 86,
   "id": "a0450dcc",
   "metadata": {},
   "outputs": [
    {
     "name": "stdout",
     "output_type": "stream",
     "text": [
      "Les produits les moins vendus :\n",
      "     id_prod  count\n",
      "1327  0_2201      1\n",
      "665   0_1601      1\n",
      "1792   0_549      1\n",
      "3247    2_81      1\n",
      "2079   0_807      1\n"
     ]
    }
   ],
   "source": [
    "# Produits les moins vendus\n",
    "flops_produits = df.groupby('id_prod')['session_id'].count().reset_index(name='count').sort_values(['count'], ascending=True)\n",
    "print(\"Les produits les moins vendus :\")\n",
    "print(flops_produits.head())"
   ]
  },
  {
   "cell_type": "markdown",
   "id": "a482ae6b",
   "metadata": {},
   "source": [
    "### 5.2.2 La répartition par catégorie"
   ]
  },
  {
   "cell_type": "code",
   "execution_count": 87,
   "id": "42c489d5",
   "metadata": {},
   "outputs": [
    {
     "name": "stdout",
     "output_type": "stream",
     "text": [
      "Les produits les plus vendus par catégorie :\n",
      "      categ id_prod  count\n",
      "3034      2   2_102   1027\n",
      "3070      2   2_135   1005\n",
      "3045      2   2_112    968\n",
      "3201      2    2_39    915\n",
      "3199      2    2_37    882\n",
      "2591      1   1_369   2252\n",
      "2644      1   1_417   2189\n",
      "2641      1   1_414   2180\n",
      "2733      1   1_498   2128\n",
      "2653      1   1_425   2096\n",
      "466       0  0_1422   1292\n",
      "476       0  0_1431   1282\n",
      "469       0  0_1425   1266\n",
      "477       0  0_1432   1254\n",
      "454       0  0_1411   1246\n"
     ]
    }
   ],
   "source": [
    "# Produits les plus vendus par catégorie\n",
    "top_produits_categ = df.groupby(['categ','id_prod'])['session_id'].count().reset_index(name='count').sort_values(['categ','count'], ascending=False).groupby('categ').head()\n",
    "print(\"Les produits les plus vendus par catégorie :\")\n",
    "print(top_produits_categ)"
   ]
  },
  {
   "cell_type": "code",
   "execution_count": 88,
   "id": "2263fa58",
   "metadata": {},
   "outputs": [
    {
     "name": "stdout",
     "output_type": "stream",
     "text": [
      "Les produits les moins vendus par catégorie :\n",
      "      categ id_prod  count\n",
      "166       0  0_1151      1\n",
      "313       0  0_1284      1\n",
      "417       0  0_1379      1\n",
      "549       0  0_1498      1\n",
      "595       0  0_1539      1\n",
      "2628      1   1_402      2\n",
      "2648      1   1_420      2\n",
      "2752      1   1_514      2\n",
      "2344      1   1_146      3\n",
      "2630      1   1_404      3\n",
      "3175      2    2_23      1\n",
      "3247      2    2_81      1\n",
      "3263      2    2_98      1\n",
      "3242      2    2_77      2\n",
      "3258      2    2_93      2\n"
     ]
    }
   ],
   "source": [
    "# Produits les moins vendus par catégorie\n",
    "flops_produits_categ = df.groupby(['categ','id_prod'])['session_id'].count().reset_index(name='count').sort_values(['categ','count'], ascending=True).groupby('categ').head()\n",
    "print(\"Les produits les moins vendus par catégorie :\")\n",
    "print(flops_produits_categ)"
   ]
  },
  {
   "cell_type": "markdown",
   "id": "e80051d7",
   "metadata": {},
   "source": [
    "### Question 3: Quelques informations sur les profils des clients, et également la répartition du chiffre d'affaires entre eux, via la courbe de Lorenz.\n",
    "\n",
    "### 5.3.1 Informations sur les profils clients\n"
   ]
  },
  {
   "cell_type": "code",
   "execution_count": 89,
   "id": "5a4a8e96",
   "metadata": {},
   "outputs": [
    {
     "data": {
      "text/html": [
       "<div>\n",
       "<style scoped>\n",
       "    .dataframe tbody tr th:only-of-type {\n",
       "        vertical-align: middle;\n",
       "    }\n",
       "\n",
       "    .dataframe tbody tr th {\n",
       "        vertical-align: top;\n",
       "    }\n",
       "\n",
       "    .dataframe thead th {\n",
       "        text-align: right;\n",
       "    }\n",
       "</style>\n",
       "<table border=\"1\" class=\"dataframe\">\n",
       "  <thead>\n",
       "    <tr style=\"text-align: right;\">\n",
       "      <th></th>\n",
       "      <th>client_id</th>\n",
       "      <th>sex</th>\n",
       "      <th>birth</th>\n",
       "      <th>id_prod</th>\n",
       "      <th>date</th>\n",
       "      <th>session_id</th>\n",
       "      <th>year</th>\n",
       "      <th>month</th>\n",
       "      <th>day</th>\n",
       "      <th>price</th>\n",
       "      <th>categ</th>\n",
       "      <th>month_year</th>\n",
       "      <th>age</th>\n",
       "      <th>age_rang</th>\n",
       "      <th>week</th>\n",
       "    </tr>\n",
       "  </thead>\n",
       "  <tbody>\n",
       "    <tr>\n",
       "      <th>0</th>\n",
       "      <td>c_4410</td>\n",
       "      <td>f</td>\n",
       "      <td>1967</td>\n",
       "      <td>0_1316</td>\n",
       "      <td>2021-12-29</td>\n",
       "      <td>s_141762</td>\n",
       "      <td>2021</td>\n",
       "      <td>12</td>\n",
       "      <td>29</td>\n",
       "      <td>7.2</td>\n",
       "      <td>0</td>\n",
       "      <td>2021-12</td>\n",
       "      <td>56</td>\n",
       "      <td>(50, 70]</td>\n",
       "      <td>52</td>\n",
       "    </tr>\n",
       "    <tr>\n",
       "      <th>1</th>\n",
       "      <td>c_4410</td>\n",
       "      <td>f</td>\n",
       "      <td>1967</td>\n",
       "      <td>0_1316</td>\n",
       "      <td>2022-03-29</td>\n",
       "      <td>s_186233</td>\n",
       "      <td>2022</td>\n",
       "      <td>3</td>\n",
       "      <td>29</td>\n",
       "      <td>7.2</td>\n",
       "      <td>0</td>\n",
       "      <td>2022-03</td>\n",
       "      <td>56</td>\n",
       "      <td>(50, 70]</td>\n",
       "      <td>13</td>\n",
       "    </tr>\n",
       "    <tr>\n",
       "      <th>2</th>\n",
       "      <td>c_4410</td>\n",
       "      <td>f</td>\n",
       "      <td>1967</td>\n",
       "      <td>0_1316</td>\n",
       "      <td>2022-05-29</td>\n",
       "      <td>s_215758</td>\n",
       "      <td>2022</td>\n",
       "      <td>5</td>\n",
       "      <td>29</td>\n",
       "      <td>7.2</td>\n",
       "      <td>0</td>\n",
       "      <td>2022-05</td>\n",
       "      <td>56</td>\n",
       "      <td>(50, 70]</td>\n",
       "      <td>21</td>\n",
       "    </tr>\n",
       "    <tr>\n",
       "      <th>3</th>\n",
       "      <td>c_3654</td>\n",
       "      <td>f</td>\n",
       "      <td>1978</td>\n",
       "      <td>0_1316</td>\n",
       "      <td>2021-11-26</td>\n",
       "      <td>s_125143</td>\n",
       "      <td>2021</td>\n",
       "      <td>11</td>\n",
       "      <td>26</td>\n",
       "      <td>7.2</td>\n",
       "      <td>0</td>\n",
       "      <td>2021-11</td>\n",
       "      <td>45</td>\n",
       "      <td>(30, 50]</td>\n",
       "      <td>47</td>\n",
       "    </tr>\n",
       "    <tr>\n",
       "      <th>4</th>\n",
       "      <td>c_3654</td>\n",
       "      <td>f</td>\n",
       "      <td>1978</td>\n",
       "      <td>0_1316</td>\n",
       "      <td>2022-08-26</td>\n",
       "      <td>s_258546</td>\n",
       "      <td>2022</td>\n",
       "      <td>8</td>\n",
       "      <td>26</td>\n",
       "      <td>7.2</td>\n",
       "      <td>0</td>\n",
       "      <td>2022-08</td>\n",
       "      <td>45</td>\n",
       "      <td>(30, 50]</td>\n",
       "      <td>34</td>\n",
       "    </tr>\n",
       "  </tbody>\n",
       "</table>\n",
       "</div>"
      ],
      "text/plain": [
       "  client_id sex  birth id_prod       date session_id  year  month  day  price  \\\n",
       "0    c_4410   f   1967  0_1316 2021-12-29   s_141762  2021     12   29    7.2   \n",
       "1    c_4410   f   1967  0_1316 2022-03-29   s_186233  2022      3   29    7.2   \n",
       "2    c_4410   f   1967  0_1316 2022-05-29   s_215758  2022      5   29    7.2   \n",
       "3    c_3654   f   1978  0_1316 2021-11-26   s_125143  2021     11   26    7.2   \n",
       "4    c_3654   f   1978  0_1316 2022-08-26   s_258546  2022      8   26    7.2   \n",
       "\n",
       "   categ month_year  age  age_rang  week  \n",
       "0      0    2021-12   56  (50, 70]    52  \n",
       "1      0    2022-03   56  (50, 70]    13  \n",
       "2      0    2022-05   56  (50, 70]    21  \n",
       "3      0    2021-11   45  (30, 50]    47  \n",
       "4      0    2022-08   45  (30, 50]    34  "
      ]
     },
     "execution_count": 89,
     "metadata": {},
     "output_type": "execute_result"
    }
   ],
   "source": [
    "df.head()"
   ]
  },
  {
   "cell_type": "code",
   "execution_count": 90,
   "id": "f2eb739e",
   "metadata": {},
   "outputs": [
    {
     "data": {
      "text/html": [
       "<div>\n",
       "<style scoped>\n",
       "    .dataframe tbody tr th:only-of-type {\n",
       "        vertical-align: middle;\n",
       "    }\n",
       "\n",
       "    .dataframe tbody tr th {\n",
       "        vertical-align: top;\n",
       "    }\n",
       "\n",
       "    .dataframe thead th {\n",
       "        text-align: right;\n",
       "    }\n",
       "</style>\n",
       "<table border=\"1\" class=\"dataframe\">\n",
       "  <thead>\n",
       "    <tr style=\"text-align: right;\">\n",
       "      <th></th>\n",
       "      <th>nombre_achats</th>\n",
       "      <th>montant_total</th>\n",
       "    </tr>\n",
       "    <tr>\n",
       "      <th>client_id</th>\n",
       "      <th></th>\n",
       "      <th></th>\n",
       "    </tr>\n",
       "  </thead>\n",
       "  <tbody>\n",
       "    <tr>\n",
       "      <th>c_1609</th>\n",
       "      <td>25488</td>\n",
       "      <td>324033.35</td>\n",
       "    </tr>\n",
       "    <tr>\n",
       "      <th>c_4958</th>\n",
       "      <td>5195</td>\n",
       "      <td>289760.34</td>\n",
       "    </tr>\n",
       "    <tr>\n",
       "      <th>c_6714</th>\n",
       "      <td>9181</td>\n",
       "      <td>153598.92</td>\n",
       "    </tr>\n",
       "    <tr>\n",
       "      <th>c_3454</th>\n",
       "      <td>6770</td>\n",
       "      <td>113637.93</td>\n",
       "    </tr>\n",
       "    <tr>\n",
       "      <th>c_3263</th>\n",
       "      <td>403</td>\n",
       "      <td>5276.87</td>\n",
       "    </tr>\n",
       "    <tr>\n",
       "      <th>c_1570</th>\n",
       "      <td>369</td>\n",
       "      <td>5271.62</td>\n",
       "    </tr>\n",
       "    <tr>\n",
       "      <th>c_2899</th>\n",
       "      <td>105</td>\n",
       "      <td>5214.05</td>\n",
       "    </tr>\n",
       "    <tr>\n",
       "      <th>c_2140</th>\n",
       "      <td>402</td>\n",
       "      <td>5208.82</td>\n",
       "    </tr>\n",
       "    <tr>\n",
       "      <th>c_7319</th>\n",
       "      <td>371</td>\n",
       "      <td>5155.77</td>\n",
       "    </tr>\n",
       "    <tr>\n",
       "      <th>c_7959</th>\n",
       "      <td>369</td>\n",
       "      <td>5085.45</td>\n",
       "    </tr>\n",
       "  </tbody>\n",
       "</table>\n",
       "</div>"
      ],
      "text/plain": [
       "           nombre_achats  montant_total\n",
       "client_id                              \n",
       "c_1609             25488      324033.35\n",
       "c_4958              5195      289760.34\n",
       "c_6714              9181      153598.92\n",
       "c_3454              6770      113637.93\n",
       "c_3263               403        5276.87\n",
       "c_1570               369        5271.62\n",
       "c_2899               105        5214.05\n",
       "c_2140               402        5208.82\n",
       "c_7319               371        5155.77\n",
       "c_7959               369        5085.45"
      ]
     },
     "execution_count": 90,
     "metadata": {},
     "output_type": "execute_result"
    }
   ],
   "source": [
    "# Clients qui dépesent le plus\n",
    "top_clients = df.groupby('client_id').agg({'session_id': 'count', 'price': 'sum'})\n",
    "# Je renomme les colonnes pour plus de clarté\n",
    "top_clients = top_clients.rename(columns={'session_id': 'nombre_achats', 'price': 'montant_total'})\n",
    "top_clients = top_clients.sort_values('montant_total', ascending=False)\n",
    "top_clients.head(10)"
   ]
  },
  {
   "cell_type": "code",
   "execution_count": 91,
   "id": "2c4ed4ac",
   "metadata": {},
   "outputs": [
    {
     "data": {
      "text/html": [
       "<div>\n",
       "<style scoped>\n",
       "    .dataframe tbody tr th:only-of-type {\n",
       "        vertical-align: middle;\n",
       "    }\n",
       "\n",
       "    .dataframe tbody tr th {\n",
       "        vertical-align: top;\n",
       "    }\n",
       "\n",
       "    .dataframe thead th {\n",
       "        text-align: right;\n",
       "    }\n",
       "</style>\n",
       "<table border=\"1\" class=\"dataframe\">\n",
       "  <thead>\n",
       "    <tr style=\"text-align: right;\">\n",
       "      <th></th>\n",
       "      <th>nombre_achats</th>\n",
       "      <th>montant_total</th>\n",
       "    </tr>\n",
       "  </thead>\n",
       "  <tbody>\n",
       "    <tr>\n",
       "      <th>count</th>\n",
       "      <td>8600.000000</td>\n",
       "      <td>8600.000000</td>\n",
       "    </tr>\n",
       "    <tr>\n",
       "      <th>mean</th>\n",
       "      <td>78.966395</td>\n",
       "      <td>1378.340544</td>\n",
       "    </tr>\n",
       "    <tr>\n",
       "      <th>std</th>\n",
       "      <td>312.402910</td>\n",
       "      <td>5182.542488</td>\n",
       "    </tr>\n",
       "    <tr>\n",
       "      <th>min</th>\n",
       "      <td>1.000000</td>\n",
       "      <td>6.310000</td>\n",
       "    </tr>\n",
       "    <tr>\n",
       "      <th>25%</th>\n",
       "      <td>27.000000</td>\n",
       "      <td>547.630000</td>\n",
       "    </tr>\n",
       "    <tr>\n",
       "      <th>50%</th>\n",
       "      <td>51.000000</td>\n",
       "      <td>1027.020000</td>\n",
       "    </tr>\n",
       "    <tr>\n",
       "      <th>75%</th>\n",
       "      <td>96.000000</td>\n",
       "      <td>1779.500000</td>\n",
       "    </tr>\n",
       "    <tr>\n",
       "      <th>max</th>\n",
       "      <td>25488.000000</td>\n",
       "      <td>324033.350000</td>\n",
       "    </tr>\n",
       "  </tbody>\n",
       "</table>\n",
       "</div>"
      ],
      "text/plain": [
       "       nombre_achats  montant_total\n",
       "count    8600.000000    8600.000000\n",
       "mean       78.966395    1378.340544\n",
       "std       312.402910    5182.542488\n",
       "min         1.000000       6.310000\n",
       "25%        27.000000     547.630000\n",
       "50%        51.000000    1027.020000\n",
       "75%        96.000000    1779.500000\n",
       "max     25488.000000  324033.350000"
      ]
     },
     "execution_count": 91,
     "metadata": {},
     "output_type": "execute_result"
    }
   ],
   "source": [
    "top_clients.describe()"
   ]
  },
  {
   "cell_type": "markdown",
   "id": "be0d3d13",
   "metadata": {},
   "source": [
    "#### Nous avons 4 gros clients dont le montant des achats et le nombre de commande sont très élevés comparés aux autres. Il s'agit visiblement au vu du montant total d'achat, de client professionnel ( Entreprise, centre culturel etc.)"
   ]
  },
  {
   "cell_type": "code",
   "execution_count": 92,
   "id": "806736df",
   "metadata": {},
   "outputs": [
    {
     "data": {
      "text/html": [
       "<div>\n",
       "<style scoped>\n",
       "    .dataframe tbody tr th:only-of-type {\n",
       "        vertical-align: middle;\n",
       "    }\n",
       "\n",
       "    .dataframe tbody tr th {\n",
       "        vertical-align: top;\n",
       "    }\n",
       "\n",
       "    .dataframe thead th {\n",
       "        text-align: right;\n",
       "    }\n",
       "</style>\n",
       "<table border=\"1\" class=\"dataframe\">\n",
       "  <thead>\n",
       "    <tr style=\"text-align: right;\">\n",
       "      <th></th>\n",
       "      <th>nombre_achats</th>\n",
       "      <th>montant_total</th>\n",
       "    </tr>\n",
       "    <tr>\n",
       "      <th>client_id</th>\n",
       "      <th></th>\n",
       "      <th></th>\n",
       "    </tr>\n",
       "  </thead>\n",
       "  <tbody>\n",
       "    <tr>\n",
       "      <th>c_8351</th>\n",
       "      <td>1</td>\n",
       "      <td>6.31</td>\n",
       "    </tr>\n",
       "    <tr>\n",
       "      <th>c_8140</th>\n",
       "      <td>2</td>\n",
       "      <td>8.30</td>\n",
       "    </tr>\n",
       "    <tr>\n",
       "      <th>c_8114</th>\n",
       "      <td>2</td>\n",
       "      <td>9.98</td>\n",
       "    </tr>\n",
       "    <tr>\n",
       "      <th>c_240</th>\n",
       "      <td>1</td>\n",
       "      <td>11.06</td>\n",
       "    </tr>\n",
       "    <tr>\n",
       "      <th>c_4648</th>\n",
       "      <td>1</td>\n",
       "      <td>11.20</td>\n",
       "    </tr>\n",
       "    <tr>\n",
       "      <th>c_4478</th>\n",
       "      <td>1</td>\n",
       "      <td>13.36</td>\n",
       "    </tr>\n",
       "    <tr>\n",
       "      <th>c_5962</th>\n",
       "      <td>1</td>\n",
       "      <td>13.99</td>\n",
       "    </tr>\n",
       "    <tr>\n",
       "      <th>c_6040</th>\n",
       "      <td>2</td>\n",
       "      <td>15.72</td>\n",
       "    </tr>\n",
       "    <tr>\n",
       "      <th>c_5919</th>\n",
       "      <td>2</td>\n",
       "      <td>15.98</td>\n",
       "    </tr>\n",
       "    <tr>\n",
       "      <th>c_5829</th>\n",
       "      <td>2</td>\n",
       "      <td>16.07</td>\n",
       "    </tr>\n",
       "  </tbody>\n",
       "</table>\n",
       "</div>"
      ],
      "text/plain": [
       "           nombre_achats  montant_total\n",
       "client_id                              \n",
       "c_8351                 1           6.31\n",
       "c_8140                 2           8.30\n",
       "c_8114                 2           9.98\n",
       "c_240                  1          11.06\n",
       "c_4648                 1          11.20\n",
       "c_4478                 1          13.36\n",
       "c_5962                 1          13.99\n",
       "c_6040                 2          15.72\n",
       "c_5919                 2          15.98\n",
       "c_5829                 2          16.07"
      ]
     },
     "execution_count": 92,
     "metadata": {},
     "output_type": "execute_result"
    }
   ],
   "source": [
    "# Clients qui dépesent le moins\n",
    "flops_clients = df.groupby('client_id').agg({'session_id': 'count', 'price': 'sum'})\n",
    "# Je renomme les colonnes pour plus de clarté\n",
    "flops_clients = flops_clients.rename(columns={'session_id': 'nombre_achats', 'price': 'montant_total'})\n",
    "flops_clients = flops_clients.sort_values('montant_total', ascending=True)\n",
    "flops_clients.head(10)"
   ]
  },
  {
   "cell_type": "code",
   "execution_count": 93,
   "id": "89a1d688",
   "metadata": {},
   "outputs": [
    {
     "data": {
      "text/html": [
       "<div>\n",
       "<style scoped>\n",
       "    .dataframe tbody tr th:only-of-type {\n",
       "        vertical-align: middle;\n",
       "    }\n",
       "\n",
       "    .dataframe tbody tr th {\n",
       "        vertical-align: top;\n",
       "    }\n",
       "\n",
       "    .dataframe thead th {\n",
       "        text-align: right;\n",
       "    }\n",
       "</style>\n",
       "<table border=\"1\" class=\"dataframe\">\n",
       "  <thead>\n",
       "    <tr style=\"text-align: right;\">\n",
       "      <th></th>\n",
       "      <th></th>\n",
       "      <th>nombre_achats</th>\n",
       "      <th>montant_total</th>\n",
       "    </tr>\n",
       "    <tr>\n",
       "      <th>age_rang</th>\n",
       "      <th>sex</th>\n",
       "      <th></th>\n",
       "      <th></th>\n",
       "    </tr>\n",
       "  </thead>\n",
       "  <tbody>\n",
       "    <tr>\n",
       "      <th rowspan=\"2\" valign=\"top\">(30, 50]</th>\n",
       "      <th>m</th>\n",
       "      <td>210019</td>\n",
       "      <td>2833452.50</td>\n",
       "    </tr>\n",
       "    <tr>\n",
       "      <th>f</th>\n",
       "      <td>199027</td>\n",
       "      <td>2723134.68</td>\n",
       "    </tr>\n",
       "    <tr>\n",
       "      <th rowspan=\"2\" valign=\"top\">(18, 30]</th>\n",
       "      <th>m</th>\n",
       "      <td>38837</td>\n",
       "      <td>1647063.79</td>\n",
       "    </tr>\n",
       "    <tr>\n",
       "      <th>f</th>\n",
       "      <td>35198</td>\n",
       "      <td>1417734.39</td>\n",
       "    </tr>\n",
       "    <tr>\n",
       "      <th rowspan=\"2\" valign=\"top\">(50, 70]</th>\n",
       "      <th>f</th>\n",
       "      <td>84344</td>\n",
       "      <td>1388462.60</td>\n",
       "    </tr>\n",
       "    <tr>\n",
       "      <th>m</th>\n",
       "      <td>77486</td>\n",
       "      <td>1272864.15</td>\n",
       "    </tr>\n",
       "    <tr>\n",
       "      <th rowspan=\"2\" valign=\"top\">(70, 95]</th>\n",
       "      <th>f</th>\n",
       "      <td>19716</td>\n",
       "      <td>330351.46</td>\n",
       "    </tr>\n",
       "    <tr>\n",
       "      <th>m</th>\n",
       "      <td>14484</td>\n",
       "      <td>240665.11</td>\n",
       "    </tr>\n",
       "  </tbody>\n",
       "</table>\n",
       "</div>"
      ],
      "text/plain": [
       "              nombre_achats  montant_total\n",
       "age_rang sex                              \n",
       "(30, 50] m           210019     2833452.50\n",
       "         f           199027     2723134.68\n",
       "(18, 30] m            38837     1647063.79\n",
       "         f            35198     1417734.39\n",
       "(50, 70] f            84344     1388462.60\n",
       "         m            77486     1272864.15\n",
       "(70, 95] f            19716      330351.46\n",
       "         m            14484      240665.11"
      ]
     },
     "execution_count": 93,
     "metadata": {},
     "output_type": "execute_result"
    }
   ],
   "source": [
    "# Clients qui dépesent le plus par tranche d'âge et par genre\n",
    "tops_clients_age_genre = df.groupby(['age_rang', 'sex']).agg({'session_id': 'count', 'price': 'sum'})\n",
    "# Je renomme les colonnes pour plus de clarté\n",
    "tops_clients_age_genre = tops_clients_age_genre.rename(columns={'session_id': 'nombre_achats', 'price': 'montant_total'})\n",
    "tops_clients_age_genre = tops_clients_age_genre.sort_values('montant_total', ascending=False)\n",
    "tops_clients_age_genre"
   ]
  },
  {
   "cell_type": "markdown",
   "id": "d668ac97",
   "metadata": {},
   "source": [
    "#### Les hommes chez les 30-50 sont ceux qui depensent le plus."
   ]
  },
  {
   "cell_type": "code",
   "execution_count": 94,
   "id": "0ce2494c",
   "metadata": {},
   "outputs": [
    {
     "data": {
      "text/html": [
       "<div>\n",
       "<style scoped>\n",
       "    .dataframe tbody tr th:only-of-type {\n",
       "        vertical-align: middle;\n",
       "    }\n",
       "\n",
       "    .dataframe tbody tr th {\n",
       "        vertical-align: top;\n",
       "    }\n",
       "\n",
       "    .dataframe thead th {\n",
       "        text-align: right;\n",
       "    }\n",
       "</style>\n",
       "<table border=\"1\" class=\"dataframe\">\n",
       "  <thead>\n",
       "    <tr style=\"text-align: right;\">\n",
       "      <th></th>\n",
       "      <th></th>\n",
       "      <th>nombre_achats</th>\n",
       "      <th>montant_total</th>\n",
       "    </tr>\n",
       "    <tr>\n",
       "      <th>age_rang</th>\n",
       "      <th>sex</th>\n",
       "      <th></th>\n",
       "      <th></th>\n",
       "    </tr>\n",
       "  </thead>\n",
       "  <tbody>\n",
       "    <tr>\n",
       "      <th rowspan=\"2\" valign=\"top\">(70, 95]</th>\n",
       "      <th>m</th>\n",
       "      <td>14484</td>\n",
       "      <td>240665.11</td>\n",
       "    </tr>\n",
       "    <tr>\n",
       "      <th>f</th>\n",
       "      <td>19716</td>\n",
       "      <td>330351.46</td>\n",
       "    </tr>\n",
       "    <tr>\n",
       "      <th rowspan=\"2\" valign=\"top\">(50, 70]</th>\n",
       "      <th>m</th>\n",
       "      <td>77486</td>\n",
       "      <td>1272864.15</td>\n",
       "    </tr>\n",
       "    <tr>\n",
       "      <th>f</th>\n",
       "      <td>84344</td>\n",
       "      <td>1388462.60</td>\n",
       "    </tr>\n",
       "    <tr>\n",
       "      <th rowspan=\"2\" valign=\"top\">(18, 30]</th>\n",
       "      <th>f</th>\n",
       "      <td>35198</td>\n",
       "      <td>1417734.39</td>\n",
       "    </tr>\n",
       "    <tr>\n",
       "      <th>m</th>\n",
       "      <td>38837</td>\n",
       "      <td>1647063.79</td>\n",
       "    </tr>\n",
       "    <tr>\n",
       "      <th rowspan=\"2\" valign=\"top\">(30, 50]</th>\n",
       "      <th>f</th>\n",
       "      <td>199027</td>\n",
       "      <td>2723134.68</td>\n",
       "    </tr>\n",
       "    <tr>\n",
       "      <th>m</th>\n",
       "      <td>210019</td>\n",
       "      <td>2833452.50</td>\n",
       "    </tr>\n",
       "  </tbody>\n",
       "</table>\n",
       "</div>"
      ],
      "text/plain": [
       "              nombre_achats  montant_total\n",
       "age_rang sex                              \n",
       "(70, 95] m            14484      240665.11\n",
       "         f            19716      330351.46\n",
       "(50, 70] m            77486     1272864.15\n",
       "         f            84344     1388462.60\n",
       "(18, 30] f            35198     1417734.39\n",
       "         m            38837     1647063.79\n",
       "(30, 50] f           199027     2723134.68\n",
       "         m           210019     2833452.50"
      ]
     },
     "execution_count": 94,
     "metadata": {},
     "output_type": "execute_result"
    }
   ],
   "source": [
    "# Clients qui dépesent le moins par tranche d'âge et par genre\n",
    "flops_clients_age_genre = df.groupby(['age_rang', 'sex']).agg({'session_id': 'count', 'price': 'sum'})\n",
    "# Je renomme les colonnes pour plus de clarté\n",
    "flops_clients_age_genre = flops_clients_age_genre.rename(columns={'session_id': 'nombre_achats', 'price': 'montant_total'})\n",
    "flops_clients_age_genre = flops_clients_age_genre.sort_values('montant_total', ascending=True)\n",
    "flops_clients_age_genre"
   ]
  },
  {
   "cell_type": "markdown",
   "id": "bb6bf4bc",
   "metadata": {},
   "source": [
    "#### Les hommes chez les 70-95 sont ceux qui depensent le moins."
   ]
  },
  {
   "cell_type": "markdown",
   "id": "1908dbec",
   "metadata": {},
   "source": [
    "### 5.3.2 Répartition du chiffre d'affaire entre les clients : Courbe de Lorenz"
   ]
  },
  {
   "cell_type": "code",
   "execution_count": 95,
   "id": "78aab971",
   "metadata": {},
   "outputs": [
    {
     "data": {
      "text/html": [
       "<div>\n",
       "<style scoped>\n",
       "    .dataframe tbody tr th:only-of-type {\n",
       "        vertical-align: middle;\n",
       "    }\n",
       "\n",
       "    .dataframe tbody tr th {\n",
       "        vertical-align: top;\n",
       "    }\n",
       "\n",
       "    .dataframe thead th {\n",
       "        text-align: right;\n",
       "    }\n",
       "</style>\n",
       "<table border=\"1\" class=\"dataframe\">\n",
       "  <thead>\n",
       "    <tr style=\"text-align: right;\">\n",
       "      <th></th>\n",
       "      <th>client_id</th>\n",
       "      <th>price</th>\n",
       "    </tr>\n",
       "  </thead>\n",
       "  <tbody>\n",
       "    <tr>\n",
       "      <th>0</th>\n",
       "      <td>c_1</td>\n",
       "      <td>558.18</td>\n",
       "    </tr>\n",
       "    <tr>\n",
       "      <th>1</th>\n",
       "      <td>c_10</td>\n",
       "      <td>1353.60</td>\n",
       "    </tr>\n",
       "    <tr>\n",
       "      <th>2</th>\n",
       "      <td>c_100</td>\n",
       "      <td>254.85</td>\n",
       "    </tr>\n",
       "    <tr>\n",
       "      <th>3</th>\n",
       "      <td>c_1000</td>\n",
       "      <td>2261.89</td>\n",
       "    </tr>\n",
       "    <tr>\n",
       "      <th>4</th>\n",
       "      <td>c_1001</td>\n",
       "      <td>1812.86</td>\n",
       "    </tr>\n",
       "  </tbody>\n",
       "</table>\n",
       "</div>"
      ],
      "text/plain": [
       "  client_id    price\n",
       "0       c_1   558.18\n",
       "1      c_10  1353.60\n",
       "2     c_100   254.85\n",
       "3    c_1000  2261.89\n",
       "4    c_1001  1812.86"
      ]
     },
     "execution_count": 95,
     "metadata": {},
     "output_type": "execute_result"
    }
   ],
   "source": [
    "# Je calcule le CA par client \n",
    "ca_client = df.groupby('client_id')['price'].sum()\n",
    "df_ca_client = ca_client.reset_index(name='price')\n",
    "df_ca_client.head()"
   ]
  },
  {
   "cell_type": "code",
   "execution_count": 96,
   "id": "608e8d17",
   "metadata": {},
   "outputs": [
    {
     "data": {
      "image/png": "[encoded data removed]",
      "text/plain": [
       "<Figure size 640x480 with 1 Axes>"
      ]
     },
     "metadata": {},
     "output_type": "display_data"
    }
   ],
   "source": [
    "# J'affiche le résultat via la Courbe de lorenz\n",
    "globale = df_ca_client['price']\n",
    "lorenz = np.cumsum(np.sort(globale)) / globale.sum()\n",
    "lorenz = np.append([0], lorenz) # La courbe de Lorenz commence à 0    \n",
    "y = [0,0.1,0.2,0.3,0.4,0.5,0.6,0.7,0.8,0.9,1.0]\n",
    "x = [0,0.1,0.2,0.3,0.4,0.5,0.6,0.7,0.8,0.9,1.0]\n",
    "plt.plot(x,y, label =\"Droite d'équirépartition\")\n",
    "plt.plot(np.linspace(0,1, len(lorenz)), lorenz, drawstyle='steps-post', label = 'Courbe de Lorenz')\n",
    "plt.legend()\n",
    "plt.show()"
   ]
  },
  {
   "cell_type": "markdown",
   "id": "192a06f2",
   "metadata": {},
   "source": [
    "#### La zone entre la première bissectrice et la courbe de Lorenz représente l'inégalité dans la distribution.\n",
    "#### Ainsi, plus la courbe de Lorenz s'éloigne de la droite d'équirépartition, plus l'inégalité est grande. Ci-dessus, la courbe de Lorenz est loin de la droite d'équirépartition, ce qui represente une distribution non équitable du CA entre les clients. Nous pouvons interpreter la courbe de la manière suivante :  50% du CA est generé par 80% des clients."
   ]
  },
  {
   "cell_type": "markdown",
   "id": "15da0947",
   "metadata": {},
   "source": [
    "### Indice de Gini "
   ]
  },
  {
   "cell_type": "code",
   "execution_count": 97,
   "id": "816c5b46",
   "metadata": {},
   "outputs": [
    {
     "name": "stdout",
     "output_type": "stream",
     "text": [
      "0.45\n"
     ]
    }
   ],
   "source": [
    "# Je calcule la surface sous la courbe de Lorenz.\n",
    "n = len(lorenz) - 1\n",
    "AUC = (lorenz.sum() -lorenz[-1]/2 -lorenz[0]/2)/n \n",
    "\n",
    "# Je calcule la surface entre la première bissectrice et le courbe de Lorenz\n",
    "S = 0.5 - AUC \n",
    "gini = 2*S\n",
    "print(round(gini,2))"
   ]
  },
  {
   "cell_type": "markdown",
   "id": "6d682cb8",
   "metadata": {},
   "source": [
    "#### Le coefficient de Gini est de 0,45, il indique une certaine inégalité dans la distribution du CA entre les clients. Cela signifie que certains clients generent un CA relativement élevé, tandis que d'autres generent un CA relativement bas. En outre, Cela signifie que la concentration du chiffre d'affaire n'est pas uniforme entre les clients et qu'il y a une forte variation dans les revenus générés par chaque client. Cela est probablement du à la difference des dépenses vue précedement, entre clients profesionnels et clients lamdas."
   ]
  },
  {
   "cell_type": "markdown",
   "id": "235ed357",
   "metadata": {},
   "source": [
    "## 6. QUESTIONS de Julie\n",
    "\n",
    "### Question 1: Le lien entre le genre d’un client et les catégories des livres achetés; et ensuite le lien entre l’âge des clients et le montant total des achats, la fréquence d’achat, la taille du panier moyen et les catégories des livres achetés.\n",
    "\n",
    "### 6.1.1 Le lien entre le genre d’un client et les catégories des livres achetés"
   ]
  },
  {
   "cell_type": "code",
   "execution_count": 98,
   "id": "af80971d",
   "metadata": {},
   "outputs": [
    {
     "data": {
      "text/html": [
       "<div>\n",
       "<style scoped>\n",
       "    .dataframe tbody tr th:only-of-type {\n",
       "        vertical-align: middle;\n",
       "    }\n",
       "\n",
       "    .dataframe tbody tr th {\n",
       "        vertical-align: top;\n",
       "    }\n",
       "\n",
       "    .dataframe thead th {\n",
       "        text-align: right;\n",
       "    }\n",
       "</style>\n",
       "<table border=\"1\" class=\"dataframe\">\n",
       "  <thead>\n",
       "    <tr style=\"text-align: right;\">\n",
       "      <th></th>\n",
       "      <th></th>\n",
       "      <th>session_id</th>\n",
       "    </tr>\n",
       "    <tr>\n",
       "      <th>sex</th>\n",
       "      <th>categ</th>\n",
       "      <th></th>\n",
       "    </tr>\n",
       "  </thead>\n",
       "  <tbody>\n",
       "    <tr>\n",
       "      <th rowspan=\"3\" valign=\"top\">f</th>\n",
       "      <th>0</th>\n",
       "      <td>206103</td>\n",
       "    </tr>\n",
       "    <tr>\n",
       "      <th>1</th>\n",
       "      <td>114899</td>\n",
       "    </tr>\n",
       "    <tr>\n",
       "      <th>2</th>\n",
       "      <td>17283</td>\n",
       "    </tr>\n",
       "    <tr>\n",
       "      <th rowspan=\"3\" valign=\"top\">m</th>\n",
       "      <th>0</th>\n",
       "      <td>209356</td>\n",
       "    </tr>\n",
       "    <tr>\n",
       "      <th>1</th>\n",
       "      <td>112270</td>\n",
       "    </tr>\n",
       "    <tr>\n",
       "      <th>2</th>\n",
       "      <td>19200</td>\n",
       "    </tr>\n",
       "  </tbody>\n",
       "</table>\n",
       "</div>"
      ],
      "text/plain": [
       "           session_id\n",
       "sex categ            \n",
       "f   0          206103\n",
       "    1          114899\n",
       "    2           17283\n",
       "m   0          209356\n",
       "    1          112270\n",
       "    2           19200"
      ]
     },
     "execution_count": 98,
     "metadata": {},
     "output_type": "execute_result"
    }
   ],
   "source": [
    "# Analyse de 2 variables qualitatives \n",
    "genre_categ = df.groupby(['sex','categ']).count()[['session_id']]\n",
    "genre_categ"
   ]
  },
  {
   "cell_type": "code",
   "execution_count": 99,
   "id": "71598843",
   "metadata": {},
   "outputs": [
    {
     "data": {
      "text/html": [
       "<div>\n",
       "<style scoped>\n",
       "    .dataframe tbody tr th:only-of-type {\n",
       "        vertical-align: middle;\n",
       "    }\n",
       "\n",
       "    .dataframe tbody tr th {\n",
       "        vertical-align: top;\n",
       "    }\n",
       "\n",
       "    .dataframe thead th {\n",
       "        text-align: right;\n",
       "    }\n",
       "</style>\n",
       "<table border=\"1\" class=\"dataframe\">\n",
       "  <thead>\n",
       "    <tr style=\"text-align: right;\">\n",
       "      <th>categ</th>\n",
       "      <th>0</th>\n",
       "      <th>1</th>\n",
       "      <th>2</th>\n",
       "      <th>Total</th>\n",
       "    </tr>\n",
       "    <tr>\n",
       "      <th>sex</th>\n",
       "      <th></th>\n",
       "      <th></th>\n",
       "      <th></th>\n",
       "      <th></th>\n",
       "    </tr>\n",
       "  </thead>\n",
       "  <tbody>\n",
       "    <tr>\n",
       "      <th>f</th>\n",
       "      <td>206103</td>\n",
       "      <td>114899</td>\n",
       "      <td>17283</td>\n",
       "      <td>338285</td>\n",
       "    </tr>\n",
       "    <tr>\n",
       "      <th>m</th>\n",
       "      <td>209356</td>\n",
       "      <td>112270</td>\n",
       "      <td>19200</td>\n",
       "      <td>340826</td>\n",
       "    </tr>\n",
       "    <tr>\n",
       "      <th>Total</th>\n",
       "      <td>415459</td>\n",
       "      <td>227169</td>\n",
       "      <td>36483</td>\n",
       "      <td>679111</td>\n",
       "    </tr>\n",
       "  </tbody>\n",
       "</table>\n",
       "</div>"
      ],
      "text/plain": [
       "categ       0       1      2   Total\n",
       "sex                                 \n",
       "f      206103  114899  17283  338285\n",
       "m      209356  112270  19200  340826\n",
       "Total  415459  227169  36483  679111"
      ]
     },
     "execution_count": 99,
     "metadata": {},
     "output_type": "execute_result"
    }
   ],
   "source": [
    "# Je crée le tableau de contingence avec les totaux\n",
    "tab = pd.crosstab(df['sex'], df['categ'], margins=True, margins_name='Total') # Pour ajouter les totaux\n",
    "tab"
   ]
  },
  {
   "cell_type": "code",
   "execution_count": 100,
   "id": "2fec6e13",
   "metadata": {},
   "outputs": [
    {
     "name": "stdout",
     "output_type": "stream",
     "text": [
      "La valeur de test du chi²: 147.11906816131497\n",
      "La p-value: 3.144522803251581e-29\n",
      "Degrés de liberté: 6\n",
      "Tableau de fréquences attendues: [[206952.24759281 113159.50583189  18173.2465753  338285.        ]\n",
      " [208506.75240719 114009.49416811  18309.7534247  340826.        ]\n",
      " [415459.         227169.          36483.         679111.        ]]\n"
     ]
    }
   ],
   "source": [
    "# J'éffectue le test du chi²\n",
    "from scipy.stats import chi2_contingency\n",
    "stat, p, dof, expected = chi2_contingency(tab)\n",
    "print('La valeur de test du chi²:', stat)\n",
    "print('La p-value:', p)\n",
    "print('Degrés de liberté:', dof)\n",
    "print('Tableau de fréquences attendues:', expected)"
   ]
  },
  {
   "cell_type": "markdown",
   "id": "6a3fde21",
   "metadata": {},
   "source": [
    "#### La p-value est très faible dans notre cas (inférieure au seuil de significativité de 0.05). Je rejette donc l'hypothèse nulle d'indépendance entre ces deux variables et je conclue qu'il existe une relation entre le genre d'un client et la catégorie de livre acheté. "
   ]
  },
  {
   "cell_type": "markdown",
   "id": "a8ee3a57",
   "metadata": {},
   "source": [
    "### 6.1.2 Le lien entre l’âge des clients et le montant total des achats"
   ]
  },
  {
   "cell_type": "code",
   "execution_count": 101,
   "id": "c8c60d1a",
   "metadata": {},
   "outputs": [
    {
     "data": {
      "text/html": [
       "<div>\n",
       "<style scoped>\n",
       "    .dataframe tbody tr th:only-of-type {\n",
       "        vertical-align: middle;\n",
       "    }\n",
       "\n",
       "    .dataframe tbody tr th {\n",
       "        vertical-align: top;\n",
       "    }\n",
       "\n",
       "    .dataframe thead th {\n",
       "        text-align: right;\n",
       "    }\n",
       "</style>\n",
       "<table border=\"1\" class=\"dataframe\">\n",
       "  <thead>\n",
       "    <tr style=\"text-align: right;\">\n",
       "      <th></th>\n",
       "      <th>age</th>\n",
       "      <th>client_id</th>\n",
       "      <th>montant_total_achat</th>\n",
       "    </tr>\n",
       "  </thead>\n",
       "  <tbody>\n",
       "    <tr>\n",
       "      <th>0</th>\n",
       "      <td>19</td>\n",
       "      <td>c_1042</td>\n",
       "      <td>348.75</td>\n",
       "    </tr>\n",
       "    <tr>\n",
       "      <th>1</th>\n",
       "      <td>19</td>\n",
       "      <td>c_1046</td>\n",
       "      <td>919.58</td>\n",
       "    </tr>\n",
       "    <tr>\n",
       "      <th>2</th>\n",
       "      <td>19</td>\n",
       "      <td>c_1065</td>\n",
       "      <td>1124.66</td>\n",
       "    </tr>\n",
       "    <tr>\n",
       "      <th>3</th>\n",
       "      <td>19</td>\n",
       "      <td>c_1088</td>\n",
       "      <td>590.47</td>\n",
       "    </tr>\n",
       "    <tr>\n",
       "      <th>4</th>\n",
       "      <td>19</td>\n",
       "      <td>c_109</td>\n",
       "      <td>415.19</td>\n",
       "    </tr>\n",
       "    <tr>\n",
       "      <th>...</th>\n",
       "      <td>...</td>\n",
       "      <td>...</td>\n",
       "      <td>...</td>\n",
       "    </tr>\n",
       "    <tr>\n",
       "      <th>8595</th>\n",
       "      <td>93</td>\n",
       "      <td>c_4679</td>\n",
       "      <td>43.96</td>\n",
       "    </tr>\n",
       "    <tr>\n",
       "      <th>8596</th>\n",
       "      <td>93</td>\n",
       "      <td>c_7232</td>\n",
       "      <td>2927.99</td>\n",
       "    </tr>\n",
       "    <tr>\n",
       "      <th>8597</th>\n",
       "      <td>94</td>\n",
       "      <td>c_5302</td>\n",
       "      <td>549.02</td>\n",
       "    </tr>\n",
       "    <tr>\n",
       "      <th>8598</th>\n",
       "      <td>94</td>\n",
       "      <td>c_577</td>\n",
       "      <td>1829.96</td>\n",
       "    </tr>\n",
       "    <tr>\n",
       "      <th>8599</th>\n",
       "      <td>94</td>\n",
       "      <td>c_8362</td>\n",
       "      <td>842.87</td>\n",
       "    </tr>\n",
       "  </tbody>\n",
       "</table>\n",
       "<p>8600 rows × 3 columns</p>\n",
       "</div>"
      ],
      "text/plain": [
       "      age client_id  montant_total_achat\n",
       "0      19    c_1042               348.75\n",
       "1      19    c_1046               919.58\n",
       "2      19    c_1065              1124.66\n",
       "3      19    c_1088               590.47\n",
       "4      19     c_109               415.19\n",
       "...   ...       ...                  ...\n",
       "8595   93    c_4679                43.96\n",
       "8596   93    c_7232              2927.99\n",
       "8597   94    c_5302               549.02\n",
       "8598   94     c_577              1829.96\n",
       "8599   94    c_8362               842.87\n",
       "\n",
       "[8600 rows x 3 columns]"
      ]
     },
     "execution_count": 101,
     "metadata": {},
     "output_type": "execute_result"
    }
   ],
   "source": [
    "# Analyse 2 variables quantitatives \n",
    "age_achat =  df.groupby(['age', 'client_id'])['price'].sum()\n",
    "df_age_achat = age_achat.reset_index(name='montant_total_achat')\n",
    "df_age_achat"
   ]
  },
  {
   "cell_type": "code",
   "execution_count": 102,
   "id": "8915ea30",
   "metadata": {},
   "outputs": [
    {
     "data": {
      "image/png": "[encoded data removed]",
      "text/plain": [
       "<Figure size 640x480 with 1 Axes>"
      ]
     },
     "metadata": {},
     "output_type": "display_data"
    }
   ],
   "source": [
    "# Je crée le graphique diagramme de dispersion en utilisant les variables \"age\" et \"price\"\n",
    "plt.scatter(df_age_achat['age'], df_age_achat['montant_total_achat'], alpha=0.4)\n",
    "plt.title(\" Âge des clients et le montant total des achats\")\n",
    "plt.xlabel('Âge des clients')\n",
    "plt.ylabel('Montant total des achats')\n",
    "plt.show()"
   ]
  },
  {
   "cell_type": "markdown",
   "id": "ffaae254",
   "metadata": {},
   "source": [
    "#### Le graphique nous indique que les plus grands montant d'achat sont génerés par les moins de 60 ans."
   ]
  },
  {
   "cell_type": "code",
   "execution_count": 103,
   "id": "a086e1c2",
   "metadata": {},
   "outputs": [
    {
     "data": {
      "text/plain": [
       "KstestResult(statistic=1.0, pvalue=0.0)"
      ]
     },
     "execution_count": 103,
     "metadata": {},
     "output_type": "execute_result"
    }
   ],
   "source": [
    "# Je vérifie si la variable 'age' est normalement distribuée (suivent la loi normale) avec le test de kolmogorov-smirnov \n",
    "st.kstest(df_age_achat.age,'norm')"
   ]
  },
  {
   "cell_type": "code",
   "execution_count": 104,
   "id": "2ea51259",
   "metadata": {},
   "outputs": [
    {
     "data": {
      "text/plain": [
       "KstestResult(statistic=0.9999999998604823, pvalue=0.0)"
      ]
     },
     "execution_count": 104,
     "metadata": {},
     "output_type": "execute_result"
    }
   ],
   "source": [
    "# Je vérifie si la variable 'montant' est normalement distribuée (suivent la loi normale) avec le test de kolmogorov-smirnov\n",
    "st.kstest(df_age_achat.montant_total_achat, 'norm')"
   ]
  },
  {
   "cell_type": "markdown",
   "id": "1f938c78",
   "metadata": {},
   "source": [
    "#### Dans les deux cas, la p-value est <  0.05 ( seuil de signification par défaut), je rejette donc l'hypothèse nulle, car p-value ici = 0.0. Les deux variables ne suivent pas une loi normale. Par conséquent, je ne peux utiliser le test de pearson (paramétrique) j'opte donc pour le test de spearman (non paramétrique)."
   ]
  },
  {
   "cell_type": "code",
   "execution_count": 105,
   "id": "1cc680d7",
   "metadata": {},
   "outputs": [
    {
     "name": "stdout",
     "output_type": "stream",
     "text": [
      "Coefficient de corrélation de Spearman : -0.18497958594419583\n",
      "P-value : 4.5976948366705104e-67\n"
     ]
    }
   ],
   "source": [
    "# Test de correlation de spearman \n",
    "corr, p = st.spearmanr(df_age_achat['age'], df_age_achat['montant_total_achat'])\n",
    "print(\"Coefficient de corrélation de Spearman :\", corr)\n",
    "print(\"P-value :\", p)"
   ]
  },
  {
   "cell_type": "markdown",
   "id": "34806f71",
   "metadata": {},
   "source": [
    "####  H0: Les deux variables ne sont pas linéairement corrélées.\n",
    "\n",
    "#### Le p-value est 4.5976948366705104e-67, ce qui est très faible, elle est inférieure à la valeur seuil de 0,05. Je rejette donc l'hypothèse nulle,  les deux variables 'age' et 'montant_total_achat' sont corrélées.\n",
    "\n",
    "#### Le coéfficient de corrélation de Spearman =-0.18 indique une corrélation négative entre l'âge et le montant total d'achat. Cela signifie que plus l'âge est élevé, moins le montant total d'achat est élevé et vice versa. "
   ]
  },
  {
   "cell_type": "markdown",
   "id": "6adda8e1",
   "metadata": {},
   "source": [
    "### 6.1.3 Le lien entre l’âge des clients et la fréquence d’achat "
   ]
  },
  {
   "cell_type": "code",
   "execution_count": 106,
   "id": "f1e54952",
   "metadata": {},
   "outputs": [
    {
     "data": {
      "text/html": [
       "<div>\n",
       "<style scoped>\n",
       "    .dataframe tbody tr th:only-of-type {\n",
       "        vertical-align: middle;\n",
       "    }\n",
       "\n",
       "    .dataframe tbody tr th {\n",
       "        vertical-align: top;\n",
       "    }\n",
       "\n",
       "    .dataframe thead th {\n",
       "        text-align: right;\n",
       "    }\n",
       "</style>\n",
       "<table border=\"1\" class=\"dataframe\">\n",
       "  <thead>\n",
       "    <tr style=\"text-align: right;\">\n",
       "      <th></th>\n",
       "      <th>client_id</th>\n",
       "      <th>age</th>\n",
       "      <th>frequence</th>\n",
       "    </tr>\n",
       "  </thead>\n",
       "  <tbody>\n",
       "    <tr>\n",
       "      <th>0</th>\n",
       "      <td>c_1</td>\n",
       "      <td>68</td>\n",
       "      <td>39</td>\n",
       "    </tr>\n",
       "    <tr>\n",
       "      <th>1</th>\n",
       "      <td>c_10</td>\n",
       "      <td>67</td>\n",
       "      <td>58</td>\n",
       "    </tr>\n",
       "    <tr>\n",
       "      <th>2</th>\n",
       "      <td>c_100</td>\n",
       "      <td>31</td>\n",
       "      <td>8</td>\n",
       "    </tr>\n",
       "    <tr>\n",
       "      <th>3</th>\n",
       "      <td>c_1000</td>\n",
       "      <td>57</td>\n",
       "      <td>125</td>\n",
       "    </tr>\n",
       "    <tr>\n",
       "      <th>4</th>\n",
       "      <td>c_1001</td>\n",
       "      <td>41</td>\n",
       "      <td>102</td>\n",
       "    </tr>\n",
       "    <tr>\n",
       "      <th>...</th>\n",
       "      <td>...</td>\n",
       "      <td>...</td>\n",
       "      <td>...</td>\n",
       "    </tr>\n",
       "    <tr>\n",
       "      <th>8595</th>\n",
       "      <td>c_995</td>\n",
       "      <td>68</td>\n",
       "      <td>14</td>\n",
       "    </tr>\n",
       "    <tr>\n",
       "      <th>8596</th>\n",
       "      <td>c_996</td>\n",
       "      <td>53</td>\n",
       "      <td>95</td>\n",
       "    </tr>\n",
       "    <tr>\n",
       "      <th>8597</th>\n",
       "      <td>c_997</td>\n",
       "      <td>29</td>\n",
       "      <td>59</td>\n",
       "    </tr>\n",
       "    <tr>\n",
       "      <th>8598</th>\n",
       "      <td>c_998</td>\n",
       "      <td>22</td>\n",
       "      <td>53</td>\n",
       "    </tr>\n",
       "    <tr>\n",
       "      <th>8599</th>\n",
       "      <td>c_999</td>\n",
       "      <td>59</td>\n",
       "      <td>46</td>\n",
       "    </tr>\n",
       "  </tbody>\n",
       "</table>\n",
       "<p>8600 rows × 3 columns</p>\n",
       "</div>"
      ],
      "text/plain": [
       "     client_id  age  frequence\n",
       "0          c_1   68         39\n",
       "1         c_10   67         58\n",
       "2        c_100   31          8\n",
       "3       c_1000   57        125\n",
       "4       c_1001   41        102\n",
       "...        ...  ...        ...\n",
       "8595     c_995   68         14\n",
       "8596     c_996   53         95\n",
       "8597     c_997   29         59\n",
       "8598     c_998   22         53\n",
       "8599     c_999   59         46\n",
       "\n",
       "[8600 rows x 3 columns]"
      ]
     },
     "execution_count": 106,
     "metadata": {},
     "output_type": "execute_result"
    }
   ],
   "source": [
    "# Ananlyse 2 variables quantitatives \n",
    "#Je calcule la fréquence d'achat de chaque client et je l'affiche dans une variable\n",
    "frequence_achat = df.groupby(['client_id', 'age']).count()['date']\n",
    "df_freq_achat = frequence_achat.reset_index(name='frequence')\n",
    "df_freq_achat"
   ]
  },
  {
   "cell_type": "code",
   "execution_count": 107,
   "id": "733dd040",
   "metadata": {},
   "outputs": [
    {
     "data": {
      "text/plain": [
       "count     8600.000000\n",
       "mean        78.966395\n",
       "std        312.402910\n",
       "min          1.000000\n",
       "25%         27.000000\n",
       "50%         51.000000\n",
       "75%         96.000000\n",
       "max      25488.000000\n",
       "Name: frequence, dtype: float64"
      ]
     },
     "execution_count": 107,
     "metadata": {},
     "output_type": "execute_result"
    }
   ],
   "source": [
    "df_freq_achat['frequence'].describe()"
   ]
  },
  {
   "cell_type": "code",
   "execution_count": 108,
   "id": "f4e68384",
   "metadata": {},
   "outputs": [
    {
     "data": {
      "image/png": "[encoded data removed]",
      "text/plain": [
       "<Figure size 640x480 with 1 Axes>"
      ]
     },
     "metadata": {},
     "output_type": "display_data"
    }
   ],
   "source": [
    "# J'affiche le résultat dans un graphique de disperssion\n",
    "plt.scatter(df_freq_achat['age'], df_freq_achat['frequence'], alpha=0.4)\n",
    "plt.xlabel(\"Âge\")\n",
    "plt.ylabel(\"Fréquence d'achat\")\n",
    "plt.title(\"Âge des clients et la fréquence d'achat\")\n",
    "plt.show()"
   ]
  },
  {
   "cell_type": "markdown",
   "id": "500b121b",
   "metadata": {},
   "source": [
    "#### Le graphique nous indique que les fréquences d'achat les plus élevées sont chez les moins de 60 ans."
   ]
  },
  {
   "cell_type": "code",
   "execution_count": 109,
   "id": "2b1567b4",
   "metadata": {},
   "outputs": [
    {
     "data": {
      "text/plain": [
       "KstestResult(statistic=1.0, pvalue=0.0)"
      ]
     },
     "execution_count": 109,
     "metadata": {},
     "output_type": "execute_result"
    }
   ],
   "source": [
    "# Je vérifie si la variable 'age' est normalement distribuée (suivent la loi normale) avec le test de kolmogorov-smirnov \n",
    "st.kstest(df_freq_achat.age, 'norm')"
   ]
  },
  {
   "cell_type": "code",
   "execution_count": 110,
   "id": "c66be184",
   "metadata": {},
   "outputs": [
    {
     "data": {
      "text/plain": [
       "KstestResult(statistic=0.9928361484799978, pvalue=0.0)"
      ]
     },
     "execution_count": 110,
     "metadata": {},
     "output_type": "execute_result"
    }
   ],
   "source": [
    "# Je vérifie si la variable 'fréquence' est normalement distribuée (suivent la loi normale) avec le test de kolmogorov-smirnov \n",
    "st.kstest(df_freq_achat.frequence, 'norm')"
   ]
  },
  {
   "cell_type": "markdown",
   "id": "99482722",
   "metadata": {},
   "source": [
    "#### Dans les deux cas, la p-value est <  0.05 ( seuil de signification par défaut), je rejette donc l'hypothèse nulle, car p-value ici = 0.0. Les deux variables ne suivent pas une loi normale. Par conséquent, je ne peux utiliser le test de pearson (paramétrique) j'opte donc pour le test de spearman (non paramétrique)."
   ]
  },
  {
   "cell_type": "code",
   "execution_count": 111,
   "id": "8cdf93a5",
   "metadata": {},
   "outputs": [
    {
     "name": "stdout",
     "output_type": "stream",
     "text": [
      "Coefficient de corrélation de Spearman : 0.1281196863733412\n",
      "P-value : 8.377986603451065e-33\n"
     ]
    }
   ],
   "source": [
    "# Test de correlation de spearman \n",
    "corr, p = st.spearmanr(df_freq_achat['age'], df_freq_achat['frequence'])\n",
    "print(\"Coefficient de corrélation de Spearman :\", corr)\n",
    "print(\"P-value :\", p)"
   ]
  },
  {
   "cell_type": "markdown",
   "id": "aa93df5f",
   "metadata": {},
   "source": [
    "####  H0: Les deux variables ne sont pas linéairement corrélées.\n",
    "\n",
    "#### Le p-value est 8.377986603451065e-33, ce qui est très faible, elle est inférieure à la valeur seuil de 0,05. Je rejette donc l'hypothèse nulle,  les deux variables 'age' et 'frequence' sont corrélées.\n",
    "\n",
    "#### Le coéfficient de corrélation de Spearman =-0,13 indique une corrélation négative entre l'âge et la fréquence d'achat. Cela signifie que plus l'âge est élevé, moins la fréquence d'achat est élevée et vice versa. "
   ]
  },
  {
   "cell_type": "markdown",
   "id": "9fc002b3",
   "metadata": {},
   "source": [
    "### 6.1.4 Le lien entre l’âge des clients et la taille du panier moyen "
   ]
  },
  {
   "cell_type": "code",
   "execution_count": 112,
   "id": "faa287b1",
   "metadata": {},
   "outputs": [
    {
     "data": {
      "text/html": [
       "<div>\n",
       "<style scoped>\n",
       "    .dataframe tbody tr th:only-of-type {\n",
       "        vertical-align: middle;\n",
       "    }\n",
       "\n",
       "    .dataframe tbody tr th {\n",
       "        vertical-align: top;\n",
       "    }\n",
       "\n",
       "    .dataframe thead th {\n",
       "        text-align: right;\n",
       "    }\n",
       "</style>\n",
       "<table border=\"1\" class=\"dataframe\">\n",
       "  <thead>\n",
       "    <tr style=\"text-align: right;\">\n",
       "      <th></th>\n",
       "      <th>age</th>\n",
       "      <th>client_id</th>\n",
       "      <th>panier_moyen</th>\n",
       "    </tr>\n",
       "  </thead>\n",
       "  <tbody>\n",
       "    <tr>\n",
       "      <th>0</th>\n",
       "      <td>19</td>\n",
       "      <td>c_1042</td>\n",
       "      <td>29.062500</td>\n",
       "    </tr>\n",
       "    <tr>\n",
       "      <th>1</th>\n",
       "      <td>19</td>\n",
       "      <td>c_1046</td>\n",
       "      <td>22.428780</td>\n",
       "    </tr>\n",
       "    <tr>\n",
       "      <th>2</th>\n",
       "      <td>19</td>\n",
       "      <td>c_1065</td>\n",
       "      <td>41.654074</td>\n",
       "    </tr>\n",
       "    <tr>\n",
       "      <th>3</th>\n",
       "      <td>19</td>\n",
       "      <td>c_1088</td>\n",
       "      <td>45.420769</td>\n",
       "    </tr>\n",
       "    <tr>\n",
       "      <th>4</th>\n",
       "      <td>19</td>\n",
       "      <td>c_109</td>\n",
       "      <td>59.312857</td>\n",
       "    </tr>\n",
       "    <tr>\n",
       "      <th>...</th>\n",
       "      <td>...</td>\n",
       "      <td>...</td>\n",
       "      <td>...</td>\n",
       "    </tr>\n",
       "    <tr>\n",
       "      <th>8595</th>\n",
       "      <td>93</td>\n",
       "      <td>c_4679</td>\n",
       "      <td>10.990000</td>\n",
       "    </tr>\n",
       "    <tr>\n",
       "      <th>8596</th>\n",
       "      <td>93</td>\n",
       "      <td>c_7232</td>\n",
       "      <td>17.853598</td>\n",
       "    </tr>\n",
       "    <tr>\n",
       "      <th>8597</th>\n",
       "      <td>94</td>\n",
       "      <td>c_5302</td>\n",
       "      <td>14.838378</td>\n",
       "    </tr>\n",
       "    <tr>\n",
       "      <th>8598</th>\n",
       "      <td>94</td>\n",
       "      <td>c_577</td>\n",
       "      <td>15.912696</td>\n",
       "    </tr>\n",
       "    <tr>\n",
       "      <th>8599</th>\n",
       "      <td>94</td>\n",
       "      <td>c_8362</td>\n",
       "      <td>17.201429</td>\n",
       "    </tr>\n",
       "  </tbody>\n",
       "</table>\n",
       "<p>8600 rows × 3 columns</p>\n",
       "</div>"
      ],
      "text/plain": [
       "      age client_id  panier_moyen\n",
       "0      19    c_1042     29.062500\n",
       "1      19    c_1046     22.428780\n",
       "2      19    c_1065     41.654074\n",
       "3      19    c_1088     45.420769\n",
       "4      19     c_109     59.312857\n",
       "...   ...       ...           ...\n",
       "8595   93    c_4679     10.990000\n",
       "8596   93    c_7232     17.853598\n",
       "8597   94    c_5302     14.838378\n",
       "8598   94     c_577     15.912696\n",
       "8599   94    c_8362     17.201429\n",
       "\n",
       "[8600 rows x 3 columns]"
      ]
     },
     "execution_count": 112,
     "metadata": {},
     "output_type": "execute_result"
    }
   ],
   "source": [
    "# Analyse 2 variables quantitatives\n",
    "# Je calcule la taille du panier moyen par âge et par client\n",
    "panier_moyen = df.groupby(['age','client_id']).mean()['price']\n",
    "df_panier_moyen = panier_moyen.reset_index(name='panier_moyen')\n",
    "df_panier_moyen"
   ]
  },
  {
   "cell_type": "code",
   "execution_count": 113,
   "id": "e6dc0d24",
   "metadata": {},
   "outputs": [
    {
     "data": {
      "text/plain": [
       "count    8600.000000\n",
       "mean       22.024390\n",
       "std        15.006754\n",
       "min         4.150000\n",
       "25%        13.360135\n",
       "50%        15.794981\n",
       "75%        22.043137\n",
       "max       181.990000\n",
       "Name: panier_moyen, dtype: float64"
      ]
     },
     "execution_count": 113,
     "metadata": {},
     "output_type": "execute_result"
    }
   ],
   "source": [
    "df_panier_moyen['panier_moyen'].describe()"
   ]
  },
  {
   "cell_type": "code",
   "execution_count": 114,
   "id": "75f22eab",
   "metadata": {},
   "outputs": [
    {
     "data": {
      "image/png": "[encoded data removed]",
      "text/plain": [
       "<Figure size 640x480 with 1 Axes>"
      ]
     },
     "metadata": {},
     "output_type": "display_data"
    }
   ],
   "source": [
    "# J'affiche le résultat dans un graphique de disspression \n",
    "plt.scatter(df_panier_moyen['age'], df_panier_moyen['panier_moyen'], alpha=0.4)\n",
    "plt.title(\"Taille du panier moyen par âge\")\n",
    "plt.xlabel('Âge')\n",
    "plt.ylabel('Panier_moyen')\n",
    "plt.show()"
   ]
  },
  {
   "cell_type": "code",
   "execution_count": 115,
   "id": "d04a8a86",
   "metadata": {},
   "outputs": [
    {
     "data": {
      "text/plain": [
       "KstestResult(statistic=1.0, pvalue=0.0)"
      ]
     },
     "execution_count": 115,
     "metadata": {},
     "output_type": "execute_result"
    }
   ],
   "source": [
    "# Je vérifie si la variable 'age' est normalement distribuée (suivent la loi normale) avec le test de kolmogorov-smirnov \n",
    "st.kstest(df_panier_moyen.age, 'norm')"
   ]
  },
  {
   "cell_type": "code",
   "execution_count": 116,
   "id": "693ba1d2",
   "metadata": {},
   "outputs": [
    {
     "data": {
      "text/plain": [
       "KstestResult(statistic=0.9999833762362703, pvalue=0.0)"
      ]
     },
     "execution_count": 116,
     "metadata": {},
     "output_type": "execute_result"
    }
   ],
   "source": [
    "# Je vérifie si la variable 'panier_moyen' est normalement distribuée (suivent la loi normale) avec le test de kolmogorov-smirnov \n",
    "st.kstest(df_panier_moyen.panier_moyen, 'norm')"
   ]
  },
  {
   "cell_type": "markdown",
   "id": "3c7a1b38",
   "metadata": {},
   "source": [
    "#### Dans les deux cas, la p-value est <  0.05 ( seuil de signification par défaut), je rejette donc l'hypothèse nulle, car p-value ici = 0.0. Les deux variables ne suivent pas une loi normale. Par conséquent, je ne peux utiliser le test de pearson (paramétrique) j'opte donc pour le test de spearman (non paramétrique)."
   ]
  },
  {
   "cell_type": "code",
   "execution_count": 117,
   "id": "5fcbac23",
   "metadata": {},
   "outputs": [
    {
     "name": "stdout",
     "output_type": "stream",
     "text": [
      "Coefficient de corrélation de Spearman : -0.32613572482392383\n",
      "P-value : 2.8807091229415435e-212\n"
     ]
    }
   ],
   "source": [
    "# Test de correlation de spearman \n",
    "corr, p = st.spearmanr(df_panier_moyen['age'], df_panier_moyen['panier_moyen'])\n",
    "print(\"Coefficient de corrélation de Spearman :\", corr)\n",
    "print(\"P-value :\", p)"
   ]
  },
  {
   "cell_type": "markdown",
   "id": "d911d1b5",
   "metadata": {},
   "source": [
    "####  H0: Les deux variables ne sont pas linéairement corrélées.\n",
    "\n",
    "#### La P-value est de 2.8807091229415435e-212, ce qui est très faible, elle est inférieure à la valeur seuil de 0.05. Je rejette donc l'hypothèse nulle,  les deux variables 'age' et 'panier_moyen' sont corrélées.\n",
    "\n",
    "#### Le coéfficient de corrélation de Spearman est de -0.32. Cela indique une corrélation négative entre l'âge et le panier moyen. Cela signifie que, en général, lorsque l'une des variables augmente, l'autre tend à diminuer légèrement. Autrement dit, plus l'âge est élevé, moins le panier moyen est élevé et vice versa. "
   ]
  },
  {
   "cell_type": "markdown",
   "id": "8f2838e0",
   "metadata": {},
   "source": [
    "### 6.1.5 Le lien entre l’âge des clients et les catégories des livres achetés"
   ]
  },
  {
   "cell_type": "code",
   "execution_count": 118,
   "id": "e79b7c13",
   "metadata": {},
   "outputs": [
    {
     "data": {
      "text/html": [
       "<div>\n",
       "<style scoped>\n",
       "    .dataframe tbody tr th:only-of-type {\n",
       "        vertical-align: middle;\n",
       "    }\n",
       "\n",
       "    .dataframe tbody tr th {\n",
       "        vertical-align: top;\n",
       "    }\n",
       "\n",
       "    .dataframe thead th {\n",
       "        text-align: right;\n",
       "    }\n",
       "</style>\n",
       "<table border=\"1\" class=\"dataframe\">\n",
       "  <thead>\n",
       "    <tr style=\"text-align: right;\">\n",
       "      <th></th>\n",
       "      <th>age</th>\n",
       "      <th>categ</th>\n",
       "    </tr>\n",
       "  </thead>\n",
       "  <tbody>\n",
       "    <tr>\n",
       "      <th>0</th>\n",
       "      <td>56</td>\n",
       "      <td>0</td>\n",
       "    </tr>\n",
       "    <tr>\n",
       "      <th>1</th>\n",
       "      <td>56</td>\n",
       "      <td>0</td>\n",
       "    </tr>\n",
       "    <tr>\n",
       "      <th>2</th>\n",
       "      <td>56</td>\n",
       "      <td>0</td>\n",
       "    </tr>\n",
       "    <tr>\n",
       "      <th>3</th>\n",
       "      <td>45</td>\n",
       "      <td>0</td>\n",
       "    </tr>\n",
       "    <tr>\n",
       "      <th>4</th>\n",
       "      <td>45</td>\n",
       "      <td>0</td>\n",
       "    </tr>\n",
       "  </tbody>\n",
       "</table>\n",
       "</div>"
      ],
      "text/plain": [
       "   age  categ\n",
       "0   56      0\n",
       "1   56      0\n",
       "2   56      0\n",
       "3   45      0\n",
       "4   45      0"
      ]
     },
     "execution_count": 118,
     "metadata": {},
     "output_type": "execute_result"
    }
   ],
   "source": [
    "# Analyse d'une variable quantitative et une variable qualitative \n",
    "lien_age_categ = df.loc[:, ['age', 'categ']]\n",
    "lien_age_categ.head()"
   ]
  },
  {
   "cell_type": "code",
   "execution_count": 119,
   "id": "af44f79e",
   "metadata": {},
   "outputs": [],
   "source": [
    "# Je convertis la variable 'categ' en string pour mon graphique\n",
    "lien_age_categ['categ'] = lien_age_categ['categ'].astype(str)"
   ]
  },
  {
   "cell_type": "code",
   "execution_count": 120,
   "id": "50b1f518",
   "metadata": {},
   "outputs": [
    {
     "data": {
      "image/png": "[encoded data removed]",
      "text/plain": [
       "<Figure size 640x480 with 1 Axes>"
      ]
     },
     "metadata": {},
     "output_type": "display_data"
    }
   ],
   "source": [
    "# Je trace une boîte à moustaches pour visualiser la distribution des âges pour chaque catégorie\n",
    "sns.boxplot(x='age', y='categ', data=lien_age_categ )\n",
    "# Je calcule les moyennes pour chaque groupe de categ\n",
    "means = lien_age_categ.groupby('categ')['age'].mean()\n",
    "plt.plot(means, [0, 1, 2], 'ro')\n",
    "plt.title('Distribution des âges pour chaque catégorie')\n",
    "plt.show()"
   ]
  },
  {
   "cell_type": "markdown",
   "id": "29e78a59",
   "metadata": {},
   "source": [
    "#### Les points rouges au milieu de chaque boîte à moustache représentent la moyenne des âges. On observe ici qu'elle est très différents d'une catégorie à l'autre. On voit également que les categories 2 et 1 comptent le plus de valeurs aberrantes. "
   ]
  },
  {
   "cell_type": "code",
   "execution_count": 121,
   "id": "a7f0d94e",
   "metadata": {},
   "outputs": [
    {
     "data": {
      "text/plain": [
       "KstestResult(statistic=1.0, pvalue=0.0)"
      ]
     },
     "execution_count": 121,
     "metadata": {},
     "output_type": "execute_result"
    }
   ],
   "source": [
    "# Je vérifie si la variable 'age' est normalement distribuée (suivent la loi normale) avec le test de kolmogorov-smirnov \n",
    "st.kstest(lien_age_categ.age, 'norm')"
   ]
  },
  {
   "cell_type": "markdown",
   "id": "d71d38c2",
   "metadata": {},
   "source": [
    "#### Je rejette l'hypothèse nulle, car la p-value  = 0.0  La variable âge ne suis pas la normalité.\n"
   ]
  },
  {
   "cell_type": "code",
   "execution_count": 122,
   "id": "d8fef7ce",
   "metadata": {},
   "outputs": [
    {
     "name": "stdout",
     "output_type": "stream",
     "text": [
      "Test de Levene : Statistique=26085.920, p=0.000\n",
      "Les variances ne sont pas homogènes\n"
     ]
    }
   ],
   "source": [
    "# Je Vérifie également l'égalité des variances dans chaque catégorie avec le test de levene \n",
    "from scipy.stats import levene\n",
    "# Je crée les trois échantillons en fonction des trois modalités de la variable 'categ'\n",
    "a = lien_age_categ[lien_age_categ['categ'] == 0]['age']\n",
    "b = lien_age_categ[lien_age_categ['categ'] == 1]['age']\n",
    "c = lien_age_categ[lien_age_categ['categ'] == 2]['age']\n",
    "\n",
    "stat, p_value = levene(a, b, c)\n",
    "print(\"Test de Levene : Statistique=%.3f, p=%.3f\" % (stat, p_value))\n",
    "\n",
    "if p_value > 0.05:\n",
    "    print('Les variances sont homogènes')\n",
    "else:\n",
    "    print('Les variances ne sont pas homogènes')"
   ]
  },
  {
   "cell_type": "markdown",
   "id": "068931d4",
   "metadata": {},
   "source": [
    "#### Le test de Levene suggère que les variances ne sont pas égales entre les échantillons a, b et c car car la p-value  = 0.0 qui est donc < 0.05. Cela signifie que si j'utilise l'analyse de variance (ANOVA) qui est une méthode de test qui suppose l'égalité des variances, mes résultats peuvent être biaisés. Je vais donc opter pour le  test de Kruskal-Wallis comme alternative au test ANOVA car les données ne suivent pas une distribution normale  et les variances ne sont pas égales entre les categories."
   ]
  },
  {
   "cell_type": "code",
   "execution_count": 123,
   "id": "d4db24e8",
   "metadata": {},
   "outputs": [
    {
     "name": "stdout",
     "output_type": "stream",
     "text": [
      "Test de Kruskal-Wallis : Statistique=79346.099, p=0.000\n"
     ]
    }
   ],
   "source": [
    "# J'éffectue le test de kruskall-wallis (non paramétrique) \n",
    "from scipy.stats import kruskal\n",
    "stat, p_value = kruskal(a, b, c)\n",
    "print(\"Test de Kruskal-Wallis : Statistique=%.3f, p=%.3f\" % (stat, p_value))"
   ]
  },
  {
   "cell_type": "markdown",
   "id": "2c001967",
   "metadata": {},
   "source": [
    "#### La p-value est égale à 0.0, ce qui est inférieur à 0.05. Je rejete donc l'hypothèse nulle et je conclure qu'au moins un groupe diffère significativement des autres en moyenne. En d'autres termes, il existe une différence significative entre les catégories de livres achetés en fonction de l'âge des clients. Les deux variables sont corrélées."
   ]
  },
  {
   "cell_type": "code",
   "execution_count": null,
   "id": "bc086981",
   "metadata": {},
   "outputs": [],
   "source": []
  }
 ],
 "metadata": {
  "kernelspec": {
   "display_name": "Python 3 (ipykernel)",
   "language": "python",
   "name": "python3"
  },
  "language_info": {
   "codemirror_mode": {
    "name": "ipython",
    "version": 3
   },
   "file_extension": ".py",
   "mimetype": "text/x-python",
   "name": "python",
   "nbconvert_exporter": "python",
   "pygments_lexer": "ipython3",
   "version": "3.9.13"
  }
 },
 "nbformat": 4,
 "nbformat_minor": 5
}
